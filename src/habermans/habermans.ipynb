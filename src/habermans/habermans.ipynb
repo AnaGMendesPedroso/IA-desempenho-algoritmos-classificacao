{
 "cells": [
  {
   "cell_type": "code",
   "execution_count": 1,
   "metadata": {
    "collapsed": true
   },
   "outputs": [
    {
     "name": "stdout",
     "output_type": "stream",
     "text": [
      "\n",
      "Dataset Haberman:\n"
     ]
    },
    {
     "data": {
      "text/plain": "     Age of patient at time of operation  Patients year of operation  \\\n0                                     30                          64   \n1                                     30                          62   \n2                                     30                          65   \n3                                     31                          59   \n4                                     31                          65   \n..                                   ...                         ...   \n301                                   75                          62   \n302                                   76                          67   \n303                                   77                          65   \n304                                   78                          65   \n305                                   83                          58   \n\n     Number of positive axillary nodes detected  Survival status  \n0                                             1                1  \n1                                             3                1  \n2                                             0                1  \n3                                             2                1  \n4                                             4                1  \n..                                          ...              ...  \n301                                           1                1  \n302                                           0                1  \n303                                           3                1  \n304                                           1                2  \n305                                           2                2  \n\n[306 rows x 4 columns]",
      "text/html": "<div>\n<style scoped>\n    .dataframe tbody tr th:only-of-type {\n        vertical-align: middle;\n    }\n\n    .dataframe tbody tr th {\n        vertical-align: top;\n    }\n\n    .dataframe thead th {\n        text-align: right;\n    }\n</style>\n<table border=\"1\" class=\"dataframe\">\n  <thead>\n    <tr style=\"text-align: right;\">\n      <th></th>\n      <th>Age of patient at time of operation</th>\n      <th>Patients year of operation</th>\n      <th>Number of positive axillary nodes detected</th>\n      <th>Survival status</th>\n    </tr>\n  </thead>\n  <tbody>\n    <tr>\n      <th>0</th>\n      <td>30</td>\n      <td>64</td>\n      <td>1</td>\n      <td>1</td>\n    </tr>\n    <tr>\n      <th>1</th>\n      <td>30</td>\n      <td>62</td>\n      <td>3</td>\n      <td>1</td>\n    </tr>\n    <tr>\n      <th>2</th>\n      <td>30</td>\n      <td>65</td>\n      <td>0</td>\n      <td>1</td>\n    </tr>\n    <tr>\n      <th>3</th>\n      <td>31</td>\n      <td>59</td>\n      <td>2</td>\n      <td>1</td>\n    </tr>\n    <tr>\n      <th>4</th>\n      <td>31</td>\n      <td>65</td>\n      <td>4</td>\n      <td>1</td>\n    </tr>\n    <tr>\n      <th>...</th>\n      <td>...</td>\n      <td>...</td>\n      <td>...</td>\n      <td>...</td>\n    </tr>\n    <tr>\n      <th>301</th>\n      <td>75</td>\n      <td>62</td>\n      <td>1</td>\n      <td>1</td>\n    </tr>\n    <tr>\n      <th>302</th>\n      <td>76</td>\n      <td>67</td>\n      <td>0</td>\n      <td>1</td>\n    </tr>\n    <tr>\n      <th>303</th>\n      <td>77</td>\n      <td>65</td>\n      <td>3</td>\n      <td>1</td>\n    </tr>\n    <tr>\n      <th>304</th>\n      <td>78</td>\n      <td>65</td>\n      <td>1</td>\n      <td>2</td>\n    </tr>\n    <tr>\n      <th>305</th>\n      <td>83</td>\n      <td>58</td>\n      <td>2</td>\n      <td>2</td>\n    </tr>\n  </tbody>\n</table>\n<p>306 rows × 4 columns</p>\n</div>"
     },
     "execution_count": 1,
     "metadata": {},
     "output_type": "execute_result"
    }
   ],
   "source": [
    "from sklearn.model_selection import GridSearchCV\n",
    "from sklearn.neighbors import KNeighborsClassifier\n",
    "from sklearn.naive_bayes import GaussianNB\n",
    "from sklearn.linear_model import LogisticRegression\n",
    "from sklearn.neural_network import MLPClassifier\n",
    "from sklearn import model_selection\n",
    "from sklearn.preprocessing import StandardScaler\n",
    "from sklearn import metrics\n",
    "import pandas as pd\n",
    "import numpy as np\n",
    "from sklearn.tree import DecisionTreeClassifier\n",
    "\n",
    "\n",
    "dataset_haberman = pd.read_table('haberman.data', sep=',')\n",
    "print(\"\\nDataset Haberman:\")\n",
    "dataset_haberman"
   ]
  },
  {
   "cell_type": "code",
   "execution_count": 2,
   "metadata": {
    "pycharm": {
     "name": "#%%\n"
    }
   },
   "outputs": [
    {
     "data": {
      "text/plain": "Index(['Age of patient at time of operation', 'Patients year of operation',\n       'Number of positive axillary nodes detected', 'Survival status'],\n      dtype='object')"
     },
     "execution_count": 2,
     "metadata": {},
     "output_type": "execute_result"
    }
   ],
   "source": [
    "dataset_haberman.columns"
   ]
  },
  {
   "cell_type": "code",
   "execution_count": 3,
   "metadata": {
    "pycharm": {
     "name": "#%%\n"
    }
   },
   "outputs": [
    {
     "name": "stdout",
     "output_type": "stream",
     "text": [
      "\n",
      "Dataset Haberman Normalized:\n"
     ]
    },
    {
     "data": {
      "text/plain": "     Age of patient at time of operation  Patients year of operation  \\\n0                              -2.082140                    0.353584   \n1                              -2.082140                   -0.262921   \n2                              -2.082140                    0.661837   \n3                              -1.989426                   -1.187680   \n4                              -1.989426                    0.661837   \n..                                   ...                         ...   \n301                             2.090018                   -0.262921   \n302                             2.182732                    1.278342   \n303                             2.275447                    0.661837   \n304                             2.368162                    0.661837   \n305                             2.831735                   -1.495933   \n\n     Number of positive axillary nodes detected  Survival status  \n0                                     -0.421592                1  \n1                                     -0.142959                1  \n2                                     -0.560909                1  \n3                                     -0.282275                1  \n4                                     -0.003642                1  \n..                                          ...              ...  \n301                                   -0.421592                1  \n302                                   -0.560909                1  \n303                                   -0.142959                1  \n304                                   -0.421592                2  \n305                                   -0.282275                2  \n\n[306 rows x 4 columns]",
      "text/html": "<div>\n<style scoped>\n    .dataframe tbody tr th:only-of-type {\n        vertical-align: middle;\n    }\n\n    .dataframe tbody tr th {\n        vertical-align: top;\n    }\n\n    .dataframe thead th {\n        text-align: right;\n    }\n</style>\n<table border=\"1\" class=\"dataframe\">\n  <thead>\n    <tr style=\"text-align: right;\">\n      <th></th>\n      <th>Age of patient at time of operation</th>\n      <th>Patients year of operation</th>\n      <th>Number of positive axillary nodes detected</th>\n      <th>Survival status</th>\n    </tr>\n  </thead>\n  <tbody>\n    <tr>\n      <th>0</th>\n      <td>-2.082140</td>\n      <td>0.353584</td>\n      <td>-0.421592</td>\n      <td>1</td>\n    </tr>\n    <tr>\n      <th>1</th>\n      <td>-2.082140</td>\n      <td>-0.262921</td>\n      <td>-0.142959</td>\n      <td>1</td>\n    </tr>\n    <tr>\n      <th>2</th>\n      <td>-2.082140</td>\n      <td>0.661837</td>\n      <td>-0.560909</td>\n      <td>1</td>\n    </tr>\n    <tr>\n      <th>3</th>\n      <td>-1.989426</td>\n      <td>-1.187680</td>\n      <td>-0.282275</td>\n      <td>1</td>\n    </tr>\n    <tr>\n      <th>4</th>\n      <td>-1.989426</td>\n      <td>0.661837</td>\n      <td>-0.003642</td>\n      <td>1</td>\n    </tr>\n    <tr>\n      <th>...</th>\n      <td>...</td>\n      <td>...</td>\n      <td>...</td>\n      <td>...</td>\n    </tr>\n    <tr>\n      <th>301</th>\n      <td>2.090018</td>\n      <td>-0.262921</td>\n      <td>-0.421592</td>\n      <td>1</td>\n    </tr>\n    <tr>\n      <th>302</th>\n      <td>2.182732</td>\n      <td>1.278342</td>\n      <td>-0.560909</td>\n      <td>1</td>\n    </tr>\n    <tr>\n      <th>303</th>\n      <td>2.275447</td>\n      <td>0.661837</td>\n      <td>-0.142959</td>\n      <td>1</td>\n    </tr>\n    <tr>\n      <th>304</th>\n      <td>2.368162</td>\n      <td>0.661837</td>\n      <td>-0.421592</td>\n      <td>2</td>\n    </tr>\n    <tr>\n      <th>305</th>\n      <td>2.831735</td>\n      <td>-1.495933</td>\n      <td>-0.282275</td>\n      <td>2</td>\n    </tr>\n  </tbody>\n</table>\n<p>306 rows × 4 columns</p>\n</div>"
     },
     "execution_count": 3,
     "metadata": {},
     "output_type": "execute_result"
    }
   ],
   "source": [
    "haberman_normalised = dataset_haberman.values.copy()\n",
    "normalizador =  StandardScaler()\n",
    "\n",
    "haberman_normalised = normalizador.fit_transform(dataset_haberman)\n",
    "dataset_haberman['Age of patient at time of operation'] = haberman_normalised[:,0]\n",
    "dataset_haberman['Patients year of operation'] = haberman_normalised[:,1]\n",
    "dataset_haberman['Number of positive axillary nodes detected'] = haberman_normalised[:,2]\n",
    "\n",
    "print(\"\\nDataset Haberman Normalized:\")\n",
    "dataset_haberman"
   ]
  },
  {
   "cell_type": "code",
   "execution_count": 4,
   "metadata": {
    "pycharm": {
     "name": "#%%\n"
    }
   },
   "outputs": [
    {
     "name": "stdout",
     "output_type": "stream",
     "text": [
      "\n",
      "Haberman valores dos atributos:\n",
      "\n",
      "[[-2.08214014e+00  3.53584065e-01 -4.21592031e-01]\n",
      " [-2.08214014e+00 -2.62921484e-01 -1.42958853e-01]\n",
      " [-2.08214014e+00  6.61836839e-01 -5.60908620e-01]\n",
      " [-1.98942552e+00 -1.18767981e+00 -2.82275442e-01]\n",
      " [-1.98942552e+00  6.61836839e-01 -3.64226377e-03]\n",
      " [-1.80399628e+00 -1.49593258e+00  8.32257270e-01]\n",
      " [-1.80399628e+00 -8.79427033e-01 -5.60908620e-01]\n",
      " [-1.71128165e+00 -1.18767981e+00 -5.60908620e-01]\n",
      " [-1.71128165e+00  9.70089614e-01  6.92940681e-01]\n",
      " [-1.71128165e+00 -1.49593258e+00  3.61858905e+00]\n",
      " [-1.71128165e+00 -8.79427033e-01 -4.21592031e-01]\n",
      " [-1.71128165e+00 -5.71174259e-01  8.32257270e-01]\n",
      " [-1.71128165e+00  1.27834239e+00  4.14307503e-01]\n",
      " [-1.71128165e+00 -8.79427033e-01 -5.60908620e-01]\n",
      " [-1.61856703e+00  3.53584065e-01  1.25020704e+00]\n",
      " [-1.61856703e+00  4.53312904e-02 -5.60908620e-01]\n",
      " [-1.52585241e+00 -8.79427033e-01 -4.21592031e-01]\n",
      " [-1.52585241e+00  1.89484794e+00 -5.60908620e-01]\n",
      " [-1.43313779e+00 -8.79427033e-01 -5.60908620e-01]\n",
      " [-1.43313779e+00  4.53312904e-02 -5.60908620e-01]\n",
      " [-1.43313779e+00 -1.49593258e+00 -5.60908620e-01]\n",
      " [-1.43313779e+00 -1.18767981e+00  2.74990914e-01]\n",
      " [-1.43313779e+00 -8.79427033e-01  1.52884022e+00]\n",
      " [-1.43313779e+00  4.53312904e-02 -5.60908620e-01]\n",
      " [-1.34042317e+00  1.89484794e+00  2.36473975e+00]\n",
      " [-1.34042317e+00 -1.18767981e+00 -2.82275442e-01]\n",
      " [-1.34042317e+00 -8.79427033e-01 -5.60908620e-01]\n",
      " [-1.34042317e+00 -8.79427033e-01 -5.60908620e-01]\n",
      " [-1.34042317e+00 -2.62921484e-01 -1.42958853e-01]\n",
      " [-1.34042317e+00  3.53584065e-01 -4.21592031e-01]\n",
      " [-1.34042317e+00  9.70089614e-01 -5.60908620e-01]\n",
      " [-1.34042317e+00  9.70089614e-01  9.71573859e-01]\n",
      " [-1.34042317e+00 -8.79427033e-01 -4.21592031e-01]\n",
      " [-1.34042317e+00  1.27834239e+00  1.35674325e-01]\n",
      " [-1.24770854e+00  9.70089614e-01 -5.60908620e-01]\n",
      " [-1.24770854e+00  4.53312904e-02 -5.60908620e-01]\n",
      " [-1.24770854e+00  1.27834239e+00 -5.60908620e-01]\n",
      " [-1.24770854e+00 -1.49593258e+00 -5.60908620e-01]\n",
      " [-1.24770854e+00 -1.18767981e+00 -2.82275442e-01]\n",
      " [-1.24770854e+00  4.53312904e-02 -3.64226377e-03]\n",
      " [-1.15499392e+00 -1.49593258e+00 -2.82275442e-01]\n",
      " [-1.15499392e+00 -1.49593258e+00 -5.60908620e-01]\n",
      " [-1.15499392e+00  6.61836839e-01 -5.60908620e-01]\n",
      " [-1.06227930e+00 -8.79427033e-01  2.64337293e+00]\n",
      " [-1.06227930e+00  3.53584065e-01 -5.60908620e-01]\n",
      " [-1.06227930e+00  1.27834239e+00 -5.60908620e-01]\n",
      " [-1.06227930e+00 -1.49593258e+00 -5.60908620e-01]\n",
      " [-1.06227930e+00 -1.18767981e+00  5.53624092e-01]\n",
      " [-1.06227930e+00 -1.18767981e+00 -5.60908620e-01]\n",
      " [-1.06227930e+00  3.53584065e-01 -5.60908620e-01]\n",
      " [-1.06227930e+00  1.89484794e+00  5.53624092e-01]\n",
      " [-1.06227930e+00  6.61836839e-01 -5.60908620e-01]\n",
      " [-1.06227930e+00  6.61836839e-01 -5.60908620e-01]\n",
      " [-9.69564676e-01  1.89484794e+00 -4.21592031e-01]\n",
      " [-9.69564676e-01 -1.18767981e+00 -5.60908620e-01]\n",
      " [-9.69564676e-01 -1.49593258e+00 -5.60908620e-01]\n",
      " [-9.69564676e-01 -8.79427033e-01 -4.21592031e-01]\n",
      " [-9.69564676e-01 -1.18767981e+00 -2.82275442e-01]\n",
      " [-9.69564676e-01 -5.71174259e-01 -3.64226377e-03]\n",
      " [-9.69564676e-01 -2.62921484e-01  2.22542316e+00]\n",
      " [-9.69564676e-01  6.61836839e-01 -5.60908620e-01]\n",
      " [-9.69564676e-01  4.53312904e-02 -4.21592031e-01]\n",
      " [-8.76850054e-01 -1.49593258e+00  6.68355401e+00]\n",
      " [-8.76850054e-01 -1.18767981e+00 -2.82275442e-01]\n",
      " [-8.76850054e-01  3.53584065e-01 -5.60908620e-01]\n",
      " [-8.76850054e-01  3.53584065e-01 -5.60908620e-01]\n",
      " [-8.76850054e-01  4.53312904e-02  1.38952363e+00]\n",
      " [-8.76850054e-01  3.53584065e-01 -2.82275442e-01]\n",
      " [-8.76850054e-01  3.53584065e-01 -1.42958853e-01]\n",
      " [-8.76850054e-01 -8.79427033e-01 -5.60908620e-01]\n",
      " [-8.76850054e-01  4.53312904e-02 -2.82275442e-01]\n",
      " [-8.76850054e-01  6.61836839e-01 -5.60908620e-01]\n",
      " [-8.76850054e-01  9.70089614e-01 -3.64226377e-03]\n",
      " [-7.84135432e-01  3.53584065e-01  2.74990914e-01]\n",
      " [-7.84135432e-01 -1.49593258e+00  6.92940681e-01]\n",
      " [-7.84135432e-01  4.53312904e-02  2.08610657e+00]\n",
      " [-7.84135432e-01 -5.71174259e-01 -5.60908620e-01]\n",
      " [-7.84135432e-01  4.53312904e-02 -4.21592031e-01]\n",
      " [-7.84135432e-01 -5.71174259e-01 -5.60908620e-01]\n",
      " [-7.84135432e-01  1.27834239e+00  1.66815680e+00]\n",
      " [-6.91420810e-01  6.61836839e-01  2.74990914e-01]\n",
      " [-6.91420810e-01  9.70089614e-01 -5.60908620e-01]\n",
      " [-6.91420810e-01  1.27834239e+00 -4.21592031e-01]\n",
      " [-6.91420810e-01 -8.79427033e-01 -5.60908620e-01]\n",
      " [-6.91420810e-01  1.27834239e+00 -5.60908620e-01]\n",
      " [-6.91420810e-01 -1.18767981e+00  1.38952363e+00]\n",
      " [-6.91420810e-01  3.53584065e-01 -5.60908620e-01]\n",
      " [-6.91420810e-01  1.58659516e+00 -5.60908620e-01]\n",
      " [-6.91420810e-01  1.27834239e+00 -4.21592031e-01]\n",
      " [-5.98706188e-01 -1.49593258e+00 -2.82275442e-01]\n",
      " [-5.98706188e-01  1.89484794e+00 -1.42958853e-01]\n",
      " [-5.98706188e-01 -2.62921484e-01  1.35674325e-01]\n",
      " [-5.98706188e-01  6.61836839e-01  2.22542316e+00]\n",
      " [-5.98706188e-01 -2.62921484e-01 -5.60908620e-01]\n",
      " [-5.98706188e-01 -1.49593258e+00 -1.42958853e-01]\n",
      " [-5.98706188e-01  4.53312904e-02 -5.60908620e-01]\n",
      " [-5.05991565e-01  4.53312904e-02  2.64337293e+00]\n",
      " [-5.05991565e-01 -2.62921484e-01 -5.60908620e-01]\n",
      " [-5.05991565e-01  6.61836839e-01 -5.60908620e-01]\n",
      " [-5.05991565e-01 -5.71174259e-01 -5.60908620e-01]\n",
      " [-5.05991565e-01  4.53312904e-02  2.74990914e-01]\n",
      " [-5.05991565e-01  9.70089614e-01 -5.60908620e-01]\n",
      " [-5.05991565e-01  1.27834239e+00 -5.60908620e-01]\n",
      " [-5.05991565e-01 -1.49593258e+00 -1.42958853e-01]\n",
      " [-5.05991565e-01 -8.79427033e-01 -3.64226377e-03]\n",
      " [-5.05991565e-01  1.58659516e+00 -3.64226377e-03]\n",
      " [-5.05991565e-01  9.70089614e-01  1.11089045e+00]\n",
      " [-4.13276943e-01 -1.49593258e+00  9.71573859e-01]\n",
      " [-4.13276943e-01 -1.49593258e+00  9.71573859e-01]\n",
      " [-4.13276943e-01  1.27834239e+00  4.14307503e-01]\n",
      " [-4.13276943e-01 -5.71174259e-01  5.53624092e-01]\n",
      " [-4.13276943e-01 -2.62921484e-01 -2.82275442e-01]\n",
      " [-4.13276943e-01  3.53584065e-01 -5.60908620e-01]\n",
      " [-4.13276943e-01  9.70089614e-01 -5.60908620e-01]\n",
      " [-3.20562321e-01  4.53312904e-02 -5.60908620e-01]\n",
      " [-3.20562321e-01  3.53584065e-01  8.32257270e-01]\n",
      " [-3.20562321e-01 -5.71174259e-01 -4.21592031e-01]\n",
      " [-3.20562321e-01 -2.62921484e-01 -5.60908620e-01]\n",
      " [-3.20562321e-01  9.70089614e-01 -5.60908620e-01]\n",
      " [-3.20562321e-01 -8.79427033e-01 -4.21592031e-01]\n",
      " [-3.20562321e-01 -2.62921484e-01 -4.21592031e-01]\n",
      " [-3.20562321e-01  4.53312904e-02 -1.42958853e-01]\n",
      " [-3.20562321e-01 -5.71174259e-01 -5.60908620e-01]\n",
      " [-3.20562321e-01  1.27834239e+00 -4.21592031e-01]\n",
      " [-2.27847699e-01  4.53312904e-02  1.25020704e+00]\n",
      " [-2.27847699e-01  3.53584065e-01 -5.60908620e-01]\n",
      " [-2.27847699e-01 -1.18767981e+00 -5.60908620e-01]\n",
      " [-2.27847699e-01 -5.71174259e-01  2.74990914e-01]\n",
      " [-2.27847699e-01 -5.71174259e-01 -5.60908620e-01]\n",
      " [-2.27847699e-01  4.53312904e-02 -4.21592031e-01]\n",
      " [-2.27847699e-01 -1.49593258e+00 -4.21592031e-01]\n",
      " [-2.27847699e-01 -1.18767981e+00 -2.82275442e-01]\n",
      " [-2.27847699e-01 -5.71174259e-01 -5.60908620e-01]\n",
      " [-2.27847699e-01  3.53584065e-01 -5.60908620e-01]\n",
      " [-2.27847699e-01  6.61836839e-01 -3.64226377e-03]\n",
      " [-2.27847699e-01  9.70089614e-01 -4.21592031e-01]\n",
      " [-1.35133077e-01 -1.18767981e+00  1.25020704e+00]\n",
      " [-1.35133077e-01 -1.18767981e+00 -1.42958853e-01]\n",
      " [-1.35133077e-01  3.53584065e-01  4.14307503e-01]\n",
      " [-1.35133077e-01 -1.18767981e+00 -4.21592031e-01]\n",
      " [-1.35133077e-01  6.61836839e-01 -5.60908620e-01]\n",
      " [-1.35133077e-01  9.70089614e-01 -4.21592031e-01]\n",
      " [-4.24184546e-02  1.89484794e+00 -1.42958853e-01]\n",
      " [-4.24184546e-02 -1.18767981e+00 -2.82275442e-01]\n",
      " [-4.24184546e-02 -2.62921484e-01 -1.42958853e-01]\n",
      " [-4.24184546e-02  9.70089614e-01 -3.64226377e-03]\n",
      " [-4.24184546e-02 -5.71174259e-01 -5.60908620e-01]\n",
      " [-4.24184546e-02  4.53312904e-02 -3.64226377e-03]\n",
      " [-4.24184546e-02  1.89484794e+00 -5.60908620e-01]\n",
      " [-4.24184546e-02 -8.79427033e-01 -3.64226377e-03]\n",
      " [-4.24184546e-02 -8.79427033e-01  1.35674325e-01]\n",
      " [-4.24184546e-02 -2.62921484e-01 -5.60908620e-01]\n",
      " [-4.24184546e-02 -2.62921484e-01 -4.21592031e-01]\n",
      " [-4.24184546e-02  3.53584065e-01 -5.60908620e-01]\n",
      " [-4.24184546e-02  6.61836839e-01 -5.60908620e-01]\n",
      " [-4.24184546e-02  1.58659516e+00 -5.60908620e-01]\n",
      " [ 5.02961676e-02 -1.49593258e+00 -3.64226377e-03]\n",
      " [ 5.02961676e-02  6.61836839e-01 -4.21592031e-01]\n",
      " [ 5.02961676e-02 -1.18767981e+00 -1.42958853e-01]\n",
      " [ 5.02961676e-02 -8.79427033e-01  6.92940681e-01]\n",
      " [ 5.02961676e-02  4.53312904e-02  2.78268952e+00]\n",
      " [ 5.02961676e-02  6.61836839e-01  1.11089045e+00]\n",
      " [ 5.02961676e-02 -1.49593258e+00 -4.21592031e-01]\n",
      " [ 5.02961676e-02 -8.79427033e-01 -4.21592031e-01]\n",
      " [ 5.02961676e-02 -8.79427033e-01 -2.82275442e-01]\n",
      " [ 5.02961676e-02 -5.71174259e-01 -4.21592031e-01]\n",
      " [ 5.02961676e-02  4.53312904e-02 -5.60908620e-01]\n",
      " [ 1.43010790e-01 -8.79427033e-01  9.71573859e-01]\n",
      " [ 1.43010790e-01  6.61836839e-01  2.64337293e+00]\n",
      " [ 1.43010790e-01  6.61836839e-01  1.35674325e-01]\n",
      " [ 1.43010790e-01  1.58659516e+00  4.14307503e-01]\n",
      " [ 1.43010790e-01 -1.18767981e+00  4.14307503e-01]\n",
      " [ 1.43010790e-01 -8.79427033e-01 -1.42958853e-01]\n",
      " [ 1.43010790e-01  9.70089614e-01 -5.60908620e-01]\n",
      " [ 1.43010790e-01  1.27834239e+00  5.84765448e+00]\n",
      " [ 1.43010790e-01 -2.62921484e-01 -5.60908620e-01]\n",
      " [ 1.43010790e-01  1.89484794e+00  4.14307503e-01]\n",
      " [ 1.43010790e-01  4.53312904e-02  2.08610657e+00]\n",
      " [ 1.43010790e-01 -1.49593258e+00 -4.21592031e-01]\n",
      " [ 1.43010790e-01 -2.62921484e-01 -5.60908620e-01]\n",
      " [ 2.35725412e-01  4.53312904e-02  2.74990914e-01]\n",
      " [ 2.35725412e-01  1.58659516e+00  1.52884022e+00]\n",
      " [ 2.35725412e-01 -1.49593258e+00 -4.21592031e-01]\n",
      " [ 2.35725412e-01 -1.49593258e+00 -5.60908620e-01]\n",
      " [ 2.35725412e-01 -1.49593258e+00 -4.21592031e-01]\n",
      " [ 2.35725412e-01  9.70089614e-01  1.94678998e+00]\n",
      " [ 2.35725412e-01  9.70089614e-01 -5.60908620e-01]\n",
      " [ 2.35725412e-01  1.89484794e+00 -1.42958853e-01]\n",
      " [ 2.35725412e-01  1.89484794e+00  2.50405634e+00]\n",
      " [ 2.35725412e-01  1.27834239e+00 -4.21592031e-01]\n",
      " [ 3.28440034e-01  6.61836839e-01  6.92940681e-01]\n",
      " [ 3.28440034e-01  9.70089614e-01 -1.42958853e-01]\n",
      " [ 3.28440034e-01 -8.79427033e-01 -5.60908620e-01]\n",
      " [ 3.28440034e-01  9.70089614e-01 -2.82275442e-01]\n",
      " [ 3.28440034e-01  9.70089614e-01 -4.21592031e-01]\n",
      " [ 3.28440034e-01  1.27834239e+00 -5.60908620e-01]\n",
      " [ 3.28440034e-01 -8.79427033e-01 -5.60908620e-01]\n",
      " [ 4.21154656e-01 -5.71174259e-01  1.35674325e-01]\n",
      " [ 4.21154656e-01 -2.62921484e-01  1.38952363e+00]\n",
      " [ 4.21154656e-01  3.53584065e-01 -4.21592031e-01]\n",
      " [ 4.21154656e-01  3.53584065e-01  6.92940681e-01]\n",
      " [ 4.21154656e-01  1.89484794e+00 -5.60908620e-01]\n",
      " [ 4.21154656e-01 -5.71174259e-01 -5.60908620e-01]\n",
      " [ 4.21154656e-01 -2.62921484e-01 -5.60908620e-01]\n",
      " [ 4.21154656e-01  4.53312904e-02 -5.60908620e-01]\n",
      " [ 4.21154656e-01  3.53584065e-01 -5.60908620e-01]\n",
      " [ 4.21154656e-01  3.53584065e-01 -5.60908620e-01]\n",
      " [ 4.21154656e-01  1.27834239e+00 -5.60908620e-01]\n",
      " [ 5.13869278e-01 -1.18767981e+00 -5.60908620e-01]\n",
      " [ 5.13869278e-01 -8.79427033e-01 -1.42958853e-01]\n",
      " [ 5.13869278e-01 -5.71174259e-01 -4.21592031e-01]\n",
      " [ 5.13869278e-01  1.27834239e+00 -5.60908620e-01]\n",
      " [ 5.13869278e-01 -1.49593258e+00 -5.60908620e-01]\n",
      " [ 5.13869278e-01 -1.49593258e+00 -1.42958853e-01]\n",
      " [ 5.13869278e-01 -5.71174259e-01 -2.82275442e-01]\n",
      " [ 6.06583901e-01 -2.62921484e-01  4.31517200e+00]\n",
      " [ 6.06583901e-01 -8.79427033e-01 -5.60908620e-01]\n",
      " [ 6.06583901e-01  4.53312904e-02 -5.60908620e-01]\n",
      " [ 6.06583901e-01  3.53584065e-01 -4.21592031e-01]\n",
      " [ 6.06583901e-01  3.53584065e-01 -3.64226377e-03]\n",
      " [ 6.06583901e-01  3.53584065e-01 -5.60908620e-01]\n",
      " [ 6.06583901e-01  3.53584065e-01  4.14307503e-01]\n",
      " [ 6.06583901e-01  1.27834239e+00 -1.42958853e-01]\n",
      " [ 6.99298523e-01 -1.18767981e+00  1.80747339e+00]\n",
      " [ 6.99298523e-01  6.61836839e-01 -5.60908620e-01]\n",
      " [ 6.99298523e-01 -5.71174259e-01 -4.21592031e-01]\n",
      " [ 6.99298523e-01  1.27834239e+00 -2.82275442e-01]\n",
      " [ 6.99298523e-01 -5.71174259e-01  2.92200611e+00]\n",
      " [ 6.99298523e-01  3.53584065e-01 -5.60908620e-01]\n",
      " [ 7.92013145e-01 -2.62921484e-01  1.35674325e-01]\n",
      " [ 7.92013145e-01  6.61836839e-01 -5.60908620e-01]\n",
      " [ 7.92013145e-01  1.58659516e+00 -4.21592031e-01]\n",
      " [ 7.92013145e-01 -1.18767981e+00 -5.60908620e-01]\n",
      " [ 7.92013145e-01 -1.18767981e+00 -5.60908620e-01]\n",
      " [ 7.92013145e-01  3.53584065e-01 -5.60908620e-01]\n",
      " [ 7.92013145e-01  6.61836839e-01  5.53624092e-01]\n",
      " [ 7.92013145e-01  1.58659516e+00 -5.60908620e-01]\n",
      " [ 7.92013145e-01 -1.18767981e+00 -5.60908620e-01]\n",
      " [ 8.84727767e-01 -1.18767981e+00  1.25020704e+00]\n",
      " [ 8.84727767e-01 -1.49593258e+00 -5.60908620e-01]\n",
      " [ 8.84727767e-01  6.61836839e-01  2.08610657e+00]\n",
      " [ 8.84727767e-01 -2.62921484e-01  2.74990914e-01]\n",
      " [ 8.84727767e-01  9.70089614e-01 -5.60908620e-01]\n",
      " [ 8.84727767e-01  9.70089614e-01 -5.60908620e-01]\n",
      " [ 8.84727767e-01 -1.49593258e+00 -5.60908620e-01]\n",
      " [ 9.77442389e-01 -8.79427033e-01 -4.21592031e-01]\n",
      " [ 9.77442389e-01 -5.71174259e-01 -5.60908620e-01]\n",
      " [ 9.77442389e-01 -2.62921484e-01 -5.60908620e-01]\n",
      " [ 9.77442389e-01  4.53312904e-02 -5.60908620e-01]\n",
      " [ 9.77442389e-01  4.53312904e-02 -5.60908620e-01]\n",
      " [ 9.77442389e-01  9.70089614e-01 -5.60908620e-01]\n",
      " [ 9.77442389e-01 -5.71174259e-01  6.92940681e-01]\n",
      " [ 9.77442389e-01 -5.71174259e-01  3.33995587e+00]\n",
      " [ 1.07015701e+00 -1.49593258e+00 -5.60908620e-01]\n",
      " [ 1.07015701e+00  6.61836839e-01  2.50405634e+00]\n",
      " [ 1.07015701e+00  9.70089614e-01 -5.60908620e-01]\n",
      " [ 1.07015701e+00 -5.71174259e-01 -5.60908620e-01]\n",
      " [ 1.07015701e+00  1.58659516e+00 -5.60908620e-01]\n",
      " [ 1.16287163e+00 -1.49593258e+00 -5.60908620e-01]\n",
      " [ 1.16287163e+00 -5.71174259e-01 -2.82275442e-01]\n",
      " [ 1.16287163e+00 -2.62921484e-01  2.50405634e+00]\n",
      " [ 1.16287163e+00  9.70089614e-01  1.52884022e+00]\n",
      " [ 1.16287163e+00 -1.49593258e+00 -5.60908620e-01]\n",
      " [ 1.16287163e+00  3.53584065e-01 -5.60908620e-01]\n",
      " [ 1.16287163e+00  1.27834239e+00 -5.60908620e-01]\n",
      " [ 1.16287163e+00 -1.18767981e+00 -2.82275442e-01]\n",
      " [ 1.16287163e+00  3.53584065e-01 -5.60908620e-01]\n",
      " [ 1.16287163e+00  1.27834239e+00 -4.21592031e-01]\n",
      " [ 1.25558626e+00 -1.49593258e+00 -5.60908620e-01]\n",
      " [ 1.25558626e+00 -5.71174259e-01  1.25020704e+00]\n",
      " [ 1.25558626e+00 -1.49593258e+00 -5.60908620e-01]\n",
      " [ 1.25558626e+00 -1.49593258e+00 -4.21592031e-01]\n",
      " [ 1.25558626e+00  1.58659516e+00 -5.60908620e-01]\n",
      " [ 1.34830088e+00  3.53584065e-01  5.53624092e-01]\n",
      " [ 1.34830088e+00  4.53312904e-02 -4.21592031e-01]\n",
      " [ 1.34830088e+00  9.70089614e-01 -5.60908620e-01]\n",
      " [ 1.34830088e+00  9.70089614e-01 -5.60908620e-01]\n",
      " [ 1.34830088e+00 -5.71174259e-01 -5.60908620e-01]\n",
      " [ 1.34830088e+00  6.61836839e-01 -5.60908620e-01]\n",
      " [ 1.44101550e+00  1.27834239e+00 -5.60908620e-01]\n",
      " [ 1.44101550e+00  1.58659516e+00 -5.60908620e-01]\n",
      " [ 1.53373012e+00  1.27834239e+00  5.53624092e-01]\n",
      " [ 1.53373012e+00 -8.79427033e-01 -5.60908620e-01]\n",
      " [ 1.53373012e+00  6.61836839e-01 -5.60908620e-01]\n",
      " [ 1.53373012e+00  9.70089614e-01 -5.60908620e-01]\n",
      " [ 1.62644474e+00 -1.49593258e+00 -5.60908620e-01]\n",
      " [ 1.62644474e+00 -1.49593258e+00 -3.64226377e-03]\n",
      " [ 1.62644474e+00  9.70089614e-01  1.38952363e+00]\n",
      " [ 1.62644474e+00  1.27834239e+00 -5.60908620e-01]\n",
      " [ 1.62644474e+00  1.58659516e+00 -5.60908620e-01]\n",
      " [ 1.62644474e+00 -1.18767981e+00  5.53624092e-01]\n",
      " [ 1.62644474e+00  4.53312904e-02 -5.60908620e-01]\n",
      " [ 1.71915937e+00  1.58659516e+00 -2.82275442e-01]\n",
      " [ 1.81187399e+00  4.53312904e-02 -5.60908620e-01]\n",
      " [ 1.81187399e+00 -1.49593258e+00 -5.60908620e-01]\n",
      " [ 1.81187399e+00  3.53584065e-01 -5.60908620e-01]\n",
      " [ 1.81187399e+00  1.27834239e+00 -1.42958853e-01]\n",
      " [ 1.90458861e+00 -2.62921484e-01 -5.60908620e-01]\n",
      " [ 1.90458861e+00  1.58659516e+00 -5.60908620e-01]\n",
      " [ 1.99730323e+00  6.61836839e-01 -1.42958853e-01]\n",
      " [ 1.99730323e+00  4.53312904e-02 -5.60908620e-01]\n",
      " [ 2.09001786e+00 -2.62921484e-01 -4.21592031e-01]\n",
      " [ 2.18273248e+00  1.27834239e+00 -5.60908620e-01]\n",
      " [ 2.27544710e+00  6.61836839e-01 -1.42958853e-01]\n",
      " [ 2.36816172e+00  6.61836839e-01 -4.21592031e-01]\n",
      " [ 2.83173483e+00 -1.49593258e+00 -2.82275442e-01]]\n"
     ]
    }
   ],
   "source": [
    "haberman_values = dataset_haberman.iloc[:,0:3].values\n",
    "print(\"\\nHaberman valores dos atributos:\\n\")\n",
    "print(haberman_values)"
   ]
  },
  {
   "cell_type": "code",
   "execution_count": 5,
   "metadata": {
    "pycharm": {
     "name": "#%%\n"
    }
   },
   "outputs": [
    {
     "name": "stdout",
     "output_type": "stream",
     "text": [
      "\n",
      "Haberman classes:\n",
      "\n",
      "[1 1 1 1 1 1 1 2 2 1 1 1 1 1 1 1 1 1 1 1 1 1 1 1 2 1 1 1 1 1 1 1 1 1 2 1 1\n",
      " 1 1 1 1 1 1 2 2 2 1 1 1 1 1 1 1 2 2 1 1 1 1 1 1 1 2 2 2 2 1 1 1 1 1 1 1 2\n",
      " 2 2 1 1 1 1 2 2 2 1 1 1 1 1 1 2 2 2 2 1 1 1 2 2 2 1 1 1 1 1 1 1 1 2 2 2 1\n",
      " 1 1 1 2 2 1 1 1 1 1 1 1 1 2 2 1 1 1 1 1 1 1 1 1 1 2 2 1 1 1 1 2 2 2 2 1 1\n",
      " 1 1 1 1 1 1 1 1 2 2 2 2 2 2 1 1 1 1 1 2 2 2 2 1 1 1 1 1 1 1 1 1 2 2 1 1 1\n",
      " 1 1 1 1 1 2 2 1 1 1 1 1 2 2 2 1 1 1 1 1 1 1 1 1 1 1 1 1 1 1 2 1 1 1 1 1 1\n",
      " 1 2 2 1 1 1 1 2 2 2 1 1 1 1 1 1 2 2 2 1 1 1 1 2 1 1 1 1 1 1 1 1 1 1 1 1 2\n",
      " 2 2 2 1 1 1 1 1 1 2 2 1 1 1 2 2 1 1 1 1 1 1 2 1 1 1 2 2 1 1 1 1 1 1 2 1 1\n",
      " 1 1 1 2 1 1 1 1 2 2]\n",
      "\n",
      "Haberman classes shape:\n",
      "(306,)\n"
     ]
    }
   ],
   "source": [
    "haberman_classes = dataset_haberman.iloc[:,3].values\n",
    "print(\"\\nHaberman classes:\\n\")\n",
    "print(haberman_classes)\n",
    "print(\"\\nHaberman classes shape:\")\n",
    "print(haberman_classes.shape)"
   ]
  },
  {
   "cell_type": "code",
   "execution_count": 6,
   "metadata": {
    "pycharm": {
     "name": "#%%\n"
    }
   },
   "outputs": [],
   "source": [
    "kfold_treinamento = model_selection.StratifiedKFold(n_splits=5, shuffle=True, random_state=None)\n",
    "kfold_ajuste_parametros = model_selection.StratifiedKFold(n_splits=3, shuffle=True, random_state=None)"
   ]
  },
  {
   "cell_type": "code",
   "execution_count": 7,
   "metadata": {
    "pycharm": {
     "name": "#%%\n"
    }
   },
   "outputs": [
    {
     "name": "stdout",
     "output_type": "stream",
     "text": [
      "====== Iniciando busca pelos melhores parâmetros do algoritmo Arvore de decisao no dataset Transfusion ....\n",
      "\n",
      "Decision Tree: {'criterion': 'entropy', 'max_depth': 3, 'splitter': 'best'} \n",
      "\n",
      "\n"
     ]
    }
   ],
   "source": [
    "arvore_decisao = DecisionTreeClassifier()\n",
    "print(\"====== Iniciando busca pelos melhores parâmetros do algoritmo Arvore de decisao no dataset Transfusion ....\\n\")\n",
    "\n",
    "param_dist = {'max_depth':[3,4,5,6,7,8,9,10], 'criterion': ['entropy'], 'splitter':['best','random']}\n",
    "grid_search = GridSearchCV(arvore_decisao, param_grid=param_dist, cv=kfold_ajuste_parametros, scoring='accuracy', refit=False)\n",
    "grid_search.fit(haberman_values, haberman_classes)\n",
    "decisionTreeBestParams = grid_search.best_params_\n",
    "print(\"Decision Tree: %s \\n\\n\" % decisionTreeBestParams)"
   ]
  },
  {
   "cell_type": "code",
   "execution_count": 8,
   "outputs": [
    {
     "name": "stdout",
     "output_type": "stream",
     "text": [
      "====== Iniciando busca pelos melhores parâmetros do algoritmo KNN no dataset Transfusion ....\n",
      "\n",
      "KNN: {'metric': 'euclidean', 'n_neighbors': 9, 'weights': 'uniform'} \n",
      "\n",
      "\n"
     ]
    }
   ],
   "source": [
    "knn_vizinhos_proximos = KNeighborsClassifier()\n",
    "print(\"====== Iniciando busca pelos melhores parâmetros do algoritmo KNN no dataset Transfusion ....\\n\")\n",
    "\n",
    "param_dist = {'n_neighbors': list(np.arange(1, 10)), 'metric':['euclidean'], 'weights':['uniform', 'distance']} #Parâmetros testados\n",
    "grid_search = GridSearchCV(knn_vizinhos_proximos, param_grid=param_dist, cv=kfold_ajuste_parametros, scoring='accuracy', refit=False)\n",
    "grid_search.fit(haberman_values, haberman_classes)\n",
    "knnBestParams = grid_search.best_params_\n",
    "print(\"KNN: %s \\n\\n\" % knnBestParams)"
   ],
   "metadata": {
    "collapsed": false,
    "pycharm": {
     "name": "#%%\n"
    }
   }
  },
  {
   "cell_type": "code",
   "execution_count": 9,
   "outputs": [
    {
     "name": "stdout",
     "output_type": "stream",
     "text": [
      "====== Iniciando busca pelos melhores parâmetros do algoritmo Regressao logistica no dataset Transfusion ....\n",
      "\n",
      "Regressão logistica: {'max_iter': 600, 'penalty': 'none', 'solver': 'saga', 'tol': 1} \n",
      "\n",
      "\n"
     ]
    }
   ],
   "source": [
    "regressao_logistica = LogisticRegression()\n",
    "print(\"====== Iniciando busca pelos melhores parâmetros do algoritmo Regressao logistica no dataset Transfusion ....\\n\")\n",
    "\n",
    "param_dist = {'penalty':['l2','none'],'tol':[0.0001,0.001, 0.01, 0.1, 1], 'max_iter':[300,400,500,600],'solver':['lbfgs','saga']} #Parâmetros testados\n",
    "\n",
    "grid_search = GridSearchCV(regressao_logistica, param_grid=param_dist, cv=kfold_ajuste_parametros, scoring='accuracy', refit=False)\n",
    "grid_search.fit(haberman_values, haberman_classes)\n",
    "regressao_logistica_param = grid_search.best_params_\n",
    "print(\"Regressão logistica: %s \\n\\n\" % regressao_logistica_param)\n"
   ],
   "metadata": {
    "collapsed": false,
    "pycharm": {
     "name": "#%%\n"
    }
   }
  },
  {
   "cell_type": "code",
   "execution_count": null,
   "outputs": [
    {
     "name": "stdout",
     "output_type": "stream",
     "text": [
      "====== Iniciando busca pelos melhores parâmetros do algoritmo Redes neurais no dataset Transfusion ....\n",
      "\n"
     ]
    },
    {
     "name": "stderr",
     "output_type": "stream",
     "text": [
      "/home/anapedroso/Documentos/IA-desempenho-algoritmos-classificacao/env/lib/python3.8/site-packages/sklearn/neural_network/_multilayer_perceptron.py:582: ConvergenceWarning: Stochastic Optimizer: Maximum iterations (300) reached and the optimization hasn't converged yet.\n",
      "  warnings.warn(\n",
      "/home/anapedroso/Documentos/IA-desempenho-algoritmos-classificacao/env/lib/python3.8/site-packages/sklearn/neural_network/_multilayer_perceptron.py:582: ConvergenceWarning: Stochastic Optimizer: Maximum iterations (300) reached and the optimization hasn't converged yet.\n",
      "  warnings.warn(\n",
      "/home/anapedroso/Documentos/IA-desempenho-algoritmos-classificacao/env/lib/python3.8/site-packages/sklearn/neural_network/_multilayer_perceptron.py:582: ConvergenceWarning: Stochastic Optimizer: Maximum iterations (400) reached and the optimization hasn't converged yet.\n",
      "  warnings.warn(\n",
      "/home/anapedroso/Documentos/IA-desempenho-algoritmos-classificacao/env/lib/python3.8/site-packages/sklearn/neural_network/_multilayer_perceptron.py:582: ConvergenceWarning: Stochastic Optimizer: Maximum iterations (300) reached and the optimization hasn't converged yet.\n",
      "  warnings.warn(\n",
      "/home/anapedroso/Documentos/IA-desempenho-algoritmos-classificacao/env/lib/python3.8/site-packages/sklearn/neural_network/_multilayer_perceptron.py:582: ConvergenceWarning: Stochastic Optimizer: Maximum iterations (300) reached and the optimization hasn't converged yet.\n",
      "  warnings.warn(\n",
      "/home/anapedroso/Documentos/IA-desempenho-algoritmos-classificacao/env/lib/python3.8/site-packages/sklearn/neural_network/_multilayer_perceptron.py:582: ConvergenceWarning: Stochastic Optimizer: Maximum iterations (300) reached and the optimization hasn't converged yet.\n",
      "  warnings.warn(\n",
      "/home/anapedroso/Documentos/IA-desempenho-algoritmos-classificacao/env/lib/python3.8/site-packages/sklearn/neural_network/_multilayer_perceptron.py:582: ConvergenceWarning: Stochastic Optimizer: Maximum iterations (400) reached and the optimization hasn't converged yet.\n",
      "  warnings.warn(\n",
      "/home/anapedroso/Documentos/IA-desempenho-algoritmos-classificacao/env/lib/python3.8/site-packages/sklearn/neural_network/_multilayer_perceptron.py:582: ConvergenceWarning: Stochastic Optimizer: Maximum iterations (300) reached and the optimization hasn't converged yet.\n",
      "  warnings.warn(\n",
      "/home/anapedroso/Documentos/IA-desempenho-algoritmos-classificacao/env/lib/python3.8/site-packages/sklearn/neural_network/_multilayer_perceptron.py:582: ConvergenceWarning: Stochastic Optimizer: Maximum iterations (300) reached and the optimization hasn't converged yet.\n",
      "  warnings.warn(\n",
      "/home/anapedroso/Documentos/IA-desempenho-algoritmos-classificacao/env/lib/python3.8/site-packages/sklearn/neural_network/_multilayer_perceptron.py:582: ConvergenceWarning: Stochastic Optimizer: Maximum iterations (300) reached and the optimization hasn't converged yet.\n",
      "  warnings.warn(\n",
      "/home/anapedroso/Documentos/IA-desempenho-algoritmos-classificacao/env/lib/python3.8/site-packages/sklearn/neural_network/_multilayer_perceptron.py:582: ConvergenceWarning: Stochastic Optimizer: Maximum iterations (300) reached and the optimization hasn't converged yet.\n",
      "  warnings.warn(\n",
      "/home/anapedroso/Documentos/IA-desempenho-algoritmos-classificacao/env/lib/python3.8/site-packages/sklearn/neural_network/_multilayer_perceptron.py:582: ConvergenceWarning: Stochastic Optimizer: Maximum iterations (300) reached and the optimization hasn't converged yet.\n",
      "  warnings.warn(\n",
      "/home/anapedroso/Documentos/IA-desempenho-algoritmos-classificacao/env/lib/python3.8/site-packages/sklearn/neural_network/_multilayer_perceptron.py:582: ConvergenceWarning: Stochastic Optimizer: Maximum iterations (300) reached and the optimization hasn't converged yet.\n",
      "  warnings.warn(\n",
      "/home/anapedroso/Documentos/IA-desempenho-algoritmos-classificacao/env/lib/python3.8/site-packages/sklearn/neural_network/_multilayer_perceptron.py:582: ConvergenceWarning: Stochastic Optimizer: Maximum iterations (300) reached and the optimization hasn't converged yet.\n",
      "  warnings.warn(\n",
      "/home/anapedroso/Documentos/IA-desempenho-algoritmos-classificacao/env/lib/python3.8/site-packages/sklearn/neural_network/_multilayer_perceptron.py:582: ConvergenceWarning: Stochastic Optimizer: Maximum iterations (400) reached and the optimization hasn't converged yet.\n",
      "  warnings.warn(\n",
      "/home/anapedroso/Documentos/IA-desempenho-algoritmos-classificacao/env/lib/python3.8/site-packages/sklearn/neural_network/_multilayer_perceptron.py:582: ConvergenceWarning: Stochastic Optimizer: Maximum iterations (300) reached and the optimization hasn't converged yet.\n",
      "  warnings.warn(\n",
      "/home/anapedroso/Documentos/IA-desempenho-algoritmos-classificacao/env/lib/python3.8/site-packages/sklearn/neural_network/_multilayer_perceptron.py:582: ConvergenceWarning: Stochastic Optimizer: Maximum iterations (400) reached and the optimization hasn't converged yet.\n",
      "  warnings.warn(\n",
      "/home/anapedroso/Documentos/IA-desempenho-algoritmos-classificacao/env/lib/python3.8/site-packages/sklearn/neural_network/_multilayer_perceptron.py:582: ConvergenceWarning: Stochastic Optimizer: Maximum iterations (600) reached and the optimization hasn't converged yet.\n",
      "  warnings.warn(\n",
      "/home/anapedroso/Documentos/IA-desempenho-algoritmos-classificacao/env/lib/python3.8/site-packages/sklearn/neural_network/_multilayer_perceptron.py:582: ConvergenceWarning: Stochastic Optimizer: Maximum iterations (400) reached and the optimization hasn't converged yet.\n",
      "  warnings.warn(\n",
      "/home/anapedroso/Documentos/IA-desempenho-algoritmos-classificacao/env/lib/python3.8/site-packages/sklearn/neural_network/_multilayer_perceptron.py:582: ConvergenceWarning: Stochastic Optimizer: Maximum iterations (300) reached and the optimization hasn't converged yet.\n",
      "  warnings.warn(\n",
      "/home/anapedroso/Documentos/IA-desempenho-algoritmos-classificacao/env/lib/python3.8/site-packages/sklearn/neural_network/_multilayer_perceptron.py:582: ConvergenceWarning: Stochastic Optimizer: Maximum iterations (300) reached and the optimization hasn't converged yet.\n",
      "  warnings.warn(\n",
      "/home/anapedroso/Documentos/IA-desempenho-algoritmos-classificacao/env/lib/python3.8/site-packages/sklearn/neural_network/_multilayer_perceptron.py:582: ConvergenceWarning: Stochastic Optimizer: Maximum iterations (500) reached and the optimization hasn't converged yet.\n",
      "  warnings.warn(\n",
      "/home/anapedroso/Documentos/IA-desempenho-algoritmos-classificacao/env/lib/python3.8/site-packages/sklearn/neural_network/_multilayer_perceptron.py:582: ConvergenceWarning: Stochastic Optimizer: Maximum iterations (300) reached and the optimization hasn't converged yet.\n",
      "  warnings.warn(\n",
      "/home/anapedroso/Documentos/IA-desempenho-algoritmos-classificacao/env/lib/python3.8/site-packages/sklearn/neural_network/_multilayer_perceptron.py:582: ConvergenceWarning: Stochastic Optimizer: Maximum iterations (400) reached and the optimization hasn't converged yet.\n",
      "  warnings.warn(\n",
      "/home/anapedroso/Documentos/IA-desempenho-algoritmos-classificacao/env/lib/python3.8/site-packages/sklearn/neural_network/_multilayer_perceptron.py:582: ConvergenceWarning: Stochastic Optimizer: Maximum iterations (300) reached and the optimization hasn't converged yet.\n",
      "  warnings.warn(\n",
      "/home/anapedroso/Documentos/IA-desempenho-algoritmos-classificacao/env/lib/python3.8/site-packages/sklearn/neural_network/_multilayer_perceptron.py:582: ConvergenceWarning: Stochastic Optimizer: Maximum iterations (300) reached and the optimization hasn't converged yet.\n",
      "  warnings.warn(\n",
      "/home/anapedroso/Documentos/IA-desempenho-algoritmos-classificacao/env/lib/python3.8/site-packages/sklearn/neural_network/_multilayer_perceptron.py:582: ConvergenceWarning: Stochastic Optimizer: Maximum iterations (300) reached and the optimization hasn't converged yet.\n",
      "  warnings.warn(\n",
      "/home/anapedroso/Documentos/IA-desempenho-algoritmos-classificacao/env/lib/python3.8/site-packages/sklearn/neural_network/_multilayer_perceptron.py:582: ConvergenceWarning: Stochastic Optimizer: Maximum iterations (400) reached and the optimization hasn't converged yet.\n",
      "  warnings.warn(\n",
      "/home/anapedroso/Documentos/IA-desempenho-algoritmos-classificacao/env/lib/python3.8/site-packages/sklearn/neural_network/_multilayer_perceptron.py:582: ConvergenceWarning: Stochastic Optimizer: Maximum iterations (300) reached and the optimization hasn't converged yet.\n",
      "  warnings.warn(\n",
      "/home/anapedroso/Documentos/IA-desempenho-algoritmos-classificacao/env/lib/python3.8/site-packages/sklearn/neural_network/_multilayer_perceptron.py:582: ConvergenceWarning: Stochastic Optimizer: Maximum iterations (300) reached and the optimization hasn't converged yet.\n",
      "  warnings.warn(\n"
     ]
    }
   ],
   "source": [
    "rede_neural = MLPClassifier()\n",
    "print(\"====== Iniciando busca pelos melhores parâmetros do algoritmo Redes neurais no dataset Transfusion ....\\n\")\n",
    "\n",
    "param_dist = {'hidden_layer_sizes':list(np.arange(5, 10)),'activation':['logistic'], 'max_iter':[300,400,500,600],'alpha':[0.0001,0.001, 0.01, 0.1], 'solver':['sgd','adam'], 'learning_rate':['constant','invscaling','adaptive'], 'learning_rate_init':[0.001, 0.01, 0.1]} #Parâmetros testados\n",
    "\n",
    "grid_search = GridSearchCV(rede_neural, param_grid=param_dist, cv=kfold_ajuste_parametros, scoring='accuracy', refit=False)\n",
    "grid_search.fit(haberman_values, haberman_classes)\n",
    "redes_neurais_param = grid_search.best_params_\n",
    "print(\"Redes neurais: %s \\n\\n\" % redes_neurais_param)"
   ],
   "metadata": {
    "collapsed": false,
    "pycharm": {
     "name": "#%%\n",
     "is_executing": true
    }
   }
  },
  {
   "cell_type": "code",
   "execution_count": null,
   "outputs": [],
   "source": [
    "predicted_classes = dict()\n",
    "predicted_classes['Arvore_decisao'] = np.zeros(haberman_classes.shape)\n",
    "predicted_classes['KNN_Vizinhos_proximos'] = np.zeros(haberman_classes.shape)\n",
    "predicted_classes['Naive_bayes_gaussian'] = np.zeros(haberman_classes.shape)\n",
    "predicted_classes['Regressao_logistica'] = np.zeros(haberman_classes.shape)\n",
    "predicted_classes['Rede_neural'] = np.zeros(haberman_classes.shape)\n",
    "\n",
    "arvore_decisao_best_param = DecisionTreeClassifier(**decisionTreeBestParams)\n",
    "knn_vizinhos_proximos_best_param = KNeighborsClassifier(**knnBestParams)\n",
    "naive_bayes_gaussian = GaussianNB()\n",
    "regressao_logistica_best_param = LogisticRegression(**regressao_logistica_param)\n",
    "rede_neural_best_param = MLPClassifier(**redes_neurais_param)"
   ],
   "metadata": {
    "collapsed": false,
    "pycharm": {
     "name": "#%%\n",
     "is_executing": true
    }
   }
  },
  {
   "cell_type": "code",
   "execution_count": null,
   "metadata": {
    "pycharm": {
     "name": "#%%\n",
     "is_executing": true
    }
   },
   "outputs": [],
   "source": [
    "for train, test in kfold_treinamento.split(haberman_values, haberman_classes):\n",
    "    data_train, target_train = haberman_values[train], haberman_classes[train]\n",
    "    data_test, target_test = haberman_values[test], haberman_classes[test]\n",
    "\n",
    "    arvore_decisao = arvore_decisao_best_param.fit(data_train, target_train)\n",
    "    arvore_decisao_predicted = arvore_decisao.predict(data_test)\n",
    "    predicted_classes['arvore_decisao'][test] = arvore_decisao_predicted\n",
    "\n",
    "    vizinhos_proximos = knn_vizinhos_proximos_best_param.fit(data_train, target_train)\n",
    "    vizinhos_proximos_predicted = vizinhos_proximos.predict(data_test)\n",
    "    predicted_classes['vizinhos_proximos'][test] = vizinhos_proximos_predicted\n",
    "\n",
    "    naive_bayes_gaussian = naive_bayes_gaussian.fit(data_train, target_train)\n",
    "    naive_bayes_gaussian_predicted = naive_bayes_gaussian.predict(data_test)\n",
    "    predicted_classes['naive_bayes_gaussian'][test] = naive_bayes_gaussian_predicted\n",
    "\n",
    "    regressao_logistica = regressao_logistica_best_param.fit(data_train, target_train)\n",
    "    regressao_logistica_predicted = regressao_logistica.predict(data_test)\n",
    "    predicted_classes['regressao_logistica'][test] = regressao_logistica_predicted\n",
    "\n",
    "    rede_neural = rede_neural_best_param.fit(data_train, target_train)\n",
    "    rede_neural_predicted = rede_neural.predict(data_test)\n",
    "    predicted_classes['rede_neural'][test] = rede_neural_predicted"
   ]
  },
  {
   "cell_type": "code",
   "execution_count": null,
   "metadata": {
    "pycharm": {
     "name": "#%%\n",
     "is_executing": true
    }
   },
   "outputs": [],
   "source": [
    "for classificador in predicted_classes.keys():\n",
    "    print(\"================================================================================================\")\n",
    "    print(\"Resultados do classificador %s\\n%s\\n\"\n",
    "          %(classificador, metrics.classification_report(haberman_classes, predicted_classes[classificador])))\n",
    "    print(\"Matriz de confusão: \\n%s\\n\\n\\n\" % metrics.confusion_matrix(haberman_classes, predicted_classes[classificador]))\n",
    "\n"
   ]
  }
 ],
 "metadata": {
  "kernelspec": {
   "display_name": "Python 3",
   "language": "python",
   "name": "python3"
  },
  "language_info": {
   "codemirror_mode": {
    "name": "ipython",
    "version": 3
   },
   "file_extension": ".py",
   "mimetype": "text/x-python",
   "name": "python",
   "nbconvert_exporter": "python",
   "pygments_lexer": "ipython3",
   "version": "3.5.2"
  }
 },
 "nbformat": 4,
 "nbformat_minor": 1
}