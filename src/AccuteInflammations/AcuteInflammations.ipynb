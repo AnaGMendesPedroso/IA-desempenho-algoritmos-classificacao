{
 "cells": [
  {
   "cell_type": "code",
   "execution_count": 1,
   "metadata": {
    "pycharm": {
     "name": "#%%\n"
    }
   },
   "outputs": [
    {
     "name": "stdout",
     "output_type": "stream",
     "text": [
      "\n",
      "Dataset Acute Inflammations:\n"
     ]
    },
    {
     "name": "stderr",
     "output_type": "stream",
     "text": [
      "/home/larissa/.local/lib/python3.5/site-packages/ipykernel_launcher.py:14: FutureWarning: read_table is deprecated, use read_csv instead.\n",
      "  \n"
     ]
    },
    {
     "data": {
      "text/plain": "     temperature  occurrence_of_nausea  lumbar_pain  urine_pushing  \\\n0    temperature  occurrence_of_nausea  lumbar_pain  urine_pushing   \n1           35.5                     0            1              0   \n2           35.9                     0            0              1   \n3           35.9                     0            1              0   \n4           36.0                     0            0              1   \n5           36.0                     0            1              0   \n6           36.0                     0            1              0   \n7           36.2                     0            0              1   \n8           36.2                     0            1              0   \n9           36.3                     0            0              1   \n10          36.6                     0            0              1   \n11          36.6                     0            0              1   \n12          36.6                     0            1              0   \n13          36.6                     0            1              0   \n14          36.7                     0            0              1   \n15          36.7                     0            1              0   \n16          36.7                     0            1              0   \n17          36.8                     0            0              1   \n18          36.8                     0            0              1   \n19          36.9                     0            0              1   \n20          36.9                     0            1              0   \n21          37.0                     0            0              1   \n22          37.0                     0            0              1   \n23          37.0                     0            1              0   \n24          37.0                     0            0              1   \n25          37.0                     0            0              1   \n26          37.0                     0            0              1   \n27          37.0                     0            0              1   \n28          37.0                     0            0              1   \n29          37.1                     0            1              0   \n..           ...                   ...          ...            ...   \n91          40.6                     0            0              0   \n92          40.6                     1            1              0   \n93          40.7                     1            1              1   \n94          40.7                     1            1              1   \n95          40.7                     0            0              0   \n96          40.7                     1            1              0   \n97          40.7                     0            1              1   \n98          40.8                     0            1              1   \n99          40.9                     1            1              1   \n100         40.9                     1            1              1   \n101         40.9                     0            1              1   \n102         41.0                     1            1              1   \n103         41.0                     0            0              0   \n104         41.0                     1            1              0   \n105         41.0                     0            1              1   \n106         41.1                     1            1              1   \n107         41.1                     1            1              1   \n108         41.1                     0            0              0   \n109         41.1                     1            1              0   \n110         41.1                     0            1              1   \n111         41.2                     1            1              1   \n112         41.2                     0            0              0   \n113         41.2                     1            1              0   \n114         41.2                     0            1              1   \n115         41.3                     1            1              1   \n116         41.4                     0            1              1   \n117         41.5                     0            0              0   \n118         41.5                     1            1              0   \n119         41.5                     0            1              1   \n120         41.5                     0            1              1   \n\n     micturition_pains  burning_of_urethra  decision_1  decision_2  \n0    micturition_pains  burning_of_urethra  decision_1  decision_2  \n1                    0                   0           0           0  \n2                    1                   1           1           0  \n3                    0                   0           0           0  \n4                    1                   1           1           0  \n5                    0                   0           0           0  \n6                    0                   0           0           0  \n7                    1                   1           1           0  \n8                    0                   0           0           0  \n9                    1                   1           1           0  \n10                   1                   1           1           0  \n11                   1                   1           1           0  \n12                   0                   0           0           0  \n13                   0                   0           0           0  \n14                   1                   1           1           0  \n15                   0                   0           0           0  \n16                   0                   0           0           0  \n17                   1                   1           1           0  \n18                   1                   1           1           0  \n19                   1                   1           1           0  \n20                   0                   0           0           0  \n21                   1                   0           1           0  \n22                   1                   0           1           0  \n23                   0                   0           0           0  \n24                   1                   1           1           0  \n25                   1                   1           1           0  \n26                   1                   1           1           0  \n27                   1                   1           1           0  \n28                   0                   0           1           0  \n29                   0                   0           0           0  \n..                 ...                 ...         ...         ...  \n91                   0                   0           0           0  \n92                   1                   0           0           1  \n93                   1                   1           1           1  \n94                   1                   0           1           1  \n95                   0                   0           0           0  \n96                   1                   0           0           1  \n97                   0                   1           0           1  \n98                   0                   1           0           1  \n99                   1                   0           1           1  \n100                  1                   0           1           1  \n101                  0                   1           0           1  \n102                  1                   1           1           1  \n103                  0                   0           0           0  \n104                  1                   0           0           1  \n105                  0                   1           0           1  \n106                  1                   1           1           1  \n107                  1                   0           1           1  \n108                  0                   0           0           0  \n109                  1                   0           0           1  \n110                  0                   1           0           1  \n111                  1                   1           1           1  \n112                  0                   0           0           0  \n113                  1                   0           0           1  \n114                  0                   1           0           1  \n115                  1                   0           1           1  \n116                  0                   1           0           1  \n117                  0                   0           0           0  \n118                  1                   0           0           1  \n119                  0                   1           0           1  \n120                  0                   1           0           1  \n\n[121 rows x 8 columns]",
      "text/html": "<div>\n<style scoped>\n    .dataframe tbody tr th:only-of-type {\n        vertical-align: middle;\n    }\n\n    .dataframe tbody tr th {\n        vertical-align: top;\n    }\n\n    .dataframe thead th {\n        text-align: right;\n    }\n</style>\n<table border=\"1\" class=\"dataframe\">\n  <thead>\n    <tr style=\"text-align: right;\">\n      <th></th>\n      <th>temperature</th>\n      <th>occurrence_of_nausea</th>\n      <th>lumbar_pain</th>\n      <th>urine_pushing</th>\n      <th>micturition_pains</th>\n      <th>burning_of_urethra</th>\n      <th>decision_1</th>\n      <th>decision_2</th>\n    </tr>\n  </thead>\n  <tbody>\n    <tr>\n      <th>0</th>\n      <td>temperature</td>\n      <td>occurrence_of_nausea</td>\n      <td>lumbar_pain</td>\n      <td>urine_pushing</td>\n      <td>micturition_pains</td>\n      <td>burning_of_urethra</td>\n      <td>decision_1</td>\n      <td>decision_2</td>\n    </tr>\n    <tr>\n      <th>1</th>\n      <td>35.5</td>\n      <td>0</td>\n      <td>1</td>\n      <td>0</td>\n      <td>0</td>\n      <td>0</td>\n      <td>0</td>\n      <td>0</td>\n    </tr>\n    <tr>\n      <th>2</th>\n      <td>35.9</td>\n      <td>0</td>\n      <td>0</td>\n      <td>1</td>\n      <td>1</td>\n      <td>1</td>\n      <td>1</td>\n      <td>0</td>\n    </tr>\n    <tr>\n      <th>3</th>\n      <td>35.9</td>\n      <td>0</td>\n      <td>1</td>\n      <td>0</td>\n      <td>0</td>\n      <td>0</td>\n      <td>0</td>\n      <td>0</td>\n    </tr>\n    <tr>\n      <th>4</th>\n      <td>36.0</td>\n      <td>0</td>\n      <td>0</td>\n      <td>1</td>\n      <td>1</td>\n      <td>1</td>\n      <td>1</td>\n      <td>0</td>\n    </tr>\n    <tr>\n      <th>5</th>\n      <td>36.0</td>\n      <td>0</td>\n      <td>1</td>\n      <td>0</td>\n      <td>0</td>\n      <td>0</td>\n      <td>0</td>\n      <td>0</td>\n    </tr>\n    <tr>\n      <th>6</th>\n      <td>36.0</td>\n      <td>0</td>\n      <td>1</td>\n      <td>0</td>\n      <td>0</td>\n      <td>0</td>\n      <td>0</td>\n      <td>0</td>\n    </tr>\n    <tr>\n      <th>7</th>\n      <td>36.2</td>\n      <td>0</td>\n      <td>0</td>\n      <td>1</td>\n      <td>1</td>\n      <td>1</td>\n      <td>1</td>\n      <td>0</td>\n    </tr>\n    <tr>\n      <th>8</th>\n      <td>36.2</td>\n      <td>0</td>\n      <td>1</td>\n      <td>0</td>\n      <td>0</td>\n      <td>0</td>\n      <td>0</td>\n      <td>0</td>\n    </tr>\n    <tr>\n      <th>9</th>\n      <td>36.3</td>\n      <td>0</td>\n      <td>0</td>\n      <td>1</td>\n      <td>1</td>\n      <td>1</td>\n      <td>1</td>\n      <td>0</td>\n    </tr>\n    <tr>\n      <th>10</th>\n      <td>36.6</td>\n      <td>0</td>\n      <td>0</td>\n      <td>1</td>\n      <td>1</td>\n      <td>1</td>\n      <td>1</td>\n      <td>0</td>\n    </tr>\n    <tr>\n      <th>11</th>\n      <td>36.6</td>\n      <td>0</td>\n      <td>0</td>\n      <td>1</td>\n      <td>1</td>\n      <td>1</td>\n      <td>1</td>\n      <td>0</td>\n    </tr>\n    <tr>\n      <th>12</th>\n      <td>36.6</td>\n      <td>0</td>\n      <td>1</td>\n      <td>0</td>\n      <td>0</td>\n      <td>0</td>\n      <td>0</td>\n      <td>0</td>\n    </tr>\n    <tr>\n      <th>13</th>\n      <td>36.6</td>\n      <td>0</td>\n      <td>1</td>\n      <td>0</td>\n      <td>0</td>\n      <td>0</td>\n      <td>0</td>\n      <td>0</td>\n    </tr>\n    <tr>\n      <th>14</th>\n      <td>36.7</td>\n      <td>0</td>\n      <td>0</td>\n      <td>1</td>\n      <td>1</td>\n      <td>1</td>\n      <td>1</td>\n      <td>0</td>\n    </tr>\n    <tr>\n      <th>15</th>\n      <td>36.7</td>\n      <td>0</td>\n      <td>1</td>\n      <td>0</td>\n      <td>0</td>\n      <td>0</td>\n      <td>0</td>\n      <td>0</td>\n    </tr>\n    <tr>\n      <th>16</th>\n      <td>36.7</td>\n      <td>0</td>\n      <td>1</td>\n      <td>0</td>\n      <td>0</td>\n      <td>0</td>\n      <td>0</td>\n      <td>0</td>\n    </tr>\n    <tr>\n      <th>17</th>\n      <td>36.8</td>\n      <td>0</td>\n      <td>0</td>\n      <td>1</td>\n      <td>1</td>\n      <td>1</td>\n      <td>1</td>\n      <td>0</td>\n    </tr>\n    <tr>\n      <th>18</th>\n      <td>36.8</td>\n      <td>0</td>\n      <td>0</td>\n      <td>1</td>\n      <td>1</td>\n      <td>1</td>\n      <td>1</td>\n      <td>0</td>\n    </tr>\n    <tr>\n      <th>19</th>\n      <td>36.9</td>\n      <td>0</td>\n      <td>0</td>\n      <td>1</td>\n      <td>1</td>\n      <td>1</td>\n      <td>1</td>\n      <td>0</td>\n    </tr>\n    <tr>\n      <th>20</th>\n      <td>36.9</td>\n      <td>0</td>\n      <td>1</td>\n      <td>0</td>\n      <td>0</td>\n      <td>0</td>\n      <td>0</td>\n      <td>0</td>\n    </tr>\n    <tr>\n      <th>21</th>\n      <td>37.0</td>\n      <td>0</td>\n      <td>0</td>\n      <td>1</td>\n      <td>1</td>\n      <td>0</td>\n      <td>1</td>\n      <td>0</td>\n    </tr>\n    <tr>\n      <th>22</th>\n      <td>37.0</td>\n      <td>0</td>\n      <td>0</td>\n      <td>1</td>\n      <td>1</td>\n      <td>0</td>\n      <td>1</td>\n      <td>0</td>\n    </tr>\n    <tr>\n      <th>23</th>\n      <td>37.0</td>\n      <td>0</td>\n      <td>1</td>\n      <td>0</td>\n      <td>0</td>\n      <td>0</td>\n      <td>0</td>\n      <td>0</td>\n    </tr>\n    <tr>\n      <th>24</th>\n      <td>37.0</td>\n      <td>0</td>\n      <td>0</td>\n      <td>1</td>\n      <td>1</td>\n      <td>1</td>\n      <td>1</td>\n      <td>0</td>\n    </tr>\n    <tr>\n      <th>25</th>\n      <td>37.0</td>\n      <td>0</td>\n      <td>0</td>\n      <td>1</td>\n      <td>1</td>\n      <td>1</td>\n      <td>1</td>\n      <td>0</td>\n    </tr>\n    <tr>\n      <th>26</th>\n      <td>37.0</td>\n      <td>0</td>\n      <td>0</td>\n      <td>1</td>\n      <td>1</td>\n      <td>1</td>\n      <td>1</td>\n      <td>0</td>\n    </tr>\n    <tr>\n      <th>27</th>\n      <td>37.0</td>\n      <td>0</td>\n      <td>0</td>\n      <td>1</td>\n      <td>1</td>\n      <td>1</td>\n      <td>1</td>\n      <td>0</td>\n    </tr>\n    <tr>\n      <th>28</th>\n      <td>37.0</td>\n      <td>0</td>\n      <td>0</td>\n      <td>1</td>\n      <td>0</td>\n      <td>0</td>\n      <td>1</td>\n      <td>0</td>\n    </tr>\n    <tr>\n      <th>29</th>\n      <td>37.1</td>\n      <td>0</td>\n      <td>1</td>\n      <td>0</td>\n      <td>0</td>\n      <td>0</td>\n      <td>0</td>\n      <td>0</td>\n    </tr>\n    <tr>\n      <th>...</th>\n      <td>...</td>\n      <td>...</td>\n      <td>...</td>\n      <td>...</td>\n      <td>...</td>\n      <td>...</td>\n      <td>...</td>\n      <td>...</td>\n    </tr>\n    <tr>\n      <th>91</th>\n      <td>40.6</td>\n      <td>0</td>\n      <td>0</td>\n      <td>0</td>\n      <td>0</td>\n      <td>0</td>\n      <td>0</td>\n      <td>0</td>\n    </tr>\n    <tr>\n      <th>92</th>\n      <td>40.6</td>\n      <td>1</td>\n      <td>1</td>\n      <td>0</td>\n      <td>1</td>\n      <td>0</td>\n      <td>0</td>\n      <td>1</td>\n    </tr>\n    <tr>\n      <th>93</th>\n      <td>40.7</td>\n      <td>1</td>\n      <td>1</td>\n      <td>1</td>\n      <td>1</td>\n      <td>1</td>\n      <td>1</td>\n      <td>1</td>\n    </tr>\n    <tr>\n      <th>94</th>\n      <td>40.7</td>\n      <td>1</td>\n      <td>1</td>\n      <td>1</td>\n      <td>1</td>\n      <td>0</td>\n      <td>1</td>\n      <td>1</td>\n    </tr>\n    <tr>\n      <th>95</th>\n      <td>40.7</td>\n      <td>0</td>\n      <td>0</td>\n      <td>0</td>\n      <td>0</td>\n      <td>0</td>\n      <td>0</td>\n      <td>0</td>\n    </tr>\n    <tr>\n      <th>96</th>\n      <td>40.7</td>\n      <td>1</td>\n      <td>1</td>\n      <td>0</td>\n      <td>1</td>\n      <td>0</td>\n      <td>0</td>\n      <td>1</td>\n    </tr>\n    <tr>\n      <th>97</th>\n      <td>40.7</td>\n      <td>0</td>\n      <td>1</td>\n      <td>1</td>\n      <td>0</td>\n      <td>1</td>\n      <td>0</td>\n      <td>1</td>\n    </tr>\n    <tr>\n      <th>98</th>\n      <td>40.8</td>\n      <td>0</td>\n      <td>1</td>\n      <td>1</td>\n      <td>0</td>\n      <td>1</td>\n      <td>0</td>\n      <td>1</td>\n    </tr>\n    <tr>\n      <th>99</th>\n      <td>40.9</td>\n      <td>1</td>\n      <td>1</td>\n      <td>1</td>\n      <td>1</td>\n      <td>0</td>\n      <td>1</td>\n      <td>1</td>\n    </tr>\n    <tr>\n      <th>100</th>\n      <td>40.9</td>\n      <td>1</td>\n      <td>1</td>\n      <td>1</td>\n      <td>1</td>\n      <td>0</td>\n      <td>1</td>\n      <td>1</td>\n    </tr>\n    <tr>\n      <th>101</th>\n      <td>40.9</td>\n      <td>0</td>\n      <td>1</td>\n      <td>1</td>\n      <td>0</td>\n      <td>1</td>\n      <td>0</td>\n      <td>1</td>\n    </tr>\n    <tr>\n      <th>102</th>\n      <td>41.0</td>\n      <td>1</td>\n      <td>1</td>\n      <td>1</td>\n      <td>1</td>\n      <td>1</td>\n      <td>1</td>\n      <td>1</td>\n    </tr>\n    <tr>\n      <th>103</th>\n      <td>41.0</td>\n      <td>0</td>\n      <td>0</td>\n      <td>0</td>\n      <td>0</td>\n      <td>0</td>\n      <td>0</td>\n      <td>0</td>\n    </tr>\n    <tr>\n      <th>104</th>\n      <td>41.0</td>\n      <td>1</td>\n      <td>1</td>\n      <td>0</td>\n      <td>1</td>\n      <td>0</td>\n      <td>0</td>\n      <td>1</td>\n    </tr>\n    <tr>\n      <th>105</th>\n      <td>41.0</td>\n      <td>0</td>\n      <td>1</td>\n      <td>1</td>\n      <td>0</td>\n      <td>1</td>\n      <td>0</td>\n      <td>1</td>\n    </tr>\n    <tr>\n      <th>106</th>\n      <td>41.1</td>\n      <td>1</td>\n      <td>1</td>\n      <td>1</td>\n      <td>1</td>\n      <td>1</td>\n      <td>1</td>\n      <td>1</td>\n    </tr>\n    <tr>\n      <th>107</th>\n      <td>41.1</td>\n      <td>1</td>\n      <td>1</td>\n      <td>1</td>\n      <td>1</td>\n      <td>0</td>\n      <td>1</td>\n      <td>1</td>\n    </tr>\n    <tr>\n      <th>108</th>\n      <td>41.1</td>\n      <td>0</td>\n      <td>0</td>\n      <td>0</td>\n      <td>0</td>\n      <td>0</td>\n      <td>0</td>\n      <td>0</td>\n    </tr>\n    <tr>\n      <th>109</th>\n      <td>41.1</td>\n      <td>1</td>\n      <td>1</td>\n      <td>0</td>\n      <td>1</td>\n      <td>0</td>\n      <td>0</td>\n      <td>1</td>\n    </tr>\n    <tr>\n      <th>110</th>\n      <td>41.1</td>\n      <td>0</td>\n      <td>1</td>\n      <td>1</td>\n      <td>0</td>\n      <td>1</td>\n      <td>0</td>\n      <td>1</td>\n    </tr>\n    <tr>\n      <th>111</th>\n      <td>41.2</td>\n      <td>1</td>\n      <td>1</td>\n      <td>1</td>\n      <td>1</td>\n      <td>1</td>\n      <td>1</td>\n      <td>1</td>\n    </tr>\n    <tr>\n      <th>112</th>\n      <td>41.2</td>\n      <td>0</td>\n      <td>0</td>\n      <td>0</td>\n      <td>0</td>\n      <td>0</td>\n      <td>0</td>\n      <td>0</td>\n    </tr>\n    <tr>\n      <th>113</th>\n      <td>41.2</td>\n      <td>1</td>\n      <td>1</td>\n      <td>0</td>\n      <td>1</td>\n      <td>0</td>\n      <td>0</td>\n      <td>1</td>\n    </tr>\n    <tr>\n      <th>114</th>\n      <td>41.2</td>\n      <td>0</td>\n      <td>1</td>\n      <td>1</td>\n      <td>0</td>\n      <td>1</td>\n      <td>0</td>\n      <td>1</td>\n    </tr>\n    <tr>\n      <th>115</th>\n      <td>41.3</td>\n      <td>1</td>\n      <td>1</td>\n      <td>1</td>\n      <td>1</td>\n      <td>0</td>\n      <td>1</td>\n      <td>1</td>\n    </tr>\n    <tr>\n      <th>116</th>\n      <td>41.4</td>\n      <td>0</td>\n      <td>1</td>\n      <td>1</td>\n      <td>0</td>\n      <td>1</td>\n      <td>0</td>\n      <td>1</td>\n    </tr>\n    <tr>\n      <th>117</th>\n      <td>41.5</td>\n      <td>0</td>\n      <td>0</td>\n      <td>0</td>\n      <td>0</td>\n      <td>0</td>\n      <td>0</td>\n      <td>0</td>\n    </tr>\n    <tr>\n      <th>118</th>\n      <td>41.5</td>\n      <td>1</td>\n      <td>1</td>\n      <td>0</td>\n      <td>1</td>\n      <td>0</td>\n      <td>0</td>\n      <td>1</td>\n    </tr>\n    <tr>\n      <th>119</th>\n      <td>41.5</td>\n      <td>0</td>\n      <td>1</td>\n      <td>1</td>\n      <td>0</td>\n      <td>1</td>\n      <td>0</td>\n      <td>1</td>\n    </tr>\n    <tr>\n      <th>120</th>\n      <td>41.5</td>\n      <td>0</td>\n      <td>1</td>\n      <td>1</td>\n      <td>0</td>\n      <td>1</td>\n      <td>0</td>\n      <td>1</td>\n    </tr>\n  </tbody>\n</table>\n<p>121 rows × 8 columns</p>\n</div>"
     },
     "execution_count": 1,
     "metadata": {},
     "output_type": "execute_result"
    }
   ],
   "source": [
    "from sklearn import tree\n",
    "from sklearn.neighbors import KNeighborsClassifier\n",
    "from sklearn.naive_bayes import GaussianNB\n",
    "from sklearn.linear_model import LogisticRegression\n",
    "from sklearn.neural_network import MLPClassifier\n",
    "from sklearn import model_selection\n",
    "from sklearn.model_selection import GridSearchCV\n",
    "from sklearn import metrics\n",
    "import pandas as pd\n",
    "import numpy as np\n",
    "from sklearn.preprocessing import StandardScaler\n",
    "\n",
    "col_names = ['temperature','occurrence_of_nausea','lumbar_pain','urine_pushing','micturition_pains','burning_of_urethra','decision_1','decision_2']\n",
    "dataset_inflammation = pd.read_table('AcuteInflammations.data', header=None, names=col_names, sep=',')\n",
    "print(\"\\nDataset Acute Inflammations:\")\n",
    "dataset_inflammation"
   ]
  },
  {
   "cell_type": "code",
   "execution_count": 2,
   "metadata": {
    "pycharm": {
     "name": "#%%\n"
    }
   },
   "outputs": [
    {
     "data": {
      "text/plain": "Index(['temperature', 'occurrence_of_nausea', 'lumbar_pain', 'urine_pushing',\n       'micturition_pains', 'burning_of_urethra', 'decision_1', 'decision_2'],\n      dtype='object')"
     },
     "execution_count": 2,
     "metadata": {},
     "output_type": "execute_result"
    }
   ],
   "source": [
    "dataset_inflammation.columns"
   ]
  },
  {
   "cell_type": "code",
   "execution_count": 3,
   "metadata": {
    "pycharm": {
     "name": "#%%\n"
    }
   },
   "outputs": [
    {
     "name": "stdout",
     "output_type": "stream",
     "text": [
      "\n",
      "Acute Inflammations features:\n",
      "\n",
      "[['temperature' 'occurrence_of_nausea' 'lumbar_pain' 'urine_pushing'\n",
      "  'micturition_pains' 'burning_of_urethra' 'decision_1' 'decision_2']\n",
      " ['35.5' '0' '1' '0' '0' '0' '0' '0']\n",
      " ['35.9' '0' '0' '1' '1' '1' '1' '0']\n",
      " ['35.9' '0' '1' '0' '0' '0' '0' '0']\n",
      " ['36.0' '0' '0' '1' '1' '1' '1' '0']\n",
      " ['36.0' '0' '1' '0' '0' '0' '0' '0']\n",
      " ['36.0' '0' '1' '0' '0' '0' '0' '0']\n",
      " ['36.2' '0' '0' '1' '1' '1' '1' '0']\n",
      " ['36.2' '0' '1' '0' '0' '0' '0' '0']\n",
      " ['36.3' '0' '0' '1' '1' '1' '1' '0']\n",
      " ['36.6' '0' '0' '1' '1' '1' '1' '0']\n",
      " ['36.6' '0' '0' '1' '1' '1' '1' '0']\n",
      " ['36.6' '0' '1' '0' '0' '0' '0' '0']\n",
      " ['36.6' '0' '1' '0' '0' '0' '0' '0']\n",
      " ['36.7' '0' '0' '1' '1' '1' '1' '0']\n",
      " ['36.7' '0' '1' '0' '0' '0' '0' '0']\n",
      " ['36.7' '0' '1' '0' '0' '0' '0' '0']\n",
      " ['36.8' '0' '0' '1' '1' '1' '1' '0']\n",
      " ['36.8' '0' '0' '1' '1' '1' '1' '0']\n",
      " ['36.9' '0' '0' '1' '1' '1' '1' '0']\n",
      " ['36.9' '0' '1' '0' '0' '0' '0' '0']\n",
      " ['37.0' '0' '0' '1' '1' '0' '1' '0']\n",
      " ['37.0' '0' '0' '1' '1' '0' '1' '0']\n",
      " ['37.0' '0' '1' '0' '0' '0' '0' '0']\n",
      " ['37.0' '0' '0' '1' '1' '1' '1' '0']\n",
      " ['37.0' '0' '0' '1' '1' '1' '1' '0']\n",
      " ['37.0' '0' '0' '1' '1' '1' '1' '0']\n",
      " ['37.0' '0' '0' '1' '1' '1' '1' '0']\n",
      " ['37.0' '0' '0' '1' '0' '0' '1' '0']\n",
      " ['37.1' '0' '1' '0' '0' '0' '0' '0']\n",
      " ['37.1' '0' '0' '1' '1' '1' '1' '0']\n",
      " ['37.1' '0' '0' '1' '0' '0' '1' '0']\n",
      " ['37.2' '0' '0' '1' '1' '0' '1' '0']\n",
      " ['37.2' '0' '1' '0' '0' '0' '0' '0']\n",
      " ['37.2' '0' '0' '1' '0' '0' '1' '0']\n",
      " ['37.3' '0' '1' '0' '0' '0' '0' '0']\n",
      " ['37.3' '0' '0' '1' '1' '1' '1' '0']\n",
      " ['37.3' '0' '0' '1' '0' '0' '1' '0']\n",
      " ['37.4' '0' '1' '0' '0' '0' '0' '0']\n",
      " ['37.4' '0' '0' '1' '0' '0' '1' '0']\n",
      " ['37.5' '0' '0' '1' '1' '0' '1' '0']\n",
      " ['37.5' '0' '1' '0' '0' '0' '0' '0']\n",
      " ['37.5' '0' '1' '0' '0' '0' '0' '0']\n",
      " ['37.5' '0' '0' '1' '1' '1' '1' '0']\n",
      " ['37.5' '0' '0' '1' '0' '0' '1' '0']\n",
      " ['37.5' '0' '0' '1' '0' '0' '1' '0']\n",
      " ['37.6' '0' '0' '1' '1' '0' '1' '0']\n",
      " ['37.6' '0' '0' '1' '1' '0' '1' '0']\n",
      " ['37.6' '0' '0' '1' '1' '1' '1' '0']\n",
      " ['37.7' '0' '0' '1' '1' '0' '1' '0']\n",
      " ['37.7' '0' '0' '1' '1' '0' '1' '0']\n",
      " ['37.7' '0' '1' '0' '0' '0' '0' '0']\n",
      " ['37.7' '0' '0' '1' '0' '0' '1' '0']\n",
      " ['37.8' '0' '1' '0' '0' '0' '0' '0']\n",
      " ['37.8' '0' '0' '1' '1' '1' '1' '0']\n",
      " ['37.8' '0' '0' '1' '0' '0' '1' '0']\n",
      " ['37.9' '0' '0' '1' '1' '0' '1' '0']\n",
      " ['37.9' '0' '0' '1' '1' '0' '1' '0']\n",
      " ['37.9' '0' '1' '0' '0' '0' '0' '0']\n",
      " ['37.9' '0' '0' '1' '1' '1' '1' '0']\n",
      " ['37.9' '0' '0' '1' '0' '0' '1' '0']\n",
      " ['38.0' '0' '1' '1' '0' '1' '0' '1']\n",
      " ['38.0' '0' '1' '1' '0' '1' '0' '1']\n",
      " ['38.1' '0' '1' '1' '0' '1' '0' '1']\n",
      " ['38.3' '0' '1' '1' '0' '1' '0' '1']\n",
      " ['38.5' '0' '1' '1' '0' '1' '0' '1']\n",
      " ['38.7' '0' '1' '1' '0' '1' '0' '1']\n",
      " ['38.9' '0' '1' '1' '0' '1' '0' '1']\n",
      " ['39.0' '0' '1' '1' '0' '1' '0' '1']\n",
      " ['39.4' '0' '1' '1' '0' '1' '0' '1']\n",
      " ['39.7' '0' '1' '1' '0' '1' '0' '1']\n",
      " ['40.0' '1' '1' '1' '1' '1' '1' '1']\n",
      " ['40.0' '1' '1' '1' '1' '1' '1' '1']\n",
      " ['40.0' '1' '1' '1' '1' '0' '1' '1']\n",
      " ['40.0' '0' '0' '0' '0' '0' '0' '0']\n",
      " ['40.0' '0' '0' '0' '0' '0' '0' '0']\n",
      " ['40.0' '1' '1' '0' '1' '0' '0' '1']\n",
      " ['40.0' '1' '1' '0' '1' '0' '0' '1']\n",
      " ['40.0' '0' '1' '1' '0' '1' '0' '1']\n",
      " ['40.1' '1' '1' '1' '1' '0' '1' '1']\n",
      " ['40.2' '1' '1' '1' '1' '1' '1' '1']\n",
      " ['40.2' '0' '0' '0' '0' '0' '0' '0']\n",
      " ['40.2' '1' '1' '0' '1' '0' '0' '1']\n",
      " ['40.3' '0' '1' '1' '0' '1' '0' '1']\n",
      " ['40.4' '1' '1' '1' '1' '1' '1' '1']\n",
      " ['40.4' '1' '1' '1' '1' '0' '1' '1']\n",
      " ['40.4' '1' '1' '1' '1' '0' '1' '1']\n",
      " ['40.4' '0' '0' '0' '0' '0' '0' '0']\n",
      " ['40.4' '1' '1' '0' '1' '0' '0' '1']\n",
      " ['40.5' '1' '1' '1' '1' '0' '1' '1']\n",
      " ['40.6' '1' '1' '1' '1' '1' '1' '1']\n",
      " ['40.6' '0' '0' '0' '0' '0' '0' '0']\n",
      " ['40.6' '1' '1' '0' '1' '0' '0' '1']\n",
      " ['40.7' '1' '1' '1' '1' '1' '1' '1']\n",
      " ['40.7' '1' '1' '1' '1' '0' '1' '1']\n",
      " ['40.7' '0' '0' '0' '0' '0' '0' '0']\n",
      " ['40.7' '1' '1' '0' '1' '0' '0' '1']\n",
      " ['40.7' '0' '1' '1' '0' '1' '0' '1']\n",
      " ['40.8' '0' '1' '1' '0' '1' '0' '1']\n",
      " ['40.9' '1' '1' '1' '1' '0' '1' '1']\n",
      " ['40.9' '1' '1' '1' '1' '0' '1' '1']\n",
      " ['40.9' '0' '1' '1' '0' '1' '0' '1']\n",
      " ['41.0' '1' '1' '1' '1' '1' '1' '1']\n",
      " ['41.0' '0' '0' '0' '0' '0' '0' '0']\n",
      " ['41.0' '1' '1' '0' '1' '0' '0' '1']\n",
      " ['41.0' '0' '1' '1' '0' '1' '0' '1']\n",
      " ['41.1' '1' '1' '1' '1' '1' '1' '1']\n",
      " ['41.1' '1' '1' '1' '1' '0' '1' '1']\n",
      " ['41.1' '0' '0' '0' '0' '0' '0' '0']\n",
      " ['41.1' '1' '1' '0' '1' '0' '0' '1']\n",
      " ['41.1' '0' '1' '1' '0' '1' '0' '1']\n",
      " ['41.2' '1' '1' '1' '1' '1' '1' '1']\n",
      " ['41.2' '0' '0' '0' '0' '0' '0' '0']\n",
      " ['41.2' '1' '1' '0' '1' '0' '0' '1']\n",
      " ['41.2' '0' '1' '1' '0' '1' '0' '1']\n",
      " ['41.3' '1' '1' '1' '1' '0' '1' '1']\n",
      " ['41.4' '0' '1' '1' '0' '1' '0' '1']\n",
      " ['41.5' '0' '0' '0' '0' '0' '0' '0']\n",
      " ['41.5' '1' '1' '0' '1' '0' '0' '1']\n",
      " ['41.5' '0' '1' '1' '0' '1' '0' '1']\n",
      " ['41.5' '0' '1' '1' '0' '1' '0' '1']]\n"
     ]
    }
   ],
   "source": [
    "inflammation_values = dataset_inflammation.iloc[:,0:8].values\n",
    "print(\"\\nAcute Inflammations features:\\n\")\n",
    "print(inflammation_values)"
   ]
  },
  {
   "cell_type": "code",
   "execution_count": 4,
   "metadata": {
    "pycharm": {
     "name": "#%%\n"
    }
   },
   "outputs": [
    {
     "ename": "ValueError",
     "evalue": "could not convert string to float: 'temperature'",
     "output_type": "error",
     "traceback": [
      "\u001B[0;31m---------------------------------------------------------------------------\u001B[0m",
      "\u001B[0;31mValueError\u001B[0m                                Traceback (most recent call last)",
      "\u001B[0;32m<ipython-input-4-c93239d04a89>\u001B[0m in \u001B[0;36m<module>\u001B[0;34m\u001B[0m\n\u001B[1;32m      2\u001B[0m \u001B[0mnormalizador\u001B[0m \u001B[0;34m=\u001B[0m  \u001B[0mStandardScaler\u001B[0m\u001B[0;34m(\u001B[0m\u001B[0;34m)\u001B[0m\u001B[0;34m\u001B[0m\u001B[0m\n\u001B[1;32m      3\u001B[0m \u001B[0;34m\u001B[0m\u001B[0m\n\u001B[0;32m----> 4\u001B[0;31m \u001B[0minflammation_normalizada\u001B[0m \u001B[0;34m=\u001B[0m \u001B[0mnormalizador\u001B[0m\u001B[0;34m.\u001B[0m\u001B[0mfit_transform\u001B[0m\u001B[0;34m(\u001B[0m\u001B[0mdataset_inflammation\u001B[0m\u001B[0;34m)\u001B[0m\u001B[0;34m\u001B[0m\u001B[0m\n\u001B[0m\u001B[1;32m      5\u001B[0m \u001B[0mdataset_inflammation\u001B[0m\u001B[0;34m[\u001B[0m\u001B[0;34m'temperature'\u001B[0m\u001B[0;34m]\u001B[0m \u001B[0;34m=\u001B[0m \u001B[0minflammation_normalizada\u001B[0m\u001B[0;34m[\u001B[0m\u001B[0;34m:\u001B[0m\u001B[0;34m,\u001B[0m\u001B[0;36m0\u001B[0m\u001B[0;34m]\u001B[0m\u001B[0;34m\u001B[0m\u001B[0m\n\u001B[1;32m      6\u001B[0m \u001B[0;34m\u001B[0m\u001B[0m\n",
      "\u001B[0;32m~/.local/lib/python3.5/site-packages/sklearn/base.py\u001B[0m in \u001B[0;36mfit_transform\u001B[0;34m(self, X, y, **fit_params)\u001B[0m\n\u001B[1;32m    569\u001B[0m         \u001B[0;32mif\u001B[0m \u001B[0my\u001B[0m \u001B[0;32mis\u001B[0m \u001B[0;32mNone\u001B[0m\u001B[0;34m:\u001B[0m\u001B[0;34m\u001B[0m\u001B[0m\n\u001B[1;32m    570\u001B[0m             \u001B[0;31m# fit method of arity 1 (unsupervised transformation)\u001B[0m\u001B[0;34m\u001B[0m\u001B[0;34m\u001B[0m\u001B[0m\n\u001B[0;32m--> 571\u001B[0;31m             \u001B[0;32mreturn\u001B[0m \u001B[0mself\u001B[0m\u001B[0;34m.\u001B[0m\u001B[0mfit\u001B[0m\u001B[0;34m(\u001B[0m\u001B[0mX\u001B[0m\u001B[0;34m,\u001B[0m \u001B[0;34m**\u001B[0m\u001B[0mfit_params\u001B[0m\u001B[0;34m)\u001B[0m\u001B[0;34m.\u001B[0m\u001B[0mtransform\u001B[0m\u001B[0;34m(\u001B[0m\u001B[0mX\u001B[0m\u001B[0;34m)\u001B[0m\u001B[0;34m\u001B[0m\u001B[0m\n\u001B[0m\u001B[1;32m    572\u001B[0m         \u001B[0;32melse\u001B[0m\u001B[0;34m:\u001B[0m\u001B[0;34m\u001B[0m\u001B[0m\n\u001B[1;32m    573\u001B[0m             \u001B[0;31m# fit method of arity 2 (supervised transformation)\u001B[0m\u001B[0;34m\u001B[0m\u001B[0;34m\u001B[0m\u001B[0m\n",
      "\u001B[0;32m~/.local/lib/python3.5/site-packages/sklearn/preprocessing/_data.py\u001B[0m in \u001B[0;36mfit\u001B[0;34m(self, X, y)\u001B[0m\n\u001B[1;32m    667\u001B[0m         \u001B[0;31m# Reset internal state before fitting\u001B[0m\u001B[0;34m\u001B[0m\u001B[0;34m\u001B[0m\u001B[0m\n\u001B[1;32m    668\u001B[0m         \u001B[0mself\u001B[0m\u001B[0;34m.\u001B[0m\u001B[0m_reset\u001B[0m\u001B[0;34m(\u001B[0m\u001B[0;34m)\u001B[0m\u001B[0;34m\u001B[0m\u001B[0m\n\u001B[0;32m--> 669\u001B[0;31m         \u001B[0;32mreturn\u001B[0m \u001B[0mself\u001B[0m\u001B[0;34m.\u001B[0m\u001B[0mpartial_fit\u001B[0m\u001B[0;34m(\u001B[0m\u001B[0mX\u001B[0m\u001B[0;34m,\u001B[0m \u001B[0my\u001B[0m\u001B[0;34m)\u001B[0m\u001B[0;34m\u001B[0m\u001B[0m\n\u001B[0m\u001B[1;32m    670\u001B[0m \u001B[0;34m\u001B[0m\u001B[0m\n\u001B[1;32m    671\u001B[0m     \u001B[0;32mdef\u001B[0m \u001B[0mpartial_fit\u001B[0m\u001B[0;34m(\u001B[0m\u001B[0mself\u001B[0m\u001B[0;34m,\u001B[0m \u001B[0mX\u001B[0m\u001B[0;34m,\u001B[0m \u001B[0my\u001B[0m\u001B[0;34m=\u001B[0m\u001B[0;32mNone\u001B[0m\u001B[0;34m)\u001B[0m\u001B[0;34m:\u001B[0m\u001B[0;34m\u001B[0m\u001B[0m\n",
      "\u001B[0;32m~/.local/lib/python3.5/site-packages/sklearn/preprocessing/_data.py\u001B[0m in \u001B[0;36mpartial_fit\u001B[0;34m(self, X, y)\u001B[0m\n\u001B[1;32m    698\u001B[0m         X = check_array(X, accept_sparse=('csr', 'csc'),\n\u001B[1;32m    699\u001B[0m                         \u001B[0mestimator\u001B[0m\u001B[0;34m=\u001B[0m\u001B[0mself\u001B[0m\u001B[0;34m,\u001B[0m \u001B[0mdtype\u001B[0m\u001B[0;34m=\u001B[0m\u001B[0mFLOAT_DTYPES\u001B[0m\u001B[0;34m,\u001B[0m\u001B[0;34m\u001B[0m\u001B[0m\n\u001B[0;32m--> 700\u001B[0;31m                         force_all_finite='allow-nan')\n\u001B[0m\u001B[1;32m    701\u001B[0m \u001B[0;34m\u001B[0m\u001B[0m\n\u001B[1;32m    702\u001B[0m         \u001B[0;31m# Even in the case of `with_mean=False`, we update the mean anyway\u001B[0m\u001B[0;34m\u001B[0m\u001B[0;34m\u001B[0m\u001B[0m\n",
      "\u001B[0;32m~/.local/lib/python3.5/site-packages/sklearn/utils/validation.py\u001B[0m in \u001B[0;36mcheck_array\u001B[0;34m(array, accept_sparse, accept_large_sparse, dtype, order, copy, force_all_finite, ensure_2d, allow_nd, ensure_min_samples, ensure_min_features, warn_on_dtype, estimator)\u001B[0m\n\u001B[1;32m    529\u001B[0m                     \u001B[0marray\u001B[0m \u001B[0;34m=\u001B[0m \u001B[0marray\u001B[0m\u001B[0;34m.\u001B[0m\u001B[0mastype\u001B[0m\u001B[0;34m(\u001B[0m\u001B[0mdtype\u001B[0m\u001B[0;34m,\u001B[0m \u001B[0mcasting\u001B[0m\u001B[0;34m=\u001B[0m\u001B[0;34m\"unsafe\"\u001B[0m\u001B[0;34m,\u001B[0m \u001B[0mcopy\u001B[0m\u001B[0;34m=\u001B[0m\u001B[0;32mFalse\u001B[0m\u001B[0;34m)\u001B[0m\u001B[0;34m\u001B[0m\u001B[0m\n\u001B[1;32m    530\u001B[0m                 \u001B[0;32melse\u001B[0m\u001B[0;34m:\u001B[0m\u001B[0;34m\u001B[0m\u001B[0m\n\u001B[0;32m--> 531\u001B[0;31m                     \u001B[0marray\u001B[0m \u001B[0;34m=\u001B[0m \u001B[0mnp\u001B[0m\u001B[0;34m.\u001B[0m\u001B[0masarray\u001B[0m\u001B[0;34m(\u001B[0m\u001B[0marray\u001B[0m\u001B[0;34m,\u001B[0m \u001B[0morder\u001B[0m\u001B[0;34m=\u001B[0m\u001B[0morder\u001B[0m\u001B[0;34m,\u001B[0m \u001B[0mdtype\u001B[0m\u001B[0;34m=\u001B[0m\u001B[0mdtype\u001B[0m\u001B[0;34m)\u001B[0m\u001B[0;34m\u001B[0m\u001B[0m\n\u001B[0m\u001B[1;32m    532\u001B[0m             \u001B[0;32mexcept\u001B[0m \u001B[0mComplexWarning\u001B[0m\u001B[0;34m:\u001B[0m\u001B[0;34m\u001B[0m\u001B[0m\n\u001B[1;32m    533\u001B[0m                 raise ValueError(\"Complex data not supported\\n\"\n",
      "\u001B[0;32m~/.local/lib/python3.5/site-packages/numpy/core/_asarray.py\u001B[0m in \u001B[0;36masarray\u001B[0;34m(a, dtype, order)\u001B[0m\n\u001B[1;32m     83\u001B[0m \u001B[0;34m\u001B[0m\u001B[0m\n\u001B[1;32m     84\u001B[0m     \"\"\"\n\u001B[0;32m---> 85\u001B[0;31m     \u001B[0;32mreturn\u001B[0m \u001B[0marray\u001B[0m\u001B[0;34m(\u001B[0m\u001B[0ma\u001B[0m\u001B[0;34m,\u001B[0m \u001B[0mdtype\u001B[0m\u001B[0;34m,\u001B[0m \u001B[0mcopy\u001B[0m\u001B[0;34m=\u001B[0m\u001B[0;32mFalse\u001B[0m\u001B[0;34m,\u001B[0m \u001B[0morder\u001B[0m\u001B[0;34m=\u001B[0m\u001B[0morder\u001B[0m\u001B[0;34m)\u001B[0m\u001B[0;34m\u001B[0m\u001B[0m\n\u001B[0m\u001B[1;32m     86\u001B[0m \u001B[0;34m\u001B[0m\u001B[0m\n\u001B[1;32m     87\u001B[0m \u001B[0;34m\u001B[0m\u001B[0m\n",
      "\u001B[0;31mValueError\u001B[0m: could not convert string to float: 'temperature'"
     ]
    }
   ],
   "source": [
    "inflammation_normalizada = dataset_inflammation.values.copy()\n",
    "normalizador =  StandardScaler()\n",
    "\n",
    "inflammation_normalizada = normalizador.fit_transform(dataset_inflammation)\n",
    "dataset_inflammation['temperature'] = inflammation_normalizada[:,0]\n",
    "\n",
    "print(\"\\nDataset Acute Inflammation normalizada:\")\n",
    "dataset_inflammation"
   ]
  },
  {
   "cell_type": "code",
   "execution_count": null,
   "metadata": {
    "pycharm": {
     "name": "#%%\n"
    }
   },
   "outputs": [],
   "source": [
    "inflammation_classes = dataset_inflammation.iloc[:,7].values\n",
    "print(\"\\nAcute Inflammations classes:\\n\")\n",
    "print(inflammation_classes)\n",
    "print(\"\\nAcute Inflammations classes shape:\")\n",
    "print(inflammation_classes.shape)"
   ]
  },
  {
   "cell_type": "code",
   "execution_count": null,
   "metadata": {
    "pycharm": {
     "name": "#%%\n"
    }
   },
   "outputs": [],
   "source": [
    "kf = model_selection.StratifiedKFold(n_splits = 2)\n",
    "arvore_decisao = tree.DecisionTreeClassifier(criterion='entropy', splitter='best', max_depth=None, min_samples_split=2, min_samples_leaf=1, min_weight_fraction_leaf=0.0, max_features=None, random_state=None, max_leaf_nodes=None, min_impurity_decrease=0.0, min_impurity_split=None, class_weight=None, presort='deprecated', ccp_alpha=0.0)\n",
    "vizinhos_proximos = KNeighborsClassifier(n_neighbors=3, weights = 'distance')\n",
    "naive_bayes_gaussian = GaussianNB()\n",
    "regressao_logistica = LogisticRegression(penalty='l2', dual=False, tol=0.0001, C=1.0, fit_intercept=True, intercept_scaling=1, class_weight=None, random_state=None, solver='saga', max_iter=100, multi_class='auto', verbose=0, warm_start=False, n_jobs=None, l1_ratio=None)\n",
    "rede_neural = MLPClassifier(hidden_layer_sizes=(5,), activation=\"logistic\", max_iter= 300, alpha=0.001, solver=\"sgd\", tol=1e-4, verbose=True, learning_rate_init=.01)"
   ]
  },
  {
   "cell_type": "code",
   "execution_count": null,
   "metadata": {
    "pycharm": {
     "name": "#%%\n"
    }
   },
   "outputs": [],
   "source": [
    "predicted_classes = dict()\n",
    "predicted_classes['arvore_decisao'] = np.zeros(inflammation_classes.shape)\n",
    "predicted_classes['vizinhos_proximos'] = np.zeros(inflammation_classes.shape)\n",
    "predicted_classes['naive_bayes_gaussian'] = np.zeros(inflammation_classes.shape)\n",
    "predicted_classes['regressao_logistica'] = np.zeros(inflammation_classes.shape)\n",
    "predicted_classes['rede_neural'] = np.zeros(inflammation_classes.shape)"
   ]
  },
  {
   "cell_type": "code",
   "execution_count": null,
   "metadata": {
    "pycharm": {
     "name": "#%%\n"
    }
   },
   "outputs": [],
   "source": [
    "\n",
    "for train, test in kf.split(inflammation_values, inflammation_classes):\n",
    "    data_train, target_train = inflammation_values[train], inflammation_classes[train]\n",
    "    data_test, target_test = inflammation_values[test], inflammation_classes[test]\n",
    "\n",
    "    arvore_decisao = arvore_decisao.fit(data_train, target_train)\n",
    "    arvore_decisao_predicted = arvore_decisao.predict(data_test)\n",
    "    predicted_classes['arvore_decisao'][test] = arvore_decisao_predicted\n",
    "\n",
    "    vizinhos_proximos = vizinhos_proximos.fit(data_train, target_train)\n",
    "    vizinhos_proximos_predicted = vizinhos_proximos.predict(data_test)\n",
    "    predicted_classes['vizinhos_proximos'][test] = vizinhos_proximos_predicted\n",
    "\n",
    "    naive_bayes_gaussian = naive_bayes_gaussian.fit(data_train, target_train)\n",
    "    naive_bayes_gaussian_predicted = naive_bayes_gaussian.predict(data_test)\n",
    "    predicted_classes['naive_bayes_gaussian'][test] = naive_bayes_gaussian_predicted\n",
    "\n",
    "    regressao_logistica = regressao_logistica.fit(data_train, target_train)\n",
    "    regressao_logistica_predicted = regressao_logistica.predict(data_test)\n",
    "    predicted_classes['regressao_logistica'][test] = regressao_logistica_predicted\n",
    "\n",
    "    rede_neural = rede_neural.fit(data_train, target_train)\n",
    "    rede_neural_predicted = rede_neural.predict(data_test)\n",
    "    predicted_classes['rede_neural'][test] = rede_neural_predicted"
   ]
  },
  {
   "cell_type": "code",
   "execution_count": null,
   "metadata": {
    "pycharm": {
     "name": "#%%\n"
    }
   },
   "outputs": [],
   "source": [
    "for classificador in predicted_classes.keys():\n",
    "    print(\"================================================================================================\")\n",
    "    print(\"Resultados do classificador %s\\n%s\\n\"\n",
    "          %(classificador, metrics.classification_report(inflammation_classes, predicted_classes[classificador])))\n",
    "    print(\"Matriz de confusão: \\n%s\\n\\n\\n\" % metrics.confusion_matrix(inflammation_classes, predicted_classes[classificador]))\n"
   ]
  }
 ],
 "metadata": {
  "kernelspec": {
   "display_name": "Python 3",
   "language": "python",
   "name": "python3"
  },
  "language_info": {
   "codemirror_mode": {
    "name": "ipython",
    "version": 3
   },
   "file_extension": ".py",
   "mimetype": "text/x-python",
   "name": "python",
   "nbconvert_exporter": "python",
   "pygments_lexer": "ipython3",
   "version": "3.5.2"
  },
  "pycharm": {
   "stem_cell": {
    "cell_type": "raw",
    "source": [
     "\n"
    ],
    "metadata": {
     "collapsed": false
    }
   }
  }
 },
 "nbformat": 4,
 "nbformat_minor": 1
}