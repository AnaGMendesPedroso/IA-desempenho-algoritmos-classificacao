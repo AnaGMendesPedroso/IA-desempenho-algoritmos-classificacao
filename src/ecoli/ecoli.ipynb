{
 "cells": [
  {
   "cell_type": "code",
   "execution_count": 117,
   "metadata": {
    "pycharm": {
     "name": "#%%\n"
    }
   },
   "outputs": [
    {
     "name": "stdout",
     "output_type": "stream",
     "text": [
      "\n",
      "Dataset ecoli:\n"
     ]
    },
    {
     "data": {
      "text/plain": "      mcg   gvh   lip  chg   aac  alm1  alm2 resultado\n0    0.49  0.29  0.48  0.5  0.56  0.24  0.35        cp\n1    0.07  0.40  0.48  0.5  0.54  0.35  0.44        cp\n2    0.56  0.40  0.48  0.5  0.49  0.37  0.46        cp\n3    0.59  0.49  0.48  0.5  0.52  0.45  0.36        cp\n4    0.23  0.32  0.48  0.5  0.55  0.25  0.35        cp\n5    0.67  0.39  0.48  0.5  0.36  0.38  0.46        cp\n6    0.29  0.28  0.48  0.5  0.44  0.23  0.34        cp\n7    0.21  0.34  0.48  0.5  0.51  0.28  0.39        cp\n8    0.20  0.44  0.48  0.5  0.46  0.51  0.57        cp\n9    0.42  0.40  0.48  0.5  0.56  0.18  0.30        cp\n10   0.42  0.24  0.48  0.5  0.57  0.27  0.37        cp\n11   0.25  0.48  0.48  0.5  0.44  0.17  0.29        cp\n12   0.39  0.32  0.48  0.5  0.46  0.24  0.35        cp\n13   0.51  0.50  0.48  0.5  0.46  0.32  0.35        cp\n14   0.22  0.43  0.48  0.5  0.48  0.16  0.28        cp\n15   0.25  0.40  0.48  0.5  0.46  0.44  0.52        cp\n16   0.34  0.45  0.48  0.5  0.38  0.24  0.35        cp\n17   0.44  0.27  0.48  0.5  0.55  0.52  0.58        cp\n18   0.23  0.40  0.48  0.5  0.39  0.28  0.38        cp\n19   0.41  0.57  0.48  0.5  0.39  0.21  0.32        cp\n20   0.40  0.45  0.48  0.5  0.38  0.22  0.00        cp\n21   0.31  0.23  0.48  0.5  0.73  0.05  0.14        cp\n22   0.51  0.54  0.48  0.5  0.41  0.34  0.43        cp\n23   0.30  0.16  0.48  0.5  0.56  0.11  0.23        cp\n24   0.36  0.39  0.48  0.5  0.48  0.22  0.23        cp\n25   0.29  0.37  0.48  0.5  0.48  0.44  0.52        cp\n26   0.25  0.40  0.48  0.5  0.47  0.33  0.42        cp\n27   0.21  0.51  0.48  0.5  0.50  0.32  0.41        cp\n28   0.43  0.37  0.48  0.5  0.53  0.35  0.44        cp\n29   0.43  0.39  0.48  0.5  0.47  0.31  0.41        cp\n..    ...   ...   ...  ...   ...   ...   ...       ...\n306  0.63  0.71  0.48  0.5  0.60  0.40  0.39        pp\n307  0.71  0.86  0.48  0.5  0.40  0.54  0.32        pp\n308  0.68  0.78  0.48  0.5  0.43  0.44  0.42        pp\n309  0.64  0.84  0.48  0.5  0.37  0.45  0.40        pp\n310  0.74  0.47  0.48  0.5  0.50  0.57  0.42        pp\n311  0.75  0.84  0.48  0.5  0.35  0.52  0.33        pp\n312  0.63  0.65  0.48  0.5  0.39  0.44  0.35        pp\n313  0.69  0.67  0.48  0.5  0.30  0.39  0.24        pp\n314  0.70  0.71  0.48  0.5  0.42  0.84  0.85        pp\n315  0.69  0.80  0.48  0.5  0.46  0.57  0.26        pp\n316  0.64  0.66  0.48  0.5  0.41  0.39  0.20        pp\n317  0.63  0.80  0.48  0.5  0.46  0.31  0.29        pp\n318  0.66  0.71  0.48  0.5  0.41  0.50  0.35        pp\n319  0.69  0.59  0.48  0.5  0.46  0.44  0.52        pp\n320  0.68  0.67  0.48  0.5  0.49  0.40  0.34        pp\n321  0.64  0.78  0.48  0.5  0.50  0.36  0.38        pp\n322  0.62  0.78  0.48  0.5  0.47  0.49  0.54        pp\n323  0.76  0.73  0.48  0.5  0.44  0.39  0.39        pp\n324  0.64  0.81  0.48  0.5  0.37  0.39  0.44        pp\n325  0.29  0.39  0.48  0.5  0.52  0.40  0.48        pp\n326  0.62  0.83  0.48  0.5  0.46  0.36  0.40        pp\n327  0.56  0.54  0.48  0.5  0.43  0.37  0.30        pp\n328  0.69  0.66  0.48  0.5  0.41  0.50  0.25        pp\n329  0.69  0.65  0.48  0.5  0.63  0.48  0.41        pp\n330  0.43  0.59  0.48  0.5  0.52  0.49  0.56        pp\n331  0.74  0.56  0.48  0.5  0.47  0.68  0.30        pp\n332  0.71  0.57  0.48  0.5  0.48  0.35  0.32        pp\n333  0.61  0.60  0.48  0.5  0.44  0.39  0.38        pp\n334  0.59  0.61  0.48  0.5  0.42  0.42  0.37        pp\n335  0.74  0.74  0.48  0.5  0.31  0.53  0.52        pp\n\n[336 rows x 8 columns]",
      "text/html": "<div>\n<style scoped>\n    .dataframe tbody tr th:only-of-type {\n        vertical-align: middle;\n    }\n\n    .dataframe tbody tr th {\n        vertical-align: top;\n    }\n\n    .dataframe thead th {\n        text-align: right;\n    }\n</style>\n<table border=\"1\" class=\"dataframe\">\n  <thead>\n    <tr style=\"text-align: right;\">\n      <th></th>\n      <th>mcg</th>\n      <th>gvh</th>\n      <th>lip</th>\n      <th>chg</th>\n      <th>aac</th>\n      <th>alm1</th>\n      <th>alm2</th>\n      <th>resultado</th>\n    </tr>\n  </thead>\n  <tbody>\n    <tr>\n      <th>0</th>\n      <td>0.49</td>\n      <td>0.29</td>\n      <td>0.48</td>\n      <td>0.5</td>\n      <td>0.56</td>\n      <td>0.24</td>\n      <td>0.35</td>\n      <td>cp</td>\n    </tr>\n    <tr>\n      <th>1</th>\n      <td>0.07</td>\n      <td>0.40</td>\n      <td>0.48</td>\n      <td>0.5</td>\n      <td>0.54</td>\n      <td>0.35</td>\n      <td>0.44</td>\n      <td>cp</td>\n    </tr>\n    <tr>\n      <th>2</th>\n      <td>0.56</td>\n      <td>0.40</td>\n      <td>0.48</td>\n      <td>0.5</td>\n      <td>0.49</td>\n      <td>0.37</td>\n      <td>0.46</td>\n      <td>cp</td>\n    </tr>\n    <tr>\n      <th>3</th>\n      <td>0.59</td>\n      <td>0.49</td>\n      <td>0.48</td>\n      <td>0.5</td>\n      <td>0.52</td>\n      <td>0.45</td>\n      <td>0.36</td>\n      <td>cp</td>\n    </tr>\n    <tr>\n      <th>4</th>\n      <td>0.23</td>\n      <td>0.32</td>\n      <td>0.48</td>\n      <td>0.5</td>\n      <td>0.55</td>\n      <td>0.25</td>\n      <td>0.35</td>\n      <td>cp</td>\n    </tr>\n    <tr>\n      <th>5</th>\n      <td>0.67</td>\n      <td>0.39</td>\n      <td>0.48</td>\n      <td>0.5</td>\n      <td>0.36</td>\n      <td>0.38</td>\n      <td>0.46</td>\n      <td>cp</td>\n    </tr>\n    <tr>\n      <th>6</th>\n      <td>0.29</td>\n      <td>0.28</td>\n      <td>0.48</td>\n      <td>0.5</td>\n      <td>0.44</td>\n      <td>0.23</td>\n      <td>0.34</td>\n      <td>cp</td>\n    </tr>\n    <tr>\n      <th>7</th>\n      <td>0.21</td>\n      <td>0.34</td>\n      <td>0.48</td>\n      <td>0.5</td>\n      <td>0.51</td>\n      <td>0.28</td>\n      <td>0.39</td>\n      <td>cp</td>\n    </tr>\n    <tr>\n      <th>8</th>\n      <td>0.20</td>\n      <td>0.44</td>\n      <td>0.48</td>\n      <td>0.5</td>\n      <td>0.46</td>\n      <td>0.51</td>\n      <td>0.57</td>\n      <td>cp</td>\n    </tr>\n    <tr>\n      <th>9</th>\n      <td>0.42</td>\n      <td>0.40</td>\n      <td>0.48</td>\n      <td>0.5</td>\n      <td>0.56</td>\n      <td>0.18</td>\n      <td>0.30</td>\n      <td>cp</td>\n    </tr>\n    <tr>\n      <th>10</th>\n      <td>0.42</td>\n      <td>0.24</td>\n      <td>0.48</td>\n      <td>0.5</td>\n      <td>0.57</td>\n      <td>0.27</td>\n      <td>0.37</td>\n      <td>cp</td>\n    </tr>\n    <tr>\n      <th>11</th>\n      <td>0.25</td>\n      <td>0.48</td>\n      <td>0.48</td>\n      <td>0.5</td>\n      <td>0.44</td>\n      <td>0.17</td>\n      <td>0.29</td>\n      <td>cp</td>\n    </tr>\n    <tr>\n      <th>12</th>\n      <td>0.39</td>\n      <td>0.32</td>\n      <td>0.48</td>\n      <td>0.5</td>\n      <td>0.46</td>\n      <td>0.24</td>\n      <td>0.35</td>\n      <td>cp</td>\n    </tr>\n    <tr>\n      <th>13</th>\n      <td>0.51</td>\n      <td>0.50</td>\n      <td>0.48</td>\n      <td>0.5</td>\n      <td>0.46</td>\n      <td>0.32</td>\n      <td>0.35</td>\n      <td>cp</td>\n    </tr>\n    <tr>\n      <th>14</th>\n      <td>0.22</td>\n      <td>0.43</td>\n      <td>0.48</td>\n      <td>0.5</td>\n      <td>0.48</td>\n      <td>0.16</td>\n      <td>0.28</td>\n      <td>cp</td>\n    </tr>\n    <tr>\n      <th>15</th>\n      <td>0.25</td>\n      <td>0.40</td>\n      <td>0.48</td>\n      <td>0.5</td>\n      <td>0.46</td>\n      <td>0.44</td>\n      <td>0.52</td>\n      <td>cp</td>\n    </tr>\n    <tr>\n      <th>16</th>\n      <td>0.34</td>\n      <td>0.45</td>\n      <td>0.48</td>\n      <td>0.5</td>\n      <td>0.38</td>\n      <td>0.24</td>\n      <td>0.35</td>\n      <td>cp</td>\n    </tr>\n    <tr>\n      <th>17</th>\n      <td>0.44</td>\n      <td>0.27</td>\n      <td>0.48</td>\n      <td>0.5</td>\n      <td>0.55</td>\n      <td>0.52</td>\n      <td>0.58</td>\n      <td>cp</td>\n    </tr>\n    <tr>\n      <th>18</th>\n      <td>0.23</td>\n      <td>0.40</td>\n      <td>0.48</td>\n      <td>0.5</td>\n      <td>0.39</td>\n      <td>0.28</td>\n      <td>0.38</td>\n      <td>cp</td>\n    </tr>\n    <tr>\n      <th>19</th>\n      <td>0.41</td>\n      <td>0.57</td>\n      <td>0.48</td>\n      <td>0.5</td>\n      <td>0.39</td>\n      <td>0.21</td>\n      <td>0.32</td>\n      <td>cp</td>\n    </tr>\n    <tr>\n      <th>20</th>\n      <td>0.40</td>\n      <td>0.45</td>\n      <td>0.48</td>\n      <td>0.5</td>\n      <td>0.38</td>\n      <td>0.22</td>\n      <td>0.00</td>\n      <td>cp</td>\n    </tr>\n    <tr>\n      <th>21</th>\n      <td>0.31</td>\n      <td>0.23</td>\n      <td>0.48</td>\n      <td>0.5</td>\n      <td>0.73</td>\n      <td>0.05</td>\n      <td>0.14</td>\n      <td>cp</td>\n    </tr>\n    <tr>\n      <th>22</th>\n      <td>0.51</td>\n      <td>0.54</td>\n      <td>0.48</td>\n      <td>0.5</td>\n      <td>0.41</td>\n      <td>0.34</td>\n      <td>0.43</td>\n      <td>cp</td>\n    </tr>\n    <tr>\n      <th>23</th>\n      <td>0.30</td>\n      <td>0.16</td>\n      <td>0.48</td>\n      <td>0.5</td>\n      <td>0.56</td>\n      <td>0.11</td>\n      <td>0.23</td>\n      <td>cp</td>\n    </tr>\n    <tr>\n      <th>24</th>\n      <td>0.36</td>\n      <td>0.39</td>\n      <td>0.48</td>\n      <td>0.5</td>\n      <td>0.48</td>\n      <td>0.22</td>\n      <td>0.23</td>\n      <td>cp</td>\n    </tr>\n    <tr>\n      <th>25</th>\n      <td>0.29</td>\n      <td>0.37</td>\n      <td>0.48</td>\n      <td>0.5</td>\n      <td>0.48</td>\n      <td>0.44</td>\n      <td>0.52</td>\n      <td>cp</td>\n    </tr>\n    <tr>\n      <th>26</th>\n      <td>0.25</td>\n      <td>0.40</td>\n      <td>0.48</td>\n      <td>0.5</td>\n      <td>0.47</td>\n      <td>0.33</td>\n      <td>0.42</td>\n      <td>cp</td>\n    </tr>\n    <tr>\n      <th>27</th>\n      <td>0.21</td>\n      <td>0.51</td>\n      <td>0.48</td>\n      <td>0.5</td>\n      <td>0.50</td>\n      <td>0.32</td>\n      <td>0.41</td>\n      <td>cp</td>\n    </tr>\n    <tr>\n      <th>28</th>\n      <td>0.43</td>\n      <td>0.37</td>\n      <td>0.48</td>\n      <td>0.5</td>\n      <td>0.53</td>\n      <td>0.35</td>\n      <td>0.44</td>\n      <td>cp</td>\n    </tr>\n    <tr>\n      <th>29</th>\n      <td>0.43</td>\n      <td>0.39</td>\n      <td>0.48</td>\n      <td>0.5</td>\n      <td>0.47</td>\n      <td>0.31</td>\n      <td>0.41</td>\n      <td>cp</td>\n    </tr>\n    <tr>\n      <th>...</th>\n      <td>...</td>\n      <td>...</td>\n      <td>...</td>\n      <td>...</td>\n      <td>...</td>\n      <td>...</td>\n      <td>...</td>\n      <td>...</td>\n    </tr>\n    <tr>\n      <th>306</th>\n      <td>0.63</td>\n      <td>0.71</td>\n      <td>0.48</td>\n      <td>0.5</td>\n      <td>0.60</td>\n      <td>0.40</td>\n      <td>0.39</td>\n      <td>pp</td>\n    </tr>\n    <tr>\n      <th>307</th>\n      <td>0.71</td>\n      <td>0.86</td>\n      <td>0.48</td>\n      <td>0.5</td>\n      <td>0.40</td>\n      <td>0.54</td>\n      <td>0.32</td>\n      <td>pp</td>\n    </tr>\n    <tr>\n      <th>308</th>\n      <td>0.68</td>\n      <td>0.78</td>\n      <td>0.48</td>\n      <td>0.5</td>\n      <td>0.43</td>\n      <td>0.44</td>\n      <td>0.42</td>\n      <td>pp</td>\n    </tr>\n    <tr>\n      <th>309</th>\n      <td>0.64</td>\n      <td>0.84</td>\n      <td>0.48</td>\n      <td>0.5</td>\n      <td>0.37</td>\n      <td>0.45</td>\n      <td>0.40</td>\n      <td>pp</td>\n    </tr>\n    <tr>\n      <th>310</th>\n      <td>0.74</td>\n      <td>0.47</td>\n      <td>0.48</td>\n      <td>0.5</td>\n      <td>0.50</td>\n      <td>0.57</td>\n      <td>0.42</td>\n      <td>pp</td>\n    </tr>\n    <tr>\n      <th>311</th>\n      <td>0.75</td>\n      <td>0.84</td>\n      <td>0.48</td>\n      <td>0.5</td>\n      <td>0.35</td>\n      <td>0.52</td>\n      <td>0.33</td>\n      <td>pp</td>\n    </tr>\n    <tr>\n      <th>312</th>\n      <td>0.63</td>\n      <td>0.65</td>\n      <td>0.48</td>\n      <td>0.5</td>\n      <td>0.39</td>\n      <td>0.44</td>\n      <td>0.35</td>\n      <td>pp</td>\n    </tr>\n    <tr>\n      <th>313</th>\n      <td>0.69</td>\n      <td>0.67</td>\n      <td>0.48</td>\n      <td>0.5</td>\n      <td>0.30</td>\n      <td>0.39</td>\n      <td>0.24</td>\n      <td>pp</td>\n    </tr>\n    <tr>\n      <th>314</th>\n      <td>0.70</td>\n      <td>0.71</td>\n      <td>0.48</td>\n      <td>0.5</td>\n      <td>0.42</td>\n      <td>0.84</td>\n      <td>0.85</td>\n      <td>pp</td>\n    </tr>\n    <tr>\n      <th>315</th>\n      <td>0.69</td>\n      <td>0.80</td>\n      <td>0.48</td>\n      <td>0.5</td>\n      <td>0.46</td>\n      <td>0.57</td>\n      <td>0.26</td>\n      <td>pp</td>\n    </tr>\n    <tr>\n      <th>316</th>\n      <td>0.64</td>\n      <td>0.66</td>\n      <td>0.48</td>\n      <td>0.5</td>\n      <td>0.41</td>\n      <td>0.39</td>\n      <td>0.20</td>\n      <td>pp</td>\n    </tr>\n    <tr>\n      <th>317</th>\n      <td>0.63</td>\n      <td>0.80</td>\n      <td>0.48</td>\n      <td>0.5</td>\n      <td>0.46</td>\n      <td>0.31</td>\n      <td>0.29</td>\n      <td>pp</td>\n    </tr>\n    <tr>\n      <th>318</th>\n      <td>0.66</td>\n      <td>0.71</td>\n      <td>0.48</td>\n      <td>0.5</td>\n      <td>0.41</td>\n      <td>0.50</td>\n      <td>0.35</td>\n      <td>pp</td>\n    </tr>\n    <tr>\n      <th>319</th>\n      <td>0.69</td>\n      <td>0.59</td>\n      <td>0.48</td>\n      <td>0.5</td>\n      <td>0.46</td>\n      <td>0.44</td>\n      <td>0.52</td>\n      <td>pp</td>\n    </tr>\n    <tr>\n      <th>320</th>\n      <td>0.68</td>\n      <td>0.67</td>\n      <td>0.48</td>\n      <td>0.5</td>\n      <td>0.49</td>\n      <td>0.40</td>\n      <td>0.34</td>\n      <td>pp</td>\n    </tr>\n    <tr>\n      <th>321</th>\n      <td>0.64</td>\n      <td>0.78</td>\n      <td>0.48</td>\n      <td>0.5</td>\n      <td>0.50</td>\n      <td>0.36</td>\n      <td>0.38</td>\n      <td>pp</td>\n    </tr>\n    <tr>\n      <th>322</th>\n      <td>0.62</td>\n      <td>0.78</td>\n      <td>0.48</td>\n      <td>0.5</td>\n      <td>0.47</td>\n      <td>0.49</td>\n      <td>0.54</td>\n      <td>pp</td>\n    </tr>\n    <tr>\n      <th>323</th>\n      <td>0.76</td>\n      <td>0.73</td>\n      <td>0.48</td>\n      <td>0.5</td>\n      <td>0.44</td>\n      <td>0.39</td>\n      <td>0.39</td>\n      <td>pp</td>\n    </tr>\n    <tr>\n      <th>324</th>\n      <td>0.64</td>\n      <td>0.81</td>\n      <td>0.48</td>\n      <td>0.5</td>\n      <td>0.37</td>\n      <td>0.39</td>\n      <td>0.44</td>\n      <td>pp</td>\n    </tr>\n    <tr>\n      <th>325</th>\n      <td>0.29</td>\n      <td>0.39</td>\n      <td>0.48</td>\n      <td>0.5</td>\n      <td>0.52</td>\n      <td>0.40</td>\n      <td>0.48</td>\n      <td>pp</td>\n    </tr>\n    <tr>\n      <th>326</th>\n      <td>0.62</td>\n      <td>0.83</td>\n      <td>0.48</td>\n      <td>0.5</td>\n      <td>0.46</td>\n      <td>0.36</td>\n      <td>0.40</td>\n      <td>pp</td>\n    </tr>\n    <tr>\n      <th>327</th>\n      <td>0.56</td>\n      <td>0.54</td>\n      <td>0.48</td>\n      <td>0.5</td>\n      <td>0.43</td>\n      <td>0.37</td>\n      <td>0.30</td>\n      <td>pp</td>\n    </tr>\n    <tr>\n      <th>328</th>\n      <td>0.69</td>\n      <td>0.66</td>\n      <td>0.48</td>\n      <td>0.5</td>\n      <td>0.41</td>\n      <td>0.50</td>\n      <td>0.25</td>\n      <td>pp</td>\n    </tr>\n    <tr>\n      <th>329</th>\n      <td>0.69</td>\n      <td>0.65</td>\n      <td>0.48</td>\n      <td>0.5</td>\n      <td>0.63</td>\n      <td>0.48</td>\n      <td>0.41</td>\n      <td>pp</td>\n    </tr>\n    <tr>\n      <th>330</th>\n      <td>0.43</td>\n      <td>0.59</td>\n      <td>0.48</td>\n      <td>0.5</td>\n      <td>0.52</td>\n      <td>0.49</td>\n      <td>0.56</td>\n      <td>pp</td>\n    </tr>\n    <tr>\n      <th>331</th>\n      <td>0.74</td>\n      <td>0.56</td>\n      <td>0.48</td>\n      <td>0.5</td>\n      <td>0.47</td>\n      <td>0.68</td>\n      <td>0.30</td>\n      <td>pp</td>\n    </tr>\n    <tr>\n      <th>332</th>\n      <td>0.71</td>\n      <td>0.57</td>\n      <td>0.48</td>\n      <td>0.5</td>\n      <td>0.48</td>\n      <td>0.35</td>\n      <td>0.32</td>\n      <td>pp</td>\n    </tr>\n    <tr>\n      <th>333</th>\n      <td>0.61</td>\n      <td>0.60</td>\n      <td>0.48</td>\n      <td>0.5</td>\n      <td>0.44</td>\n      <td>0.39</td>\n      <td>0.38</td>\n      <td>pp</td>\n    </tr>\n    <tr>\n      <th>334</th>\n      <td>0.59</td>\n      <td>0.61</td>\n      <td>0.48</td>\n      <td>0.5</td>\n      <td>0.42</td>\n      <td>0.42</td>\n      <td>0.37</td>\n      <td>pp</td>\n    </tr>\n    <tr>\n      <th>335</th>\n      <td>0.74</td>\n      <td>0.74</td>\n      <td>0.48</td>\n      <td>0.5</td>\n      <td>0.31</td>\n      <td>0.53</td>\n      <td>0.52</td>\n      <td>pp</td>\n    </tr>\n  </tbody>\n</table>\n<p>336 rows × 8 columns</p>\n</div>"
     },
     "execution_count": 117,
     "metadata": {},
     "output_type": "execute_result"
    }
   ],
   "source": [
    "from sklearn import tree, preprocessing\n",
    "from sklearn.neighbors import KNeighborsClassifier\n",
    "from sklearn.naive_bayes import GaussianNB\n",
    "from sklearn.linear_model import LogisticRegression\n",
    "from sklearn.neural_network import MLPClassifier\n",
    "from sklearn import model_selection\n",
    "from sklearn.preprocessing import StandardScaler, OneHotEncoder\n",
    "from sklearn import metrics\n",
    "import pandas as pd\n",
    "import numpy as np\n",
    "\n",
    "\n",
    "dataset_ecoli = pd.read_csv('ecoli.data', sep=',')\n",
    "print(\"\\nDataset ecoli:\")\n",
    "dataset_ecoli"
   ]
  },
  {
   "cell_type": "code",
   "execution_count": 118,
   "metadata": {
    "pycharm": {
     "name": "#%%\n"
    }
   },
   "outputs": [
    {
     "data": {
      "text/plain": "Index(['mcg', 'gvh', 'lip', 'chg', 'aac', 'alm1', 'alm2', 'resultado'], dtype='object')"
     },
     "execution_count": 118,
     "metadata": {},
     "output_type": "execute_result"
    }
   ],
   "source": [
    "dataset_ecoli.columns"
   ]
  },
  {
   "cell_type": "code",
   "execution_count": 119,
   "outputs": [
    {
     "data": {
      "text/plain": "      mcg   gvh   lip  chg   aac  alm1  alm2    0    1    2    3    4    5  \\\n0    0.49  0.29  0.48  0.5  0.56  0.24  0.35  1.0  0.0  0.0  0.0  0.0  0.0   \n1    0.07  0.40  0.48  0.5  0.54  0.35  0.44  1.0  0.0  0.0  0.0  0.0  0.0   \n2    0.56  0.40  0.48  0.5  0.49  0.37  0.46  1.0  0.0  0.0  0.0  0.0  0.0   \n3    0.59  0.49  0.48  0.5  0.52  0.45  0.36  1.0  0.0  0.0  0.0  0.0  0.0   \n4    0.23  0.32  0.48  0.5  0.55  0.25  0.35  1.0  0.0  0.0  0.0  0.0  0.0   \n5    0.67  0.39  0.48  0.5  0.36  0.38  0.46  1.0  0.0  0.0  0.0  0.0  0.0   \n6    0.29  0.28  0.48  0.5  0.44  0.23  0.34  1.0  0.0  0.0  0.0  0.0  0.0   \n7    0.21  0.34  0.48  0.5  0.51  0.28  0.39  1.0  0.0  0.0  0.0  0.0  0.0   \n8    0.20  0.44  0.48  0.5  0.46  0.51  0.57  1.0  0.0  0.0  0.0  0.0  0.0   \n9    0.42  0.40  0.48  0.5  0.56  0.18  0.30  1.0  0.0  0.0  0.0  0.0  0.0   \n10   0.42  0.24  0.48  0.5  0.57  0.27  0.37  1.0  0.0  0.0  0.0  0.0  0.0   \n11   0.25  0.48  0.48  0.5  0.44  0.17  0.29  1.0  0.0  0.0  0.0  0.0  0.0   \n12   0.39  0.32  0.48  0.5  0.46  0.24  0.35  1.0  0.0  0.0  0.0  0.0  0.0   \n13   0.51  0.50  0.48  0.5  0.46  0.32  0.35  1.0  0.0  0.0  0.0  0.0  0.0   \n14   0.22  0.43  0.48  0.5  0.48  0.16  0.28  1.0  0.0  0.0  0.0  0.0  0.0   \n15   0.25  0.40  0.48  0.5  0.46  0.44  0.52  1.0  0.0  0.0  0.0  0.0  0.0   \n16   0.34  0.45  0.48  0.5  0.38  0.24  0.35  1.0  0.0  0.0  0.0  0.0  0.0   \n17   0.44  0.27  0.48  0.5  0.55  0.52  0.58  1.0  0.0  0.0  0.0  0.0  0.0   \n18   0.23  0.40  0.48  0.5  0.39  0.28  0.38  1.0  0.0  0.0  0.0  0.0  0.0   \n19   0.41  0.57  0.48  0.5  0.39  0.21  0.32  1.0  0.0  0.0  0.0  0.0  0.0   \n20   0.40  0.45  0.48  0.5  0.38  0.22  0.00  1.0  0.0  0.0  0.0  0.0  0.0   \n21   0.31  0.23  0.48  0.5  0.73  0.05  0.14  1.0  0.0  0.0  0.0  0.0  0.0   \n22   0.51  0.54  0.48  0.5  0.41  0.34  0.43  1.0  0.0  0.0  0.0  0.0  0.0   \n23   0.30  0.16  0.48  0.5  0.56  0.11  0.23  1.0  0.0  0.0  0.0  0.0  0.0   \n24   0.36  0.39  0.48  0.5  0.48  0.22  0.23  1.0  0.0  0.0  0.0  0.0  0.0   \n25   0.29  0.37  0.48  0.5  0.48  0.44  0.52  1.0  0.0  0.0  0.0  0.0  0.0   \n26   0.25  0.40  0.48  0.5  0.47  0.33  0.42  1.0  0.0  0.0  0.0  0.0  0.0   \n27   0.21  0.51  0.48  0.5  0.50  0.32  0.41  1.0  0.0  0.0  0.0  0.0  0.0   \n28   0.43  0.37  0.48  0.5  0.53  0.35  0.44  1.0  0.0  0.0  0.0  0.0  0.0   \n29   0.43  0.39  0.48  0.5  0.47  0.31  0.41  1.0  0.0  0.0  0.0  0.0  0.0   \n..    ...   ...   ...  ...   ...   ...   ...  ...  ...  ...  ...  ...  ...   \n306  0.63  0.71  0.48  0.5  0.60  0.40  0.39  0.0  0.0  0.0  0.0  0.0  0.0   \n307  0.71  0.86  0.48  0.5  0.40  0.54  0.32  0.0  0.0  0.0  0.0  0.0  0.0   \n308  0.68  0.78  0.48  0.5  0.43  0.44  0.42  0.0  0.0  0.0  0.0  0.0  0.0   \n309  0.64  0.84  0.48  0.5  0.37  0.45  0.40  0.0  0.0  0.0  0.0  0.0  0.0   \n310  0.74  0.47  0.48  0.5  0.50  0.57  0.42  0.0  0.0  0.0  0.0  0.0  0.0   \n311  0.75  0.84  0.48  0.5  0.35  0.52  0.33  0.0  0.0  0.0  0.0  0.0  0.0   \n312  0.63  0.65  0.48  0.5  0.39  0.44  0.35  0.0  0.0  0.0  0.0  0.0  0.0   \n313  0.69  0.67  0.48  0.5  0.30  0.39  0.24  0.0  0.0  0.0  0.0  0.0  0.0   \n314  0.70  0.71  0.48  0.5  0.42  0.84  0.85  0.0  0.0  0.0  0.0  0.0  0.0   \n315  0.69  0.80  0.48  0.5  0.46  0.57  0.26  0.0  0.0  0.0  0.0  0.0  0.0   \n316  0.64  0.66  0.48  0.5  0.41  0.39  0.20  0.0  0.0  0.0  0.0  0.0  0.0   \n317  0.63  0.80  0.48  0.5  0.46  0.31  0.29  0.0  0.0  0.0  0.0  0.0  0.0   \n318  0.66  0.71  0.48  0.5  0.41  0.50  0.35  0.0  0.0  0.0  0.0  0.0  0.0   \n319  0.69  0.59  0.48  0.5  0.46  0.44  0.52  0.0  0.0  0.0  0.0  0.0  0.0   \n320  0.68  0.67  0.48  0.5  0.49  0.40  0.34  0.0  0.0  0.0  0.0  0.0  0.0   \n321  0.64  0.78  0.48  0.5  0.50  0.36  0.38  0.0  0.0  0.0  0.0  0.0  0.0   \n322  0.62  0.78  0.48  0.5  0.47  0.49  0.54  0.0  0.0  0.0  0.0  0.0  0.0   \n323  0.76  0.73  0.48  0.5  0.44  0.39  0.39  0.0  0.0  0.0  0.0  0.0  0.0   \n324  0.64  0.81  0.48  0.5  0.37  0.39  0.44  0.0  0.0  0.0  0.0  0.0  0.0   \n325  0.29  0.39  0.48  0.5  0.52  0.40  0.48  0.0  0.0  0.0  0.0  0.0  0.0   \n326  0.62  0.83  0.48  0.5  0.46  0.36  0.40  0.0  0.0  0.0  0.0  0.0  0.0   \n327  0.56  0.54  0.48  0.5  0.43  0.37  0.30  0.0  0.0  0.0  0.0  0.0  0.0   \n328  0.69  0.66  0.48  0.5  0.41  0.50  0.25  0.0  0.0  0.0  0.0  0.0  0.0   \n329  0.69  0.65  0.48  0.5  0.63  0.48  0.41  0.0  0.0  0.0  0.0  0.0  0.0   \n330  0.43  0.59  0.48  0.5  0.52  0.49  0.56  0.0  0.0  0.0  0.0  0.0  0.0   \n331  0.74  0.56  0.48  0.5  0.47  0.68  0.30  0.0  0.0  0.0  0.0  0.0  0.0   \n332  0.71  0.57  0.48  0.5  0.48  0.35  0.32  0.0  0.0  0.0  0.0  0.0  0.0   \n333  0.61  0.60  0.48  0.5  0.44  0.39  0.38  0.0  0.0  0.0  0.0  0.0  0.0   \n334  0.59  0.61  0.48  0.5  0.42  0.42  0.37  0.0  0.0  0.0  0.0  0.0  0.0   \n335  0.74  0.74  0.48  0.5  0.31  0.53  0.52  0.0  0.0  0.0  0.0  0.0  0.0   \n\n       6    7  \n0    0.0  0.0  \n1    0.0  0.0  \n2    0.0  0.0  \n3    0.0  0.0  \n4    0.0  0.0  \n5    0.0  0.0  \n6    0.0  0.0  \n7    0.0  0.0  \n8    0.0  0.0  \n9    0.0  0.0  \n10   0.0  0.0  \n11   0.0  0.0  \n12   0.0  0.0  \n13   0.0  0.0  \n14   0.0  0.0  \n15   0.0  0.0  \n16   0.0  0.0  \n17   0.0  0.0  \n18   0.0  0.0  \n19   0.0  0.0  \n20   0.0  0.0  \n21   0.0  0.0  \n22   0.0  0.0  \n23   0.0  0.0  \n24   0.0  0.0  \n25   0.0  0.0  \n26   0.0  0.0  \n27   0.0  0.0  \n28   0.0  0.0  \n29   0.0  0.0  \n..   ...  ...  \n306  0.0  1.0  \n307  0.0  1.0  \n308  0.0  1.0  \n309  0.0  1.0  \n310  0.0  1.0  \n311  0.0  1.0  \n312  0.0  1.0  \n313  0.0  1.0  \n314  0.0  1.0  \n315  0.0  1.0  \n316  0.0  1.0  \n317  0.0  1.0  \n318  0.0  1.0  \n319  0.0  1.0  \n320  0.0  1.0  \n321  0.0  1.0  \n322  0.0  1.0  \n323  0.0  1.0  \n324  0.0  1.0  \n325  0.0  1.0  \n326  0.0  1.0  \n327  0.0  1.0  \n328  0.0  1.0  \n329  0.0  1.0  \n330  0.0  1.0  \n331  0.0  1.0  \n332  0.0  1.0  \n333  0.0  1.0  \n334  0.0  1.0  \n335  0.0  1.0  \n\n[336 rows x 15 columns]",
      "text/html": "<div>\n<style scoped>\n    .dataframe tbody tr th:only-of-type {\n        vertical-align: middle;\n    }\n\n    .dataframe tbody tr th {\n        vertical-align: top;\n    }\n\n    .dataframe thead th {\n        text-align: right;\n    }\n</style>\n<table border=\"1\" class=\"dataframe\">\n  <thead>\n    <tr style=\"text-align: right;\">\n      <th></th>\n      <th>mcg</th>\n      <th>gvh</th>\n      <th>lip</th>\n      <th>chg</th>\n      <th>aac</th>\n      <th>alm1</th>\n      <th>alm2</th>\n      <th>0</th>\n      <th>1</th>\n      <th>2</th>\n      <th>3</th>\n      <th>4</th>\n      <th>5</th>\n      <th>6</th>\n      <th>7</th>\n    </tr>\n  </thead>\n  <tbody>\n    <tr>\n      <th>0</th>\n      <td>0.49</td>\n      <td>0.29</td>\n      <td>0.48</td>\n      <td>0.5</td>\n      <td>0.56</td>\n      <td>0.24</td>\n      <td>0.35</td>\n      <td>1.0</td>\n      <td>0.0</td>\n      <td>0.0</td>\n      <td>0.0</td>\n      <td>0.0</td>\n      <td>0.0</td>\n      <td>0.0</td>\n      <td>0.0</td>\n    </tr>\n    <tr>\n      <th>1</th>\n      <td>0.07</td>\n      <td>0.40</td>\n      <td>0.48</td>\n      <td>0.5</td>\n      <td>0.54</td>\n      <td>0.35</td>\n      <td>0.44</td>\n      <td>1.0</td>\n      <td>0.0</td>\n      <td>0.0</td>\n      <td>0.0</td>\n      <td>0.0</td>\n      <td>0.0</td>\n      <td>0.0</td>\n      <td>0.0</td>\n    </tr>\n    <tr>\n      <th>2</th>\n      <td>0.56</td>\n      <td>0.40</td>\n      <td>0.48</td>\n      <td>0.5</td>\n      <td>0.49</td>\n      <td>0.37</td>\n      <td>0.46</td>\n      <td>1.0</td>\n      <td>0.0</td>\n      <td>0.0</td>\n      <td>0.0</td>\n      <td>0.0</td>\n      <td>0.0</td>\n      <td>0.0</td>\n      <td>0.0</td>\n    </tr>\n    <tr>\n      <th>3</th>\n      <td>0.59</td>\n      <td>0.49</td>\n      <td>0.48</td>\n      <td>0.5</td>\n      <td>0.52</td>\n      <td>0.45</td>\n      <td>0.36</td>\n      <td>1.0</td>\n      <td>0.0</td>\n      <td>0.0</td>\n      <td>0.0</td>\n      <td>0.0</td>\n      <td>0.0</td>\n      <td>0.0</td>\n      <td>0.0</td>\n    </tr>\n    <tr>\n      <th>4</th>\n      <td>0.23</td>\n      <td>0.32</td>\n      <td>0.48</td>\n      <td>0.5</td>\n      <td>0.55</td>\n      <td>0.25</td>\n      <td>0.35</td>\n      <td>1.0</td>\n      <td>0.0</td>\n      <td>0.0</td>\n      <td>0.0</td>\n      <td>0.0</td>\n      <td>0.0</td>\n      <td>0.0</td>\n      <td>0.0</td>\n    </tr>\n    <tr>\n      <th>5</th>\n      <td>0.67</td>\n      <td>0.39</td>\n      <td>0.48</td>\n      <td>0.5</td>\n      <td>0.36</td>\n      <td>0.38</td>\n      <td>0.46</td>\n      <td>1.0</td>\n      <td>0.0</td>\n      <td>0.0</td>\n      <td>0.0</td>\n      <td>0.0</td>\n      <td>0.0</td>\n      <td>0.0</td>\n      <td>0.0</td>\n    </tr>\n    <tr>\n      <th>6</th>\n      <td>0.29</td>\n      <td>0.28</td>\n      <td>0.48</td>\n      <td>0.5</td>\n      <td>0.44</td>\n      <td>0.23</td>\n      <td>0.34</td>\n      <td>1.0</td>\n      <td>0.0</td>\n      <td>0.0</td>\n      <td>0.0</td>\n      <td>0.0</td>\n      <td>0.0</td>\n      <td>0.0</td>\n      <td>0.0</td>\n    </tr>\n    <tr>\n      <th>7</th>\n      <td>0.21</td>\n      <td>0.34</td>\n      <td>0.48</td>\n      <td>0.5</td>\n      <td>0.51</td>\n      <td>0.28</td>\n      <td>0.39</td>\n      <td>1.0</td>\n      <td>0.0</td>\n      <td>0.0</td>\n      <td>0.0</td>\n      <td>0.0</td>\n      <td>0.0</td>\n      <td>0.0</td>\n      <td>0.0</td>\n    </tr>\n    <tr>\n      <th>8</th>\n      <td>0.20</td>\n      <td>0.44</td>\n      <td>0.48</td>\n      <td>0.5</td>\n      <td>0.46</td>\n      <td>0.51</td>\n      <td>0.57</td>\n      <td>1.0</td>\n      <td>0.0</td>\n      <td>0.0</td>\n      <td>0.0</td>\n      <td>0.0</td>\n      <td>0.0</td>\n      <td>0.0</td>\n      <td>0.0</td>\n    </tr>\n    <tr>\n      <th>9</th>\n      <td>0.42</td>\n      <td>0.40</td>\n      <td>0.48</td>\n      <td>0.5</td>\n      <td>0.56</td>\n      <td>0.18</td>\n      <td>0.30</td>\n      <td>1.0</td>\n      <td>0.0</td>\n      <td>0.0</td>\n      <td>0.0</td>\n      <td>0.0</td>\n      <td>0.0</td>\n      <td>0.0</td>\n      <td>0.0</td>\n    </tr>\n    <tr>\n      <th>10</th>\n      <td>0.42</td>\n      <td>0.24</td>\n      <td>0.48</td>\n      <td>0.5</td>\n      <td>0.57</td>\n      <td>0.27</td>\n      <td>0.37</td>\n      <td>1.0</td>\n      <td>0.0</td>\n      <td>0.0</td>\n      <td>0.0</td>\n      <td>0.0</td>\n      <td>0.0</td>\n      <td>0.0</td>\n      <td>0.0</td>\n    </tr>\n    <tr>\n      <th>11</th>\n      <td>0.25</td>\n      <td>0.48</td>\n      <td>0.48</td>\n      <td>0.5</td>\n      <td>0.44</td>\n      <td>0.17</td>\n      <td>0.29</td>\n      <td>1.0</td>\n      <td>0.0</td>\n      <td>0.0</td>\n      <td>0.0</td>\n      <td>0.0</td>\n      <td>0.0</td>\n      <td>0.0</td>\n      <td>0.0</td>\n    </tr>\n    <tr>\n      <th>12</th>\n      <td>0.39</td>\n      <td>0.32</td>\n      <td>0.48</td>\n      <td>0.5</td>\n      <td>0.46</td>\n      <td>0.24</td>\n      <td>0.35</td>\n      <td>1.0</td>\n      <td>0.0</td>\n      <td>0.0</td>\n      <td>0.0</td>\n      <td>0.0</td>\n      <td>0.0</td>\n      <td>0.0</td>\n      <td>0.0</td>\n    </tr>\n    <tr>\n      <th>13</th>\n      <td>0.51</td>\n      <td>0.50</td>\n      <td>0.48</td>\n      <td>0.5</td>\n      <td>0.46</td>\n      <td>0.32</td>\n      <td>0.35</td>\n      <td>1.0</td>\n      <td>0.0</td>\n      <td>0.0</td>\n      <td>0.0</td>\n      <td>0.0</td>\n      <td>0.0</td>\n      <td>0.0</td>\n      <td>0.0</td>\n    </tr>\n    <tr>\n      <th>14</th>\n      <td>0.22</td>\n      <td>0.43</td>\n      <td>0.48</td>\n      <td>0.5</td>\n      <td>0.48</td>\n      <td>0.16</td>\n      <td>0.28</td>\n      <td>1.0</td>\n      <td>0.0</td>\n      <td>0.0</td>\n      <td>0.0</td>\n      <td>0.0</td>\n      <td>0.0</td>\n      <td>0.0</td>\n      <td>0.0</td>\n    </tr>\n    <tr>\n      <th>15</th>\n      <td>0.25</td>\n      <td>0.40</td>\n      <td>0.48</td>\n      <td>0.5</td>\n      <td>0.46</td>\n      <td>0.44</td>\n      <td>0.52</td>\n      <td>1.0</td>\n      <td>0.0</td>\n      <td>0.0</td>\n      <td>0.0</td>\n      <td>0.0</td>\n      <td>0.0</td>\n      <td>0.0</td>\n      <td>0.0</td>\n    </tr>\n    <tr>\n      <th>16</th>\n      <td>0.34</td>\n      <td>0.45</td>\n      <td>0.48</td>\n      <td>0.5</td>\n      <td>0.38</td>\n      <td>0.24</td>\n      <td>0.35</td>\n      <td>1.0</td>\n      <td>0.0</td>\n      <td>0.0</td>\n      <td>0.0</td>\n      <td>0.0</td>\n      <td>0.0</td>\n      <td>0.0</td>\n      <td>0.0</td>\n    </tr>\n    <tr>\n      <th>17</th>\n      <td>0.44</td>\n      <td>0.27</td>\n      <td>0.48</td>\n      <td>0.5</td>\n      <td>0.55</td>\n      <td>0.52</td>\n      <td>0.58</td>\n      <td>1.0</td>\n      <td>0.0</td>\n      <td>0.0</td>\n      <td>0.0</td>\n      <td>0.0</td>\n      <td>0.0</td>\n      <td>0.0</td>\n      <td>0.0</td>\n    </tr>\n    <tr>\n      <th>18</th>\n      <td>0.23</td>\n      <td>0.40</td>\n      <td>0.48</td>\n      <td>0.5</td>\n      <td>0.39</td>\n      <td>0.28</td>\n      <td>0.38</td>\n      <td>1.0</td>\n      <td>0.0</td>\n      <td>0.0</td>\n      <td>0.0</td>\n      <td>0.0</td>\n      <td>0.0</td>\n      <td>0.0</td>\n      <td>0.0</td>\n    </tr>\n    <tr>\n      <th>19</th>\n      <td>0.41</td>\n      <td>0.57</td>\n      <td>0.48</td>\n      <td>0.5</td>\n      <td>0.39</td>\n      <td>0.21</td>\n      <td>0.32</td>\n      <td>1.0</td>\n      <td>0.0</td>\n      <td>0.0</td>\n      <td>0.0</td>\n      <td>0.0</td>\n      <td>0.0</td>\n      <td>0.0</td>\n      <td>0.0</td>\n    </tr>\n    <tr>\n      <th>20</th>\n      <td>0.40</td>\n      <td>0.45</td>\n      <td>0.48</td>\n      <td>0.5</td>\n      <td>0.38</td>\n      <td>0.22</td>\n      <td>0.00</td>\n      <td>1.0</td>\n      <td>0.0</td>\n      <td>0.0</td>\n      <td>0.0</td>\n      <td>0.0</td>\n      <td>0.0</td>\n      <td>0.0</td>\n      <td>0.0</td>\n    </tr>\n    <tr>\n      <th>21</th>\n      <td>0.31</td>\n      <td>0.23</td>\n      <td>0.48</td>\n      <td>0.5</td>\n      <td>0.73</td>\n      <td>0.05</td>\n      <td>0.14</td>\n      <td>1.0</td>\n      <td>0.0</td>\n      <td>0.0</td>\n      <td>0.0</td>\n      <td>0.0</td>\n      <td>0.0</td>\n      <td>0.0</td>\n      <td>0.0</td>\n    </tr>\n    <tr>\n      <th>22</th>\n      <td>0.51</td>\n      <td>0.54</td>\n      <td>0.48</td>\n      <td>0.5</td>\n      <td>0.41</td>\n      <td>0.34</td>\n      <td>0.43</td>\n      <td>1.0</td>\n      <td>0.0</td>\n      <td>0.0</td>\n      <td>0.0</td>\n      <td>0.0</td>\n      <td>0.0</td>\n      <td>0.0</td>\n      <td>0.0</td>\n    </tr>\n    <tr>\n      <th>23</th>\n      <td>0.30</td>\n      <td>0.16</td>\n      <td>0.48</td>\n      <td>0.5</td>\n      <td>0.56</td>\n      <td>0.11</td>\n      <td>0.23</td>\n      <td>1.0</td>\n      <td>0.0</td>\n      <td>0.0</td>\n      <td>0.0</td>\n      <td>0.0</td>\n      <td>0.0</td>\n      <td>0.0</td>\n      <td>0.0</td>\n    </tr>\n    <tr>\n      <th>24</th>\n      <td>0.36</td>\n      <td>0.39</td>\n      <td>0.48</td>\n      <td>0.5</td>\n      <td>0.48</td>\n      <td>0.22</td>\n      <td>0.23</td>\n      <td>1.0</td>\n      <td>0.0</td>\n      <td>0.0</td>\n      <td>0.0</td>\n      <td>0.0</td>\n      <td>0.0</td>\n      <td>0.0</td>\n      <td>0.0</td>\n    </tr>\n    <tr>\n      <th>25</th>\n      <td>0.29</td>\n      <td>0.37</td>\n      <td>0.48</td>\n      <td>0.5</td>\n      <td>0.48</td>\n      <td>0.44</td>\n      <td>0.52</td>\n      <td>1.0</td>\n      <td>0.0</td>\n      <td>0.0</td>\n      <td>0.0</td>\n      <td>0.0</td>\n      <td>0.0</td>\n      <td>0.0</td>\n      <td>0.0</td>\n    </tr>\n    <tr>\n      <th>26</th>\n      <td>0.25</td>\n      <td>0.40</td>\n      <td>0.48</td>\n      <td>0.5</td>\n      <td>0.47</td>\n      <td>0.33</td>\n      <td>0.42</td>\n      <td>1.0</td>\n      <td>0.0</td>\n      <td>0.0</td>\n      <td>0.0</td>\n      <td>0.0</td>\n      <td>0.0</td>\n      <td>0.0</td>\n      <td>0.0</td>\n    </tr>\n    <tr>\n      <th>27</th>\n      <td>0.21</td>\n      <td>0.51</td>\n      <td>0.48</td>\n      <td>0.5</td>\n      <td>0.50</td>\n      <td>0.32</td>\n      <td>0.41</td>\n      <td>1.0</td>\n      <td>0.0</td>\n      <td>0.0</td>\n      <td>0.0</td>\n      <td>0.0</td>\n      <td>0.0</td>\n      <td>0.0</td>\n      <td>0.0</td>\n    </tr>\n    <tr>\n      <th>28</th>\n      <td>0.43</td>\n      <td>0.37</td>\n      <td>0.48</td>\n      <td>0.5</td>\n      <td>0.53</td>\n      <td>0.35</td>\n      <td>0.44</td>\n      <td>1.0</td>\n      <td>0.0</td>\n      <td>0.0</td>\n      <td>0.0</td>\n      <td>0.0</td>\n      <td>0.0</td>\n      <td>0.0</td>\n      <td>0.0</td>\n    </tr>\n    <tr>\n      <th>29</th>\n      <td>0.43</td>\n      <td>0.39</td>\n      <td>0.48</td>\n      <td>0.5</td>\n      <td>0.47</td>\n      <td>0.31</td>\n      <td>0.41</td>\n      <td>1.0</td>\n      <td>0.0</td>\n      <td>0.0</td>\n      <td>0.0</td>\n      <td>0.0</td>\n      <td>0.0</td>\n      <td>0.0</td>\n      <td>0.0</td>\n    </tr>\n    <tr>\n      <th>...</th>\n      <td>...</td>\n      <td>...</td>\n      <td>...</td>\n      <td>...</td>\n      <td>...</td>\n      <td>...</td>\n      <td>...</td>\n      <td>...</td>\n      <td>...</td>\n      <td>...</td>\n      <td>...</td>\n      <td>...</td>\n      <td>...</td>\n      <td>...</td>\n      <td>...</td>\n    </tr>\n    <tr>\n      <th>306</th>\n      <td>0.63</td>\n      <td>0.71</td>\n      <td>0.48</td>\n      <td>0.5</td>\n      <td>0.60</td>\n      <td>0.40</td>\n      <td>0.39</td>\n      <td>0.0</td>\n      <td>0.0</td>\n      <td>0.0</td>\n      <td>0.0</td>\n      <td>0.0</td>\n      <td>0.0</td>\n      <td>0.0</td>\n      <td>1.0</td>\n    </tr>\n    <tr>\n      <th>307</th>\n      <td>0.71</td>\n      <td>0.86</td>\n      <td>0.48</td>\n      <td>0.5</td>\n      <td>0.40</td>\n      <td>0.54</td>\n      <td>0.32</td>\n      <td>0.0</td>\n      <td>0.0</td>\n      <td>0.0</td>\n      <td>0.0</td>\n      <td>0.0</td>\n      <td>0.0</td>\n      <td>0.0</td>\n      <td>1.0</td>\n    </tr>\n    <tr>\n      <th>308</th>\n      <td>0.68</td>\n      <td>0.78</td>\n      <td>0.48</td>\n      <td>0.5</td>\n      <td>0.43</td>\n      <td>0.44</td>\n      <td>0.42</td>\n      <td>0.0</td>\n      <td>0.0</td>\n      <td>0.0</td>\n      <td>0.0</td>\n      <td>0.0</td>\n      <td>0.0</td>\n      <td>0.0</td>\n      <td>1.0</td>\n    </tr>\n    <tr>\n      <th>309</th>\n      <td>0.64</td>\n      <td>0.84</td>\n      <td>0.48</td>\n      <td>0.5</td>\n      <td>0.37</td>\n      <td>0.45</td>\n      <td>0.40</td>\n      <td>0.0</td>\n      <td>0.0</td>\n      <td>0.0</td>\n      <td>0.0</td>\n      <td>0.0</td>\n      <td>0.0</td>\n      <td>0.0</td>\n      <td>1.0</td>\n    </tr>\n    <tr>\n      <th>310</th>\n      <td>0.74</td>\n      <td>0.47</td>\n      <td>0.48</td>\n      <td>0.5</td>\n      <td>0.50</td>\n      <td>0.57</td>\n      <td>0.42</td>\n      <td>0.0</td>\n      <td>0.0</td>\n      <td>0.0</td>\n      <td>0.0</td>\n      <td>0.0</td>\n      <td>0.0</td>\n      <td>0.0</td>\n      <td>1.0</td>\n    </tr>\n    <tr>\n      <th>311</th>\n      <td>0.75</td>\n      <td>0.84</td>\n      <td>0.48</td>\n      <td>0.5</td>\n      <td>0.35</td>\n      <td>0.52</td>\n      <td>0.33</td>\n      <td>0.0</td>\n      <td>0.0</td>\n      <td>0.0</td>\n      <td>0.0</td>\n      <td>0.0</td>\n      <td>0.0</td>\n      <td>0.0</td>\n      <td>1.0</td>\n    </tr>\n    <tr>\n      <th>312</th>\n      <td>0.63</td>\n      <td>0.65</td>\n      <td>0.48</td>\n      <td>0.5</td>\n      <td>0.39</td>\n      <td>0.44</td>\n      <td>0.35</td>\n      <td>0.0</td>\n      <td>0.0</td>\n      <td>0.0</td>\n      <td>0.0</td>\n      <td>0.0</td>\n      <td>0.0</td>\n      <td>0.0</td>\n      <td>1.0</td>\n    </tr>\n    <tr>\n      <th>313</th>\n      <td>0.69</td>\n      <td>0.67</td>\n      <td>0.48</td>\n      <td>0.5</td>\n      <td>0.30</td>\n      <td>0.39</td>\n      <td>0.24</td>\n      <td>0.0</td>\n      <td>0.0</td>\n      <td>0.0</td>\n      <td>0.0</td>\n      <td>0.0</td>\n      <td>0.0</td>\n      <td>0.0</td>\n      <td>1.0</td>\n    </tr>\n    <tr>\n      <th>314</th>\n      <td>0.70</td>\n      <td>0.71</td>\n      <td>0.48</td>\n      <td>0.5</td>\n      <td>0.42</td>\n      <td>0.84</td>\n      <td>0.85</td>\n      <td>0.0</td>\n      <td>0.0</td>\n      <td>0.0</td>\n      <td>0.0</td>\n      <td>0.0</td>\n      <td>0.0</td>\n      <td>0.0</td>\n      <td>1.0</td>\n    </tr>\n    <tr>\n      <th>315</th>\n      <td>0.69</td>\n      <td>0.80</td>\n      <td>0.48</td>\n      <td>0.5</td>\n      <td>0.46</td>\n      <td>0.57</td>\n      <td>0.26</td>\n      <td>0.0</td>\n      <td>0.0</td>\n      <td>0.0</td>\n      <td>0.0</td>\n      <td>0.0</td>\n      <td>0.0</td>\n      <td>0.0</td>\n      <td>1.0</td>\n    </tr>\n    <tr>\n      <th>316</th>\n      <td>0.64</td>\n      <td>0.66</td>\n      <td>0.48</td>\n      <td>0.5</td>\n      <td>0.41</td>\n      <td>0.39</td>\n      <td>0.20</td>\n      <td>0.0</td>\n      <td>0.0</td>\n      <td>0.0</td>\n      <td>0.0</td>\n      <td>0.0</td>\n      <td>0.0</td>\n      <td>0.0</td>\n      <td>1.0</td>\n    </tr>\n    <tr>\n      <th>317</th>\n      <td>0.63</td>\n      <td>0.80</td>\n      <td>0.48</td>\n      <td>0.5</td>\n      <td>0.46</td>\n      <td>0.31</td>\n      <td>0.29</td>\n      <td>0.0</td>\n      <td>0.0</td>\n      <td>0.0</td>\n      <td>0.0</td>\n      <td>0.0</td>\n      <td>0.0</td>\n      <td>0.0</td>\n      <td>1.0</td>\n    </tr>\n    <tr>\n      <th>318</th>\n      <td>0.66</td>\n      <td>0.71</td>\n      <td>0.48</td>\n      <td>0.5</td>\n      <td>0.41</td>\n      <td>0.50</td>\n      <td>0.35</td>\n      <td>0.0</td>\n      <td>0.0</td>\n      <td>0.0</td>\n      <td>0.0</td>\n      <td>0.0</td>\n      <td>0.0</td>\n      <td>0.0</td>\n      <td>1.0</td>\n    </tr>\n    <tr>\n      <th>319</th>\n      <td>0.69</td>\n      <td>0.59</td>\n      <td>0.48</td>\n      <td>0.5</td>\n      <td>0.46</td>\n      <td>0.44</td>\n      <td>0.52</td>\n      <td>0.0</td>\n      <td>0.0</td>\n      <td>0.0</td>\n      <td>0.0</td>\n      <td>0.0</td>\n      <td>0.0</td>\n      <td>0.0</td>\n      <td>1.0</td>\n    </tr>\n    <tr>\n      <th>320</th>\n      <td>0.68</td>\n      <td>0.67</td>\n      <td>0.48</td>\n      <td>0.5</td>\n      <td>0.49</td>\n      <td>0.40</td>\n      <td>0.34</td>\n      <td>0.0</td>\n      <td>0.0</td>\n      <td>0.0</td>\n      <td>0.0</td>\n      <td>0.0</td>\n      <td>0.0</td>\n      <td>0.0</td>\n      <td>1.0</td>\n    </tr>\n    <tr>\n      <th>321</th>\n      <td>0.64</td>\n      <td>0.78</td>\n      <td>0.48</td>\n      <td>0.5</td>\n      <td>0.50</td>\n      <td>0.36</td>\n      <td>0.38</td>\n      <td>0.0</td>\n      <td>0.0</td>\n      <td>0.0</td>\n      <td>0.0</td>\n      <td>0.0</td>\n      <td>0.0</td>\n      <td>0.0</td>\n      <td>1.0</td>\n    </tr>\n    <tr>\n      <th>322</th>\n      <td>0.62</td>\n      <td>0.78</td>\n      <td>0.48</td>\n      <td>0.5</td>\n      <td>0.47</td>\n      <td>0.49</td>\n      <td>0.54</td>\n      <td>0.0</td>\n      <td>0.0</td>\n      <td>0.0</td>\n      <td>0.0</td>\n      <td>0.0</td>\n      <td>0.0</td>\n      <td>0.0</td>\n      <td>1.0</td>\n    </tr>\n    <tr>\n      <th>323</th>\n      <td>0.76</td>\n      <td>0.73</td>\n      <td>0.48</td>\n      <td>0.5</td>\n      <td>0.44</td>\n      <td>0.39</td>\n      <td>0.39</td>\n      <td>0.0</td>\n      <td>0.0</td>\n      <td>0.0</td>\n      <td>0.0</td>\n      <td>0.0</td>\n      <td>0.0</td>\n      <td>0.0</td>\n      <td>1.0</td>\n    </tr>\n    <tr>\n      <th>324</th>\n      <td>0.64</td>\n      <td>0.81</td>\n      <td>0.48</td>\n      <td>0.5</td>\n      <td>0.37</td>\n      <td>0.39</td>\n      <td>0.44</td>\n      <td>0.0</td>\n      <td>0.0</td>\n      <td>0.0</td>\n      <td>0.0</td>\n      <td>0.0</td>\n      <td>0.0</td>\n      <td>0.0</td>\n      <td>1.0</td>\n    </tr>\n    <tr>\n      <th>325</th>\n      <td>0.29</td>\n      <td>0.39</td>\n      <td>0.48</td>\n      <td>0.5</td>\n      <td>0.52</td>\n      <td>0.40</td>\n      <td>0.48</td>\n      <td>0.0</td>\n      <td>0.0</td>\n      <td>0.0</td>\n      <td>0.0</td>\n      <td>0.0</td>\n      <td>0.0</td>\n      <td>0.0</td>\n      <td>1.0</td>\n    </tr>\n    <tr>\n      <th>326</th>\n      <td>0.62</td>\n      <td>0.83</td>\n      <td>0.48</td>\n      <td>0.5</td>\n      <td>0.46</td>\n      <td>0.36</td>\n      <td>0.40</td>\n      <td>0.0</td>\n      <td>0.0</td>\n      <td>0.0</td>\n      <td>0.0</td>\n      <td>0.0</td>\n      <td>0.0</td>\n      <td>0.0</td>\n      <td>1.0</td>\n    </tr>\n    <tr>\n      <th>327</th>\n      <td>0.56</td>\n      <td>0.54</td>\n      <td>0.48</td>\n      <td>0.5</td>\n      <td>0.43</td>\n      <td>0.37</td>\n      <td>0.30</td>\n      <td>0.0</td>\n      <td>0.0</td>\n      <td>0.0</td>\n      <td>0.0</td>\n      <td>0.0</td>\n      <td>0.0</td>\n      <td>0.0</td>\n      <td>1.0</td>\n    </tr>\n    <tr>\n      <th>328</th>\n      <td>0.69</td>\n      <td>0.66</td>\n      <td>0.48</td>\n      <td>0.5</td>\n      <td>0.41</td>\n      <td>0.50</td>\n      <td>0.25</td>\n      <td>0.0</td>\n      <td>0.0</td>\n      <td>0.0</td>\n      <td>0.0</td>\n      <td>0.0</td>\n      <td>0.0</td>\n      <td>0.0</td>\n      <td>1.0</td>\n    </tr>\n    <tr>\n      <th>329</th>\n      <td>0.69</td>\n      <td>0.65</td>\n      <td>0.48</td>\n      <td>0.5</td>\n      <td>0.63</td>\n      <td>0.48</td>\n      <td>0.41</td>\n      <td>0.0</td>\n      <td>0.0</td>\n      <td>0.0</td>\n      <td>0.0</td>\n      <td>0.0</td>\n      <td>0.0</td>\n      <td>0.0</td>\n      <td>1.0</td>\n    </tr>\n    <tr>\n      <th>330</th>\n      <td>0.43</td>\n      <td>0.59</td>\n      <td>0.48</td>\n      <td>0.5</td>\n      <td>0.52</td>\n      <td>0.49</td>\n      <td>0.56</td>\n      <td>0.0</td>\n      <td>0.0</td>\n      <td>0.0</td>\n      <td>0.0</td>\n      <td>0.0</td>\n      <td>0.0</td>\n      <td>0.0</td>\n      <td>1.0</td>\n    </tr>\n    <tr>\n      <th>331</th>\n      <td>0.74</td>\n      <td>0.56</td>\n      <td>0.48</td>\n      <td>0.5</td>\n      <td>0.47</td>\n      <td>0.68</td>\n      <td>0.30</td>\n      <td>0.0</td>\n      <td>0.0</td>\n      <td>0.0</td>\n      <td>0.0</td>\n      <td>0.0</td>\n      <td>0.0</td>\n      <td>0.0</td>\n      <td>1.0</td>\n    </tr>\n    <tr>\n      <th>332</th>\n      <td>0.71</td>\n      <td>0.57</td>\n      <td>0.48</td>\n      <td>0.5</td>\n      <td>0.48</td>\n      <td>0.35</td>\n      <td>0.32</td>\n      <td>0.0</td>\n      <td>0.0</td>\n      <td>0.0</td>\n      <td>0.0</td>\n      <td>0.0</td>\n      <td>0.0</td>\n      <td>0.0</td>\n      <td>1.0</td>\n    </tr>\n    <tr>\n      <th>333</th>\n      <td>0.61</td>\n      <td>0.60</td>\n      <td>0.48</td>\n      <td>0.5</td>\n      <td>0.44</td>\n      <td>0.39</td>\n      <td>0.38</td>\n      <td>0.0</td>\n      <td>0.0</td>\n      <td>0.0</td>\n      <td>0.0</td>\n      <td>0.0</td>\n      <td>0.0</td>\n      <td>0.0</td>\n      <td>1.0</td>\n    </tr>\n    <tr>\n      <th>334</th>\n      <td>0.59</td>\n      <td>0.61</td>\n      <td>0.48</td>\n      <td>0.5</td>\n      <td>0.42</td>\n      <td>0.42</td>\n      <td>0.37</td>\n      <td>0.0</td>\n      <td>0.0</td>\n      <td>0.0</td>\n      <td>0.0</td>\n      <td>0.0</td>\n      <td>0.0</td>\n      <td>0.0</td>\n      <td>1.0</td>\n    </tr>\n    <tr>\n      <th>335</th>\n      <td>0.74</td>\n      <td>0.74</td>\n      <td>0.48</td>\n      <td>0.5</td>\n      <td>0.31</td>\n      <td>0.53</td>\n      <td>0.52</td>\n      <td>0.0</td>\n      <td>0.0</td>\n      <td>0.0</td>\n      <td>0.0</td>\n      <td>0.0</td>\n      <td>0.0</td>\n      <td>0.0</td>\n      <td>1.0</td>\n    </tr>\n  </tbody>\n</table>\n<p>336 rows × 15 columns</p>\n</div>"
     },
     "execution_count": 119,
     "metadata": {},
     "output_type": "execute_result"
    }
   ],
   "source": [
    "enc = OneHotEncoder(handle_unknown='ignore')\n",
    "enc_df = pd.DataFrame(enc.fit_transform(dataset_ecoli[['resultado']]).toarray())\n",
    "dataset_ecoli= dataset_ecoli.join(enc_df)\n",
    "dataset_ecoli = dataset_ecoli.drop(columns = ['resultado'])\n",
    "dataset_ecoli"
   ],
   "metadata": {
    "collapsed": false,
    "pycharm": {
     "name": "#%%\n"
    }
   }
  },
  {
   "cell_type": "code",
   "execution_count": 120,
   "metadata": {
    "pycharm": {
     "name": "#%%\n"
    }
   },
   "outputs": [
    {
     "name": "stdout",
     "output_type": "stream",
     "text": [
      "\n",
      "Ecoli features:\n",
      "\n",
      "[[0.49 0.29 0.48 ... 0.56 0.24 0.35]\n",
      " [0.07 0.4  0.48 ... 0.54 0.35 0.44]\n",
      " [0.56 0.4  0.48 ... 0.49 0.37 0.46]\n",
      " ...\n",
      " [0.61 0.6  0.48 ... 0.44 0.39 0.38]\n",
      " [0.59 0.61 0.48 ... 0.42 0.42 0.37]\n",
      " [0.74 0.74 0.48 ... 0.31 0.53 0.52]]\n"
     ]
    }
   ],
   "source": [
    "ecoli_values = dataset_ecoli.iloc[:,0:7].values\n",
    "print(\"\\nEcoli features:\\n\")\n",
    "print(ecoli_values)"
   ]
  },
  {
   "cell_type": "code",
   "execution_count": 121,
   "metadata": {
    "pycharm": {
     "name": "#%%\n"
    }
   },
   "outputs": [
    {
     "name": "stdout",
     "output_type": "stream",
     "text": [
      "\n",
      "Ecoli classes:\n",
      "\n",
      "[1. 1. 1. 1. 1. 1. 1. 1. 1. 1. 1. 1. 1. 1. 1. 1. 1. 1. 1. 1. 1. 1. 1. 1.\n",
      " 1. 1. 1. 1. 1. 1. 1. 1. 1. 1. 1. 1. 1. 1. 1. 1. 1. 1. 1. 1. 1. 1. 1. 1.\n",
      " 1. 1. 1. 1. 1. 1. 1. 1. 1. 1. 1. 1. 1. 1. 1. 1. 1. 1. 1. 1. 1. 1. 1. 1.\n",
      " 1. 1. 1. 1. 1. 1. 1. 1. 1. 1. 1. 1. 1. 1. 1. 1. 1. 1. 1. 1. 1. 1. 1. 1.\n",
      " 1. 1. 1. 1. 1. 1. 1. 1. 1. 1. 1. 1. 1. 1. 1. 1. 1. 1. 1. 1. 1. 1. 1. 1.\n",
      " 1. 1. 1. 1. 1. 1. 1. 1. 1. 1. 1. 1. 1. 1. 1. 1. 1. 1. 1. 1. 1. 1. 1. 0.\n",
      " 0. 0. 0. 0. 0. 0. 0. 0. 0. 0. 0. 0. 0. 0. 0. 0. 0. 0. 0. 0. 0. 0. 0. 0.\n",
      " 0. 0. 0. 0. 0. 0. 0. 0. 0. 0. 0. 0. 0. 0. 0. 0. 0. 0. 0. 0. 0. 0. 0. 0.\n",
      " 0. 0. 0. 0. 0. 0. 0. 0. 0. 0. 0. 0. 0. 0. 0. 0. 0. 0. 0. 0. 0. 0. 0. 0.\n",
      " 0. 0. 0. 0. 0. 0. 0. 0. 0. 0. 0. 0. 0. 0. 0. 0. 0. 0. 0. 0. 0. 0. 0. 0.\n",
      " 0. 0. 0. 0. 0. 0. 0. 0. 0. 0. 0. 0. 0. 0. 0. 0. 0. 0. 0. 0. 0. 0. 0. 0.\n",
      " 0. 0. 0. 0. 0. 0. 0. 0. 0. 0. 0. 0. 0. 0. 0. 0. 0. 0. 0. 0. 0. 0. 0. 0.\n",
      " 0. 0. 0. 0. 0. 0. 0. 0. 0. 0. 0. 0. 0. 0. 0. 0. 0. 0. 0. 0. 0. 0. 0. 0.\n",
      " 0. 0. 0. 0. 0. 0. 0. 0. 0. 0. 0. 0. 0. 0. 0. 0. 0. 0. 0. 0. 0. 0. 0. 0.]\n",
      "\n",
      "Ecoli classes shape:\n",
      "(336,)\n"
     ]
    }
   ],
   "source": [
    "ecoli_classes = dataset_ecoli.iloc[:,7].values\n",
    "print(\"\\nEcoli classes:\\n\")\n",
    "print(ecoli_classes)\n",
    "print(\"\\nEcoli classes shape:\")\n",
    "print(ecoli_classes.shape)"
   ]
  },
  {
   "cell_type": "code",
   "execution_count": 122,
   "metadata": {
    "pycharm": {
     "name": "#%%\n"
    }
   },
   "outputs": [],
   "source": [
    "kf = model_selection.StratifiedKFold(n_splits = 2)\n",
    "arvore_decisao = tree.DecisionTreeClassifier(criterion='entropy', splitter='best', max_depth=None, min_samples_split=2, min_samples_leaf=1, min_weight_fraction_leaf=0.0, max_features=None, random_state=None, max_leaf_nodes=None, min_impurity_decrease=0.0, min_impurity_split=None, class_weight=None, presort='deprecated', ccp_alpha=0.0)\n",
    "vizinhos_proximos = KNeighborsClassifier(n_neighbors=3, weights = 'distance')\n",
    "naive_bayes_gaussian = GaussianNB()\n",
    "regressao_logistica = LogisticRegression(penalty='l2', dual=False, tol=0.0001, C=1.0, fit_intercept=True, intercept_scaling=1, class_weight=None, random_state=None, solver='saga', max_iter=100, multi_class='auto', verbose=0, warm_start=False, n_jobs=None, l1_ratio=None)\n",
    "rede_neural = MLPClassifier(hidden_layer_sizes=(5,), activation=\"logistic\", max_iter= 300, alpha=0.001, solver=\"sgd\", tol=1e-4, verbose=True, learning_rate_init=.01)"
   ]
  },
  {
   "cell_type": "code",
   "execution_count": 123,
   "metadata": {
    "pycharm": {
     "name": "#%%\n"
    }
   },
   "outputs": [],
   "source": [
    "predicted_classes = dict()\n",
    "predicted_classes['arvore_decisao'] = np.zeros(ecoli_classes.shape)\n",
    "predicted_classes['vizinhos_proximos'] = np.zeros(ecoli_classes.shape)\n",
    "predicted_classes['naive_bayes_gaussian'] = np.zeros(ecoli_classes.shape)\n",
    "predicted_classes['regressao_logistica'] = np.zeros(ecoli_classes.shape)\n",
    "predicted_classes['rede_neural'] = np.zeros(ecoli_classes.shape)"
   ]
  },
  {
   "cell_type": "code",
   "execution_count": 124,
   "metadata": {
    "pycharm": {
     "name": "#%%\n"
    }
   },
   "outputs": [
    {
     "name": "stdout",
     "output_type": "stream",
     "text": [
      "Iteration 1, loss = 0.84504780\n",
      "Iteration 2, loss = 0.84106986\n",
      "Iteration 3, loss = 0.83551365\n",
      "Iteration 4, loss = 0.82865434\n",
      "Iteration 5, loss = 0.82075861\n",
      "Iteration 6, loss = 0.81207922\n",
      "Iteration 7, loss = 0.80285095\n",
      "Iteration 8, loss = 0.79328779\n",
      "Iteration 9, loss = 0.78358103\n",
      "Iteration 10, loss = 0.77389830\n",
      "Iteration 11, loss = 0.76438328\n",
      "Iteration 12, loss = 0.75515605\n",
      "Iteration 13, loss = 0.74631394\n",
      "Iteration 14, loss = 0.73793280\n",
      "Iteration 15, loss = 0.73006859\n",
      "Iteration 16, loss = 0.72275922\n",
      "Iteration 17, loss = 0.71602658\n",
      "Iteration 18, loss = 0.70987854\n",
      "Iteration 19, loss = 0.70431110\n",
      "Iteration 20, loss = 0.69931039\n",
      "Iteration 21, loss = 0.69485462\n",
      "Iteration 22, loss = 0.69091590\n",
      "Iteration 23, loss = 0.68746183\n",
      "Iteration 24, loss = 0.68445702\n",
      "Iteration 25, loss = 0.68186431\n",
      "Iteration 26, loss = 0.67964590\n",
      "Iteration 27, loss = 0.67776420\n",
      "Iteration 28, loss = 0.67618258\n",
      "Iteration 29, loss = 0.67486593\n",
      "Iteration 30, loss = 0.67378110\n",
      "Iteration 31, loss = 0.67289714\n",
      "Iteration 32, loss = 0.67218556\n",
      "Iteration 33, loss = 0.67162037\n",
      "Iteration 34, loss = 0.67117815\n",
      "Iteration 35, loss = 0.67083797\n",
      "Iteration 36, loss = 0.67058133\n",
      "Iteration 37, loss = 0.67039203\n",
      "Iteration 38, loss = 0.67025602\n",
      "Iteration 39, loss = 0.67016128\n",
      "Iteration 40, loss = 0.67009758\n",
      "Iteration 41, loss = 0.67005637\n",
      "Iteration 42, loss = 0.67003056\n",
      "Iteration 43, loss = 0.67001439\n",
      "Iteration 44, loss = 0.67000323\n",
      "Iteration 45, loss = 0.66999346\n",
      "Iteration 46, loss = 0.66998234\n",
      "Iteration 47, loss = 0.66996782\n",
      "Iteration 48, loss = 0.66994849\n",
      "Iteration 49, loss = 0.66992343\n",
      "Training loss did not improve more than tol=0.000100 for 10 consecutive epochs. Stopping.\n",
      "Iteration 1, loss = 0.71639537\n",
      "Iteration 2, loss = 0.71572124\n",
      "Iteration 3, loss = 0.71477388\n",
      "Iteration 4, loss = 0.71359482\n",
      "Iteration 5, loss = 0.71222383\n",
      "Iteration 6, loss = 0.71069840\n",
      "Iteration 7, loss = 0.70905337\n",
      "Iteration 8, loss = 0.70732068\n",
      "Iteration 9, loss = 0.70552928\n",
      "Iteration 10, loss = 0.70370505\n",
      "Iteration 11, loss = 0.70187084\n",
      "Iteration 12, loss = 0.70004658\n",
      "Iteration 13, loss = 0.69824934\n",
      "Iteration 14, loss = 0.69649353\n",
      "Iteration 15, loss = 0.69479109\n",
      "Iteration 16, loss = 0.69315161\n",
      "Iteration 17, loss = 0.69158258\n",
      "Iteration 18, loss = 0.69008960\n",
      "Iteration 19, loss = 0.68867654\n",
      "Iteration 20, loss = 0.68734576\n",
      "Iteration 21, loss = 0.68609830\n",
      "Iteration 22, loss = 0.68493407\n",
      "Iteration 23, loss = 0.68385198\n",
      "Iteration 24, loss = 0.68285016\n",
      "Iteration 25, loss = 0.68192604\n",
      "Iteration 26, loss = 0.68107656\n",
      "Iteration 27, loss = 0.68029821\n",
      "Iteration 28, loss = 0.67958720\n",
      "Iteration 29, loss = 0.67893953\n",
      "Iteration 30, loss = 0.67835108\n",
      "Iteration 31, loss = 0.67781768\n",
      "Iteration 32, loss = 0.67733516\n",
      "Iteration 33, loss = 0.67689943\n",
      "Iteration 34, loss = 0.67650650\n",
      "Iteration 35, loss = 0.67615252\n",
      "Iteration 36, loss = 0.67583381\n",
      "Iteration 37, loss = 0.67554688\n",
      "Iteration 38, loss = 0.67528843\n",
      "Iteration 39, loss = 0.67505540\n",
      "Iteration 40, loss = 0.67484490\n",
      "Iteration 41, loss = 0.67465431\n",
      "Iteration 42, loss = 0.67448119\n",
      "Iteration 43, loss = 0.67432331\n",
      "Iteration 44, loss = 0.67417866\n",
      "Iteration 45, loss = 0.67404541\n",
      "Iteration 46, loss = 0.67392193\n",
      "Iteration 47, loss = 0.67380674\n",
      "Iteration 48, loss = 0.67369854\n",
      "Iteration 49, loss = 0.67359618\n",
      "Iteration 50, loss = 0.67349865\n",
      "Iteration 51, loss = 0.67340505\n",
      "Iteration 52, loss = 0.67331461\n",
      "Iteration 53, loss = 0.67322667\n",
      "Iteration 54, loss = 0.67314066\n",
      "Iteration 55, loss = 0.67305608\n",
      "Iteration 56, loss = 0.67297254\n",
      "Iteration 57, loss = 0.67288967\n",
      "Iteration 58, loss = 0.67280720\n",
      "Iteration 59, loss = 0.67272489\n",
      "Iteration 60, loss = 0.67264256\n",
      "Training loss did not improve more than tol=0.000100 for 10 consecutive epochs. Stopping.\n"
     ]
    }
   ],
   "source": [
    "\n",
    "for train, test in kf.split(ecoli_values, ecoli_classes):\n",
    "    data_train, target_train = ecoli_values[train], ecoli_classes[train]\n",
    "    data_test, target_test = ecoli_values[test], ecoli_classes[test]\n",
    "\n",
    "    arvore_decisao = arvore_decisao.fit(data_train, target_train)\n",
    "    arvore_decisao_predicted = arvore_decisao.predict(data_test)\n",
    "    predicted_classes['arvore_decisao'][test] = arvore_decisao_predicted\n",
    "\n",
    "    vizinhos_proximos = vizinhos_proximos.fit(data_train, target_train)\n",
    "    vizinhos_proximos_predicted = vizinhos_proximos.predict(data_test)\n",
    "    predicted_classes['vizinhos_proximos'][test] = vizinhos_proximos_predicted\n",
    "\n",
    "    naive_bayes_gaussian = naive_bayes_gaussian.fit(data_train, target_train)\n",
    "    naive_bayes_gaussian_predicted = naive_bayes_gaussian.predict(data_test)\n",
    "    predicted_classes['naive_bayes_gaussian'][test] = naive_bayes_gaussian_predicted\n",
    "\n",
    "    regressao_logistica = regressao_logistica.fit(data_train, target_train)\n",
    "    regressao_logistica_predicted = regressao_logistica.predict(data_test)\n",
    "    predicted_classes['regressao_logistica'][test] = regressao_logistica_predicted\n",
    "\n",
    "    rede_neural = rede_neural.fit(data_train, target_train)\n",
    "    rede_neural_predicted = rede_neural.predict(data_test)\n",
    "    predicted_classes['rede_neural'][test] = rede_neural_predicted"
   ]
  },
  {
   "cell_type": "code",
   "execution_count": 125,
   "metadata": {
    "pycharm": {
     "name": "#%%\n"
    }
   },
   "outputs": [
    {
     "name": "stdout",
     "output_type": "stream",
     "text": [
      "================================================================================================\n",
      "Resultados do classificador arvore_decisao\n",
      "              precision    recall  f1-score   support\n",
      "\n",
      "         0.0       0.95      0.58      0.72       193\n",
      "         1.0       0.63      0.96      0.76       143\n",
      "\n",
      "    accuracy                           0.74       336\n",
      "   macro avg       0.79      0.77      0.74       336\n",
      "weighted avg       0.81      0.74      0.73       336\n",
      "\n",
      "\n",
      "Matriz de confusão: \n",
      "[[111  82]\n",
      " [  6 137]]\n",
      "\n",
      "\n",
      "\n",
      "================================================================================================\n",
      "Resultados do classificador rede_neural\n",
      "              precision    recall  f1-score   support\n",
      "\n",
      "         0.0       0.57      1.00      0.73       193\n",
      "         1.0       0.00      0.00      0.00       143\n",
      "\n",
      "    accuracy                           0.57       336\n",
      "   macro avg       0.29      0.50      0.36       336\n",
      "weighted avg       0.33      0.57      0.42       336\n",
      "\n",
      "\n",
      "Matriz de confusão: \n",
      "[[193   0]\n",
      " [143   0]]\n",
      "\n",
      "\n",
      "\n",
      "================================================================================================\n",
      "Resultados do classificador vizinhos_proximos\n",
      "              precision    recall  f1-score   support\n",
      "\n",
      "         0.0       0.98      0.64      0.78       193\n",
      "         1.0       0.67      0.99      0.80       143\n",
      "\n",
      "    accuracy                           0.79       336\n",
      "   macro avg       0.83      0.81      0.79       336\n",
      "weighted avg       0.85      0.79      0.79       336\n",
      "\n",
      "\n",
      "Matriz de confusão: \n",
      "[[124  69]\n",
      " [  2 141]]\n",
      "\n",
      "\n",
      "\n",
      "================================================================================================\n",
      "Resultados do classificador regressao_logistica\n",
      "              precision    recall  f1-score   support\n",
      "\n",
      "         0.0       0.95      0.72      0.81       193\n",
      "         1.0       0.71      0.94      0.81       143\n",
      "\n",
      "    accuracy                           0.81       336\n",
      "   macro avg       0.83      0.83      0.81       336\n",
      "weighted avg       0.85      0.81      0.81       336\n",
      "\n",
      "\n",
      "Matriz de confusão: \n",
      "[[138  55]\n",
      " [  8 135]]\n",
      "\n",
      "\n",
      "\n",
      "================================================================================================\n",
      "Resultados do classificador naive_bayes_gaussian\n",
      "              precision    recall  f1-score   support\n",
      "\n",
      "         0.0       1.00      0.49      0.66       193\n",
      "         1.0       0.59      1.00      0.74       143\n",
      "\n",
      "    accuracy                           0.71       336\n",
      "   macro avg       0.80      0.75      0.70       336\n",
      "weighted avg       0.83      0.71      0.70       336\n",
      "\n",
      "\n",
      "Matriz de confusão: \n",
      "[[ 95  98]\n",
      " [  0 143]]\n",
      "\n",
      "\n",
      "\n"
     ]
    },
    {
     "name": "stderr",
     "output_type": "stream",
     "text": [
      "/home/larissa/.local/lib/python3.5/site-packages/sklearn/metrics/_classification.py:1272: UndefinedMetricWarning: Precision and F-score are ill-defined and being set to 0.0 in labels with no predicted samples. Use `zero_division` parameter to control this behavior.\n",
      "  _warn_prf(average, modifier, msg_start, len(result))\n"
     ]
    }
   ],
   "source": [
    "for classificador in predicted_classes.keys():\n",
    "    print(\"================================================================================================\")\n",
    "    print(\"Resultados do classificador %s\\n%s\\n\"\n",
    "          %(classificador, metrics.classification_report(ecoli_classes, predicted_classes[classificador])))\n",
    "    print(\"Matriz de confusão: \\n%s\\n\\n\\n\" % metrics.confusion_matrix(ecoli_classes, predicted_classes[classificador]))\n"
   ]
  },
  {
   "cell_type": "code",
   "execution_count": 125,
   "outputs": [],
   "source": [],
   "metadata": {
    "collapsed": false,
    "pycharm": {
     "name": "#%%\n"
    }
   }
  },
  {
   "cell_type": "code",
   "execution_count": null,
   "metadata": {
    "pycharm": {
     "name": "#%%\n"
    }
   },
   "outputs": [],
   "source": []
  }
 ],
 "metadata": {
  "kernelspec": {
   "display_name": "Python 3",
   "language": "python",
   "name": "python3"
  },
  "language_info": {
   "codemirror_mode": {
    "name": "ipython",
    "version": 3
   },
   "file_extension": ".py",
   "mimetype": "text/x-python",
   "name": "python",
   "nbconvert_exporter": "python",
   "pygments_lexer": "ipython3",
   "version": "3.5.2"
  }
 },
 "nbformat": 4,
 "nbformat_minor": 1
}