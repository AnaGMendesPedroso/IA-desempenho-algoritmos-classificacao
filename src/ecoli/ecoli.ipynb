{
 "cells": [
  {
   "cell_type": "code",
   "execution_count": 1,
   "metadata": {
    "pycharm": {
     "name": "#%%\n"
    }
   },
   "outputs": [
    {
     "name": "stdout",
     "output_type": "stream",
     "text": [
      "\n",
      "Dataset ecoli:\n"
     ]
    },
    {
     "data": {
      "text/plain": "      mcg   gvh   lip  chg   aac  alm1  alm2  resultado\n0    0.49  0.29  0.48  0.5  0.56  0.24  0.35          1\n1    0.07  0.40  0.48  0.5  0.54  0.35  0.44          1\n2    0.56  0.40  0.48  0.5  0.49  0.37  0.46          1\n3    0.59  0.49  0.48  0.5  0.52  0.45  0.36          1\n4    0.23  0.32  0.48  0.5  0.55  0.25  0.35          1\n5    0.67  0.39  0.48  0.5  0.36  0.38  0.46          1\n6    0.29  0.28  0.48  0.5  0.44  0.23  0.34          1\n7    0.21  0.34  0.48  0.5  0.51  0.28  0.39          1\n8    0.20  0.44  0.48  0.5  0.46  0.51  0.57          1\n9    0.42  0.40  0.48  0.5  0.56  0.18  0.30          1\n10   0.42  0.24  0.48  0.5  0.57  0.27  0.37          1\n11   0.25  0.48  0.48  0.5  0.44  0.17  0.29          1\n12   0.39  0.32  0.48  0.5  0.46  0.24  0.35          1\n13   0.51  0.50  0.48  0.5  0.46  0.32  0.35          1\n14   0.22  0.43  0.48  0.5  0.48  0.16  0.28          1\n15   0.25  0.40  0.48  0.5  0.46  0.44  0.52          1\n16   0.34  0.45  0.48  0.5  0.38  0.24  0.35          1\n17   0.44  0.27  0.48  0.5  0.55  0.52  0.58          1\n18   0.23  0.40  0.48  0.5  0.39  0.28  0.38          1\n19   0.41  0.57  0.48  0.5  0.39  0.21  0.32          1\n20   0.40  0.45  0.48  0.5  0.38  0.22  0.00          1\n21   0.31  0.23  0.48  0.5  0.73  0.05  0.14          1\n22   0.51  0.54  0.48  0.5  0.41  0.34  0.43          1\n23   0.30  0.16  0.48  0.5  0.56  0.11  0.23          1\n24   0.36  0.39  0.48  0.5  0.48  0.22  0.23          1\n25   0.29  0.37  0.48  0.5  0.48  0.44  0.52          1\n26   0.25  0.40  0.48  0.5  0.47  0.33  0.42          1\n27   0.21  0.51  0.48  0.5  0.50  0.32  0.41          1\n28   0.43  0.37  0.48  0.5  0.53  0.35  0.44          1\n29   0.43  0.39  0.48  0.5  0.47  0.31  0.41          1\n..    ...   ...   ...  ...   ...   ...   ...        ...\n306  0.63  0.71  0.48  0.5  0.60  0.40  0.39          8\n307  0.71  0.86  0.48  0.5  0.40  0.54  0.32          8\n308  0.68  0.78  0.48  0.5  0.43  0.44  0.42          8\n309  0.64  0.84  0.48  0.5  0.37  0.45  0.40          8\n310  0.74  0.47  0.48  0.5  0.50  0.57  0.42          8\n311  0.75  0.84  0.48  0.5  0.35  0.52  0.33          8\n312  0.63  0.65  0.48  0.5  0.39  0.44  0.35          8\n313  0.69  0.67  0.48  0.5  0.30  0.39  0.24          8\n314  0.70  0.71  0.48  0.5  0.42  0.84  0.85          8\n315  0.69  0.80  0.48  0.5  0.46  0.57  0.26          8\n316  0.64  0.66  0.48  0.5  0.41  0.39  0.20          8\n317  0.63  0.80  0.48  0.5  0.46  0.31  0.29          8\n318  0.66  0.71  0.48  0.5  0.41  0.50  0.35          8\n319  0.69  0.59  0.48  0.5  0.46  0.44  0.52          8\n320  0.68  0.67  0.48  0.5  0.49  0.40  0.34          8\n321  0.64  0.78  0.48  0.5  0.50  0.36  0.38          8\n322  0.62  0.78  0.48  0.5  0.47  0.49  0.54          8\n323  0.76  0.73  0.48  0.5  0.44  0.39  0.39          8\n324  0.64  0.81  0.48  0.5  0.37  0.39  0.44          8\n325  0.29  0.39  0.48  0.5  0.52  0.40  0.48          8\n326  0.62  0.83  0.48  0.5  0.46  0.36  0.40          8\n327  0.56  0.54  0.48  0.5  0.43  0.37  0.30          8\n328  0.69  0.66  0.48  0.5  0.41  0.50  0.25          8\n329  0.69  0.65  0.48  0.5  0.63  0.48  0.41          8\n330  0.43  0.59  0.48  0.5  0.52  0.49  0.56          8\n331  0.74  0.56  0.48  0.5  0.47  0.68  0.30          8\n332  0.71  0.57  0.48  0.5  0.48  0.35  0.32          8\n333  0.61  0.60  0.48  0.5  0.44  0.39  0.38          8\n334  0.59  0.61  0.48  0.5  0.42  0.42  0.37          8\n335  0.74  0.74  0.48  0.5  0.31  0.53  0.52          8\n\n[336 rows x 8 columns]",
      "text/html": "<div>\n<style scoped>\n    .dataframe tbody tr th:only-of-type {\n        vertical-align: middle;\n    }\n\n    .dataframe tbody tr th {\n        vertical-align: top;\n    }\n\n    .dataframe thead th {\n        text-align: right;\n    }\n</style>\n<table border=\"1\" class=\"dataframe\">\n  <thead>\n    <tr style=\"text-align: right;\">\n      <th></th>\n      <th>mcg</th>\n      <th>gvh</th>\n      <th>lip</th>\n      <th>chg</th>\n      <th>aac</th>\n      <th>alm1</th>\n      <th>alm2</th>\n      <th>resultado</th>\n    </tr>\n  </thead>\n  <tbody>\n    <tr>\n      <th>0</th>\n      <td>0.49</td>\n      <td>0.29</td>\n      <td>0.48</td>\n      <td>0.5</td>\n      <td>0.56</td>\n      <td>0.24</td>\n      <td>0.35</td>\n      <td>1</td>\n    </tr>\n    <tr>\n      <th>1</th>\n      <td>0.07</td>\n      <td>0.40</td>\n      <td>0.48</td>\n      <td>0.5</td>\n      <td>0.54</td>\n      <td>0.35</td>\n      <td>0.44</td>\n      <td>1</td>\n    </tr>\n    <tr>\n      <th>2</th>\n      <td>0.56</td>\n      <td>0.40</td>\n      <td>0.48</td>\n      <td>0.5</td>\n      <td>0.49</td>\n      <td>0.37</td>\n      <td>0.46</td>\n      <td>1</td>\n    </tr>\n    <tr>\n      <th>3</th>\n      <td>0.59</td>\n      <td>0.49</td>\n      <td>0.48</td>\n      <td>0.5</td>\n      <td>0.52</td>\n      <td>0.45</td>\n      <td>0.36</td>\n      <td>1</td>\n    </tr>\n    <tr>\n      <th>4</th>\n      <td>0.23</td>\n      <td>0.32</td>\n      <td>0.48</td>\n      <td>0.5</td>\n      <td>0.55</td>\n      <td>0.25</td>\n      <td>0.35</td>\n      <td>1</td>\n    </tr>\n    <tr>\n      <th>5</th>\n      <td>0.67</td>\n      <td>0.39</td>\n      <td>0.48</td>\n      <td>0.5</td>\n      <td>0.36</td>\n      <td>0.38</td>\n      <td>0.46</td>\n      <td>1</td>\n    </tr>\n    <tr>\n      <th>6</th>\n      <td>0.29</td>\n      <td>0.28</td>\n      <td>0.48</td>\n      <td>0.5</td>\n      <td>0.44</td>\n      <td>0.23</td>\n      <td>0.34</td>\n      <td>1</td>\n    </tr>\n    <tr>\n      <th>7</th>\n      <td>0.21</td>\n      <td>0.34</td>\n      <td>0.48</td>\n      <td>0.5</td>\n      <td>0.51</td>\n      <td>0.28</td>\n      <td>0.39</td>\n      <td>1</td>\n    </tr>\n    <tr>\n      <th>8</th>\n      <td>0.20</td>\n      <td>0.44</td>\n      <td>0.48</td>\n      <td>0.5</td>\n      <td>0.46</td>\n      <td>0.51</td>\n      <td>0.57</td>\n      <td>1</td>\n    </tr>\n    <tr>\n      <th>9</th>\n      <td>0.42</td>\n      <td>0.40</td>\n      <td>0.48</td>\n      <td>0.5</td>\n      <td>0.56</td>\n      <td>0.18</td>\n      <td>0.30</td>\n      <td>1</td>\n    </tr>\n    <tr>\n      <th>10</th>\n      <td>0.42</td>\n      <td>0.24</td>\n      <td>0.48</td>\n      <td>0.5</td>\n      <td>0.57</td>\n      <td>0.27</td>\n      <td>0.37</td>\n      <td>1</td>\n    </tr>\n    <tr>\n      <th>11</th>\n      <td>0.25</td>\n      <td>0.48</td>\n      <td>0.48</td>\n      <td>0.5</td>\n      <td>0.44</td>\n      <td>0.17</td>\n      <td>0.29</td>\n      <td>1</td>\n    </tr>\n    <tr>\n      <th>12</th>\n      <td>0.39</td>\n      <td>0.32</td>\n      <td>0.48</td>\n      <td>0.5</td>\n      <td>0.46</td>\n      <td>0.24</td>\n      <td>0.35</td>\n      <td>1</td>\n    </tr>\n    <tr>\n      <th>13</th>\n      <td>0.51</td>\n      <td>0.50</td>\n      <td>0.48</td>\n      <td>0.5</td>\n      <td>0.46</td>\n      <td>0.32</td>\n      <td>0.35</td>\n      <td>1</td>\n    </tr>\n    <tr>\n      <th>14</th>\n      <td>0.22</td>\n      <td>0.43</td>\n      <td>0.48</td>\n      <td>0.5</td>\n      <td>0.48</td>\n      <td>0.16</td>\n      <td>0.28</td>\n      <td>1</td>\n    </tr>\n    <tr>\n      <th>15</th>\n      <td>0.25</td>\n      <td>0.40</td>\n      <td>0.48</td>\n      <td>0.5</td>\n      <td>0.46</td>\n      <td>0.44</td>\n      <td>0.52</td>\n      <td>1</td>\n    </tr>\n    <tr>\n      <th>16</th>\n      <td>0.34</td>\n      <td>0.45</td>\n      <td>0.48</td>\n      <td>0.5</td>\n      <td>0.38</td>\n      <td>0.24</td>\n      <td>0.35</td>\n      <td>1</td>\n    </tr>\n    <tr>\n      <th>17</th>\n      <td>0.44</td>\n      <td>0.27</td>\n      <td>0.48</td>\n      <td>0.5</td>\n      <td>0.55</td>\n      <td>0.52</td>\n      <td>0.58</td>\n      <td>1</td>\n    </tr>\n    <tr>\n      <th>18</th>\n      <td>0.23</td>\n      <td>0.40</td>\n      <td>0.48</td>\n      <td>0.5</td>\n      <td>0.39</td>\n      <td>0.28</td>\n      <td>0.38</td>\n      <td>1</td>\n    </tr>\n    <tr>\n      <th>19</th>\n      <td>0.41</td>\n      <td>0.57</td>\n      <td>0.48</td>\n      <td>0.5</td>\n      <td>0.39</td>\n      <td>0.21</td>\n      <td>0.32</td>\n      <td>1</td>\n    </tr>\n    <tr>\n      <th>20</th>\n      <td>0.40</td>\n      <td>0.45</td>\n      <td>0.48</td>\n      <td>0.5</td>\n      <td>0.38</td>\n      <td>0.22</td>\n      <td>0.00</td>\n      <td>1</td>\n    </tr>\n    <tr>\n      <th>21</th>\n      <td>0.31</td>\n      <td>0.23</td>\n      <td>0.48</td>\n      <td>0.5</td>\n      <td>0.73</td>\n      <td>0.05</td>\n      <td>0.14</td>\n      <td>1</td>\n    </tr>\n    <tr>\n      <th>22</th>\n      <td>0.51</td>\n      <td>0.54</td>\n      <td>0.48</td>\n      <td>0.5</td>\n      <td>0.41</td>\n      <td>0.34</td>\n      <td>0.43</td>\n      <td>1</td>\n    </tr>\n    <tr>\n      <th>23</th>\n      <td>0.30</td>\n      <td>0.16</td>\n      <td>0.48</td>\n      <td>0.5</td>\n      <td>0.56</td>\n      <td>0.11</td>\n      <td>0.23</td>\n      <td>1</td>\n    </tr>\n    <tr>\n      <th>24</th>\n      <td>0.36</td>\n      <td>0.39</td>\n      <td>0.48</td>\n      <td>0.5</td>\n      <td>0.48</td>\n      <td>0.22</td>\n      <td>0.23</td>\n      <td>1</td>\n    </tr>\n    <tr>\n      <th>25</th>\n      <td>0.29</td>\n      <td>0.37</td>\n      <td>0.48</td>\n      <td>0.5</td>\n      <td>0.48</td>\n      <td>0.44</td>\n      <td>0.52</td>\n      <td>1</td>\n    </tr>\n    <tr>\n      <th>26</th>\n      <td>0.25</td>\n      <td>0.40</td>\n      <td>0.48</td>\n      <td>0.5</td>\n      <td>0.47</td>\n      <td>0.33</td>\n      <td>0.42</td>\n      <td>1</td>\n    </tr>\n    <tr>\n      <th>27</th>\n      <td>0.21</td>\n      <td>0.51</td>\n      <td>0.48</td>\n      <td>0.5</td>\n      <td>0.50</td>\n      <td>0.32</td>\n      <td>0.41</td>\n      <td>1</td>\n    </tr>\n    <tr>\n      <th>28</th>\n      <td>0.43</td>\n      <td>0.37</td>\n      <td>0.48</td>\n      <td>0.5</td>\n      <td>0.53</td>\n      <td>0.35</td>\n      <td>0.44</td>\n      <td>1</td>\n    </tr>\n    <tr>\n      <th>29</th>\n      <td>0.43</td>\n      <td>0.39</td>\n      <td>0.48</td>\n      <td>0.5</td>\n      <td>0.47</td>\n      <td>0.31</td>\n      <td>0.41</td>\n      <td>1</td>\n    </tr>\n    <tr>\n      <th>...</th>\n      <td>...</td>\n      <td>...</td>\n      <td>...</td>\n      <td>...</td>\n      <td>...</td>\n      <td>...</td>\n      <td>...</td>\n      <td>...</td>\n    </tr>\n    <tr>\n      <th>306</th>\n      <td>0.63</td>\n      <td>0.71</td>\n      <td>0.48</td>\n      <td>0.5</td>\n      <td>0.60</td>\n      <td>0.40</td>\n      <td>0.39</td>\n      <td>8</td>\n    </tr>\n    <tr>\n      <th>307</th>\n      <td>0.71</td>\n      <td>0.86</td>\n      <td>0.48</td>\n      <td>0.5</td>\n      <td>0.40</td>\n      <td>0.54</td>\n      <td>0.32</td>\n      <td>8</td>\n    </tr>\n    <tr>\n      <th>308</th>\n      <td>0.68</td>\n      <td>0.78</td>\n      <td>0.48</td>\n      <td>0.5</td>\n      <td>0.43</td>\n      <td>0.44</td>\n      <td>0.42</td>\n      <td>8</td>\n    </tr>\n    <tr>\n      <th>309</th>\n      <td>0.64</td>\n      <td>0.84</td>\n      <td>0.48</td>\n      <td>0.5</td>\n      <td>0.37</td>\n      <td>0.45</td>\n      <td>0.40</td>\n      <td>8</td>\n    </tr>\n    <tr>\n      <th>310</th>\n      <td>0.74</td>\n      <td>0.47</td>\n      <td>0.48</td>\n      <td>0.5</td>\n      <td>0.50</td>\n      <td>0.57</td>\n      <td>0.42</td>\n      <td>8</td>\n    </tr>\n    <tr>\n      <th>311</th>\n      <td>0.75</td>\n      <td>0.84</td>\n      <td>0.48</td>\n      <td>0.5</td>\n      <td>0.35</td>\n      <td>0.52</td>\n      <td>0.33</td>\n      <td>8</td>\n    </tr>\n    <tr>\n      <th>312</th>\n      <td>0.63</td>\n      <td>0.65</td>\n      <td>0.48</td>\n      <td>0.5</td>\n      <td>0.39</td>\n      <td>0.44</td>\n      <td>0.35</td>\n      <td>8</td>\n    </tr>\n    <tr>\n      <th>313</th>\n      <td>0.69</td>\n      <td>0.67</td>\n      <td>0.48</td>\n      <td>0.5</td>\n      <td>0.30</td>\n      <td>0.39</td>\n      <td>0.24</td>\n      <td>8</td>\n    </tr>\n    <tr>\n      <th>314</th>\n      <td>0.70</td>\n      <td>0.71</td>\n      <td>0.48</td>\n      <td>0.5</td>\n      <td>0.42</td>\n      <td>0.84</td>\n      <td>0.85</td>\n      <td>8</td>\n    </tr>\n    <tr>\n      <th>315</th>\n      <td>0.69</td>\n      <td>0.80</td>\n      <td>0.48</td>\n      <td>0.5</td>\n      <td>0.46</td>\n      <td>0.57</td>\n      <td>0.26</td>\n      <td>8</td>\n    </tr>\n    <tr>\n      <th>316</th>\n      <td>0.64</td>\n      <td>0.66</td>\n      <td>0.48</td>\n      <td>0.5</td>\n      <td>0.41</td>\n      <td>0.39</td>\n      <td>0.20</td>\n      <td>8</td>\n    </tr>\n    <tr>\n      <th>317</th>\n      <td>0.63</td>\n      <td>0.80</td>\n      <td>0.48</td>\n      <td>0.5</td>\n      <td>0.46</td>\n      <td>0.31</td>\n      <td>0.29</td>\n      <td>8</td>\n    </tr>\n    <tr>\n      <th>318</th>\n      <td>0.66</td>\n      <td>0.71</td>\n      <td>0.48</td>\n      <td>0.5</td>\n      <td>0.41</td>\n      <td>0.50</td>\n      <td>0.35</td>\n      <td>8</td>\n    </tr>\n    <tr>\n      <th>319</th>\n      <td>0.69</td>\n      <td>0.59</td>\n      <td>0.48</td>\n      <td>0.5</td>\n      <td>0.46</td>\n      <td>0.44</td>\n      <td>0.52</td>\n      <td>8</td>\n    </tr>\n    <tr>\n      <th>320</th>\n      <td>0.68</td>\n      <td>0.67</td>\n      <td>0.48</td>\n      <td>0.5</td>\n      <td>0.49</td>\n      <td>0.40</td>\n      <td>0.34</td>\n      <td>8</td>\n    </tr>\n    <tr>\n      <th>321</th>\n      <td>0.64</td>\n      <td>0.78</td>\n      <td>0.48</td>\n      <td>0.5</td>\n      <td>0.50</td>\n      <td>0.36</td>\n      <td>0.38</td>\n      <td>8</td>\n    </tr>\n    <tr>\n      <th>322</th>\n      <td>0.62</td>\n      <td>0.78</td>\n      <td>0.48</td>\n      <td>0.5</td>\n      <td>0.47</td>\n      <td>0.49</td>\n      <td>0.54</td>\n      <td>8</td>\n    </tr>\n    <tr>\n      <th>323</th>\n      <td>0.76</td>\n      <td>0.73</td>\n      <td>0.48</td>\n      <td>0.5</td>\n      <td>0.44</td>\n      <td>0.39</td>\n      <td>0.39</td>\n      <td>8</td>\n    </tr>\n    <tr>\n      <th>324</th>\n      <td>0.64</td>\n      <td>0.81</td>\n      <td>0.48</td>\n      <td>0.5</td>\n      <td>0.37</td>\n      <td>0.39</td>\n      <td>0.44</td>\n      <td>8</td>\n    </tr>\n    <tr>\n      <th>325</th>\n      <td>0.29</td>\n      <td>0.39</td>\n      <td>0.48</td>\n      <td>0.5</td>\n      <td>0.52</td>\n      <td>0.40</td>\n      <td>0.48</td>\n      <td>8</td>\n    </tr>\n    <tr>\n      <th>326</th>\n      <td>0.62</td>\n      <td>0.83</td>\n      <td>0.48</td>\n      <td>0.5</td>\n      <td>0.46</td>\n      <td>0.36</td>\n      <td>0.40</td>\n      <td>8</td>\n    </tr>\n    <tr>\n      <th>327</th>\n      <td>0.56</td>\n      <td>0.54</td>\n      <td>0.48</td>\n      <td>0.5</td>\n      <td>0.43</td>\n      <td>0.37</td>\n      <td>0.30</td>\n      <td>8</td>\n    </tr>\n    <tr>\n      <th>328</th>\n      <td>0.69</td>\n      <td>0.66</td>\n      <td>0.48</td>\n      <td>0.5</td>\n      <td>0.41</td>\n      <td>0.50</td>\n      <td>0.25</td>\n      <td>8</td>\n    </tr>\n    <tr>\n      <th>329</th>\n      <td>0.69</td>\n      <td>0.65</td>\n      <td>0.48</td>\n      <td>0.5</td>\n      <td>0.63</td>\n      <td>0.48</td>\n      <td>0.41</td>\n      <td>8</td>\n    </tr>\n    <tr>\n      <th>330</th>\n      <td>0.43</td>\n      <td>0.59</td>\n      <td>0.48</td>\n      <td>0.5</td>\n      <td>0.52</td>\n      <td>0.49</td>\n      <td>0.56</td>\n      <td>8</td>\n    </tr>\n    <tr>\n      <th>331</th>\n      <td>0.74</td>\n      <td>0.56</td>\n      <td>0.48</td>\n      <td>0.5</td>\n      <td>0.47</td>\n      <td>0.68</td>\n      <td>0.30</td>\n      <td>8</td>\n    </tr>\n    <tr>\n      <th>332</th>\n      <td>0.71</td>\n      <td>0.57</td>\n      <td>0.48</td>\n      <td>0.5</td>\n      <td>0.48</td>\n      <td>0.35</td>\n      <td>0.32</td>\n      <td>8</td>\n    </tr>\n    <tr>\n      <th>333</th>\n      <td>0.61</td>\n      <td>0.60</td>\n      <td>0.48</td>\n      <td>0.5</td>\n      <td>0.44</td>\n      <td>0.39</td>\n      <td>0.38</td>\n      <td>8</td>\n    </tr>\n    <tr>\n      <th>334</th>\n      <td>0.59</td>\n      <td>0.61</td>\n      <td>0.48</td>\n      <td>0.5</td>\n      <td>0.42</td>\n      <td>0.42</td>\n      <td>0.37</td>\n      <td>8</td>\n    </tr>\n    <tr>\n      <th>335</th>\n      <td>0.74</td>\n      <td>0.74</td>\n      <td>0.48</td>\n      <td>0.5</td>\n      <td>0.31</td>\n      <td>0.53</td>\n      <td>0.52</td>\n      <td>8</td>\n    </tr>\n  </tbody>\n</table>\n<p>336 rows × 8 columns</p>\n</div>"
     },
     "execution_count": 1,
     "metadata": {},
     "output_type": "execute_result"
    }
   ],
   "source": [
    "from sklearn import tree\n",
    "from sklearn.neighbors import KNeighborsClassifier\n",
    "from sklearn.naive_bayes import GaussianNB\n",
    "from sklearn.linear_model import LogisticRegression\n",
    "from sklearn.neural_network import MLPClassifier\n",
    "from sklearn import model_selection\n",
    "from sklearn.model_selection import GridSearchCV\n",
    "from sklearn import metrics\n",
    "import pandas as pd\n",
    "import numpy as np\n",
    "from sklearn.tree import DecisionTreeClassifier\n",
    "\n",
    "dataset_ecoli = pd.read_csv('ecoli.data', sep=',')\n",
    "print(\"\\nDataset ecoli:\")\n",
    "dataset_ecoli"
   ]
  },
  {
   "cell_type": "code",
   "execution_count": 2,
   "metadata": {
    "pycharm": {
     "name": "#%%\n"
    }
   },
   "outputs": [
    {
     "data": {
      "text/plain": "Index(['mcg', 'gvh', 'lip', 'chg', 'aac', 'alm1', 'alm2', 'resultado'], dtype='object')"
     },
     "execution_count": 2,
     "metadata": {},
     "output_type": "execute_result"
    }
   ],
   "source": [
    "dataset_ecoli.columns"
   ]
  },
  {
   "cell_type": "code",
   "execution_count": 3,
   "metadata": {
    "pycharm": {
     "name": "#%%\n"
    }
   },
   "outputs": [
    {
     "name": "stdout",
     "output_type": "stream",
     "text": [
      "\n",
      "Ecoli features:\n",
      "\n",
      "[[0.49 0.29 0.48 ... 0.56 0.24 0.35]\n",
      " [0.07 0.4  0.48 ... 0.54 0.35 0.44]\n",
      " [0.56 0.4  0.48 ... 0.49 0.37 0.46]\n",
      " ...\n",
      " [0.61 0.6  0.48 ... 0.44 0.39 0.38]\n",
      " [0.59 0.61 0.48 ... 0.42 0.42 0.37]\n",
      " [0.74 0.74 0.48 ... 0.31 0.53 0.52]]\n"
     ]
    }
   ],
   "source": [
    "ecoli_values = dataset_ecoli.iloc[:,0:7].values\n",
    "print(\"\\nEcoli features:\\n\")\n",
    "print(ecoli_values)"
   ]
  },
  {
   "cell_type": "code",
   "execution_count": 4,
   "metadata": {
    "pycharm": {
     "name": "#%%\n"
    }
   },
   "outputs": [
    {
     "name": "stdout",
     "output_type": "stream",
     "text": [
      "\n",
      "Ecoli classes:\n",
      "\n",
      "[1 1 1 1 1 1 1 1 1 1 1 1 1 1 1 1 1 1 1 1 1 1 1 1 1 1 1 1 1 1 1 1 1 1 1 1 1\n",
      " 1 1 1 1 1 1 1 1 1 1 1 1 1 1 1 1 1 1 1 1 1 1 1 1 1 1 1 1 1 1 1 1 1 1 1 1 1\n",
      " 1 1 1 1 1 1 1 1 1 1 1 1 1 1 1 1 1 1 1 1 1 1 1 1 1 1 1 1 1 1 1 1 1 1 1 1 1\n",
      " 1 1 1 1 1 1 1 1 1 1 1 1 1 1 1 1 1 1 1 1 1 1 1 1 1 1 1 1 1 1 1 1 2 2 2 2 2\n",
      " 2 2 2 2 2 2 2 2 2 2 2 2 2 2 2 2 2 2 2 2 2 2 2 2 2 2 2 2 2 2 2 2 2 2 2 2 2\n",
      " 2 2 2 2 2 2 2 2 2 2 2 2 2 2 2 2 2 2 2 2 2 2 2 2 2 2 2 2 2 2 2 2 2 2 2 3 3\n",
      " 4 4 5 5 5 5 5 5 5 5 5 5 5 5 5 5 5 5 5 5 5 5 5 5 5 5 5 5 5 5 5 5 5 5 5 5 5\n",
      " 6 6 6 6 6 6 6 6 6 6 6 6 6 6 6 6 6 6 6 6 7 7 7 7 7 8 8 8 8 8 8 8 8 8 8 8 8\n",
      " 8 8 8 8 8 8 8 8 8 8 8 8 8 8 8 8 8 8 8 8 8 8 8 8 8 8 8 8 8 8 8 8 8 8 8 8 8\n",
      " 8 8 8]\n",
      "\n",
      "Ecoli classes shape:\n",
      "(336,)\n"
     ]
    }
   ],
   "source": [
    "ecoli_classes = dataset_ecoli.iloc[:,7].values\n",
    "print(\"\\nEcoli classes:\\n\")\n",
    "print(ecoli_classes)\n",
    "print(\"\\nEcoli classes shape:\")\n",
    "print(ecoli_classes.shape)"
   ]
  },
  {
   "cell_type": "code",
   "execution_count": 5,
   "outputs": [],
   "source": [
    "kfold_treinamento = model_selection.StratifiedKFold(n_splits=5, shuffle=True, random_state=None)\n",
    "kfold_ajuste_parametros = model_selection.StratifiedKFold(n_splits=3, shuffle=True, random_state=None)"
   ],
   "metadata": {
    "collapsed": false,
    "pycharm": {
     "name": "#%%\n"
    }
   }
  },
  {
   "cell_type": "code",
   "execution_count": 6,
   "outputs": [
    {
     "name": "stdout",
     "output_type": "stream",
     "text": [
      "====== Iniciando busca pelos melhores parâmetros do algoritmo Arvore de decisao no dataset Ecoli ....\n",
      "\n",
      "Decision Tree: {'splitter': 'best', 'criterion': 'entropy', 'max_depth': 5} \n",
      "\n",
      "\n"
     ]
    },
    {
     "name": "stderr",
     "output_type": "stream",
     "text": [
      "/home/larissa/.local/lib/python3.5/site-packages/sklearn/model_selection/_split.py:667: UserWarning: The least populated class in y has only 2 members, which is less than n_splits=3.\n",
      "  % (min_groups, self.n_splits)), UserWarning)\n"
     ]
    }
   ],
   "source": [
    "arvore_decisao = DecisionTreeClassifier()\n",
    "print(\"====== Iniciando busca pelos melhores parâmetros do algoritmo Arvore de decisao no dataset Ecoli ....\\n\")\n",
    "param_dist = {'max_depth':list(np.arange(1,10)), 'min_samples_split':list(np.arange(1,10)) ,'criterion':['entropy'], 'splitter':['best','random']}\n",
    "grid_search = GridSearchCV(arvore_decisao, param_grid=param_dist, cv=kfold_ajuste_parametros, scoring='accuracy', refit=False)\n",
    "grid_search.fit(ecoli_values, ecoli_classes)\n",
    "decisionTreeBestParams = grid_search.best_params_\n",
    "print(\"Decision Tree: %s \\n\\n\" % decisionTreeBestParams)"
   ],
   "metadata": {
    "collapsed": false,
    "pycharm": {
     "name": "#%%\n"
    }
   }
  },
  {
   "cell_type": "code",
   "execution_count": 7,
   "outputs": [
    {
     "name": "stdout",
     "output_type": "stream",
     "text": [
      "====== Iniciando busca pelos melhores parâmetros do algoritmo KNN no dataset Ecoli ....\n",
      "\n",
      "KNN: {'n_neighbors': 8, 'metric': 'euclidean', 'weights': 'distance'} \n",
      "\n",
      "\n"
     ]
    },
    {
     "name": "stderr",
     "output_type": "stream",
     "text": [
      "/home/larissa/.local/lib/python3.5/site-packages/sklearn/model_selection/_split.py:667: UserWarning: The least populated class in y has only 2 members, which is less than n_splits=3.\n",
      "  % (min_groups, self.n_splits)), UserWarning)\n"
     ]
    }
   ],
   "source": [
    "knn_vizinhos_proximos = KNeighborsClassifier()\n",
    "print(\"====== Iniciando busca pelos melhores parâmetros do algoritmo KNN no dataset Ecoli ....\\n\")\n",
    "param_dist = {'n_neighbors':[3,5,7,9], 'metric':['euclidean', 'manhattan'], 'weights':['uniform', 'distance']} #Parâmetros testados\n",
    "grid_search = GridSearchCV(knn_vizinhos_proximos, param_grid=param_dist, cv=kfold_ajuste_parametros, scoring='accuracy', refit=False)\n",
    "grid_search.fit(ecoli_values, ecoli_classes)\n",
    "knnBestParams = grid_search.best_params_\n",
    "print(\"KNN: %s \\n\\n\" % knnBestParams)"
   ],
   "metadata": {
    "collapsed": false,
    "pycharm": {
     "name": "#%%\n"
    }
   }
  },
  {
   "cell_type": "code",
   "execution_count": 8,
   "outputs": [
    {
     "name": "stdout",
     "output_type": "stream",
     "text": [
      "====== Iniciando busca pelos melhores parâmetros do algoritmo Regressao logistica no dataset Ecoli ....\n",
      "\n",
      "Regressão logistica: {'penalty': 'none', 'solver': 'saga', 'tol': 0.0001, 'max_iter': 300} \n",
      "\n",
      "\n"
     ]
    },
    {
     "name": "stderr",
     "output_type": "stream",
     "text": [
      "/home/larissa/.local/lib/python3.5/site-packages/sklearn/model_selection/_split.py:667: UserWarning: The least populated class in y has only 2 members, which is less than n_splits=3.\n",
      "  % (min_groups, self.n_splits)), UserWarning)\n",
      "/home/larissa/.local/lib/python3.5/site-packages/sklearn/linear_model/_logistic.py:940: ConvergenceWarning: lbfgs failed to converge (status=1):\n",
      "STOP: TOTAL NO. of ITERATIONS REACHED LIMIT.\n",
      "\n",
      "Increase the number of iterations (max_iter) or scale the data as shown in:\n",
      "    https://scikit-learn.org/stable/modules/preprocessing.html\n",
      "Please also refer to the documentation for alternative solver options:\n",
      "    https://scikit-learn.org/stable/modules/linear_model.html#logistic-regression\n",
      "  extra_warning_msg=_LOGISTIC_SOLVER_CONVERGENCE_MSG)\n",
      "/home/larissa/.local/lib/python3.5/site-packages/sklearn/linear_model/_logistic.py:940: ConvergenceWarning: lbfgs failed to converge (status=1):\n",
      "STOP: TOTAL NO. of ITERATIONS REACHED LIMIT.\n",
      "\n",
      "Increase the number of iterations (max_iter) or scale the data as shown in:\n",
      "    https://scikit-learn.org/stable/modules/preprocessing.html\n",
      "Please also refer to the documentation for alternative solver options:\n",
      "    https://scikit-learn.org/stable/modules/linear_model.html#logistic-regression\n",
      "  extra_warning_msg=_LOGISTIC_SOLVER_CONVERGENCE_MSG)\n",
      "/home/larissa/.local/lib/python3.5/site-packages/sklearn/linear_model/_logistic.py:940: ConvergenceWarning: lbfgs failed to converge (status=1):\n",
      "STOP: TOTAL NO. of ITERATIONS REACHED LIMIT.\n",
      "\n",
      "Increase the number of iterations (max_iter) or scale the data as shown in:\n",
      "    https://scikit-learn.org/stable/modules/preprocessing.html\n",
      "Please also refer to the documentation for alternative solver options:\n",
      "    https://scikit-learn.org/stable/modules/linear_model.html#logistic-regression\n",
      "  extra_warning_msg=_LOGISTIC_SOLVER_CONVERGENCE_MSG)\n",
      "/home/larissa/.local/lib/python3.5/site-packages/sklearn/linear_model/_logistic.py:940: ConvergenceWarning: lbfgs failed to converge (status=1):\n",
      "STOP: TOTAL NO. of ITERATIONS REACHED LIMIT.\n",
      "\n",
      "Increase the number of iterations (max_iter) or scale the data as shown in:\n",
      "    https://scikit-learn.org/stable/modules/preprocessing.html\n",
      "Please also refer to the documentation for alternative solver options:\n",
      "    https://scikit-learn.org/stable/modules/linear_model.html#logistic-regression\n",
      "  extra_warning_msg=_LOGISTIC_SOLVER_CONVERGENCE_MSG)\n",
      "/home/larissa/.local/lib/python3.5/site-packages/sklearn/linear_model/_logistic.py:940: ConvergenceWarning: lbfgs failed to converge (status=1):\n",
      "STOP: TOTAL NO. of ITERATIONS REACHED LIMIT.\n",
      "\n",
      "Increase the number of iterations (max_iter) or scale the data as shown in:\n",
      "    https://scikit-learn.org/stable/modules/preprocessing.html\n",
      "Please also refer to the documentation for alternative solver options:\n",
      "    https://scikit-learn.org/stable/modules/linear_model.html#logistic-regression\n",
      "  extra_warning_msg=_LOGISTIC_SOLVER_CONVERGENCE_MSG)\n",
      "/home/larissa/.local/lib/python3.5/site-packages/sklearn/linear_model/_logistic.py:940: ConvergenceWarning: lbfgs failed to converge (status=1):\n",
      "STOP: TOTAL NO. of ITERATIONS REACHED LIMIT.\n",
      "\n",
      "Increase the number of iterations (max_iter) or scale the data as shown in:\n",
      "    https://scikit-learn.org/stable/modules/preprocessing.html\n",
      "Please also refer to the documentation for alternative solver options:\n",
      "    https://scikit-learn.org/stable/modules/linear_model.html#logistic-regression\n",
      "  extra_warning_msg=_LOGISTIC_SOLVER_CONVERGENCE_MSG)\n",
      "/home/larissa/.local/lib/python3.5/site-packages/sklearn/linear_model/_logistic.py:940: ConvergenceWarning: lbfgs failed to converge (status=1):\n",
      "STOP: TOTAL NO. of ITERATIONS REACHED LIMIT.\n",
      "\n",
      "Increase the number of iterations (max_iter) or scale the data as shown in:\n",
      "    https://scikit-learn.org/stable/modules/preprocessing.html\n",
      "Please also refer to the documentation for alternative solver options:\n",
      "    https://scikit-learn.org/stable/modules/linear_model.html#logistic-regression\n",
      "  extra_warning_msg=_LOGISTIC_SOLVER_CONVERGENCE_MSG)\n",
      "/home/larissa/.local/lib/python3.5/site-packages/sklearn/linear_model/_sag.py:330: ConvergenceWarning: The max_iter was reached which means the coef_ did not converge\n",
      "  \"the coef_ did not converge\", ConvergenceWarning)\n",
      "/home/larissa/.local/lib/python3.5/site-packages/sklearn/linear_model/_sag.py:330: ConvergenceWarning: The max_iter was reached which means the coef_ did not converge\n",
      "  \"the coef_ did not converge\", ConvergenceWarning)\n",
      "/home/larissa/.local/lib/python3.5/site-packages/sklearn/linear_model/_sag.py:330: ConvergenceWarning: The max_iter was reached which means the coef_ did not converge\n",
      "  \"the coef_ did not converge\", ConvergenceWarning)\n",
      "/home/larissa/.local/lib/python3.5/site-packages/sklearn/linear_model/_sag.py:330: ConvergenceWarning: The max_iter was reached which means the coef_ did not converge\n",
      "  \"the coef_ did not converge\", ConvergenceWarning)\n",
      "/home/larissa/.local/lib/python3.5/site-packages/sklearn/linear_model/_sag.py:330: ConvergenceWarning: The max_iter was reached which means the coef_ did not converge\n",
      "  \"the coef_ did not converge\", ConvergenceWarning)\n",
      "/home/larissa/.local/lib/python3.5/site-packages/sklearn/linear_model/_logistic.py:940: ConvergenceWarning: lbfgs failed to converge (status=1):\n",
      "STOP: TOTAL NO. of ITERATIONS REACHED LIMIT.\n",
      "\n",
      "Increase the number of iterations (max_iter) or scale the data as shown in:\n",
      "    https://scikit-learn.org/stable/modules/preprocessing.html\n",
      "Please also refer to the documentation for alternative solver options:\n",
      "    https://scikit-learn.org/stable/modules/linear_model.html#logistic-regression\n",
      "  extra_warning_msg=_LOGISTIC_SOLVER_CONVERGENCE_MSG)\n",
      "/home/larissa/.local/lib/python3.5/site-packages/sklearn/linear_model/_logistic.py:940: ConvergenceWarning: lbfgs failed to converge (status=1):\n",
      "STOP: TOTAL NO. of ITERATIONS REACHED LIMIT.\n",
      "\n",
      "Increase the number of iterations (max_iter) or scale the data as shown in:\n",
      "    https://scikit-learn.org/stable/modules/preprocessing.html\n",
      "Please also refer to the documentation for alternative solver options:\n",
      "    https://scikit-learn.org/stable/modules/linear_model.html#logistic-regression\n",
      "  extra_warning_msg=_LOGISTIC_SOLVER_CONVERGENCE_MSG)\n",
      "/home/larissa/.local/lib/python3.5/site-packages/sklearn/linear_model/_logistic.py:940: ConvergenceWarning: lbfgs failed to converge (status=1):\n",
      "STOP: TOTAL NO. of ITERATIONS REACHED LIMIT.\n",
      "\n",
      "Increase the number of iterations (max_iter) or scale the data as shown in:\n",
      "    https://scikit-learn.org/stable/modules/preprocessing.html\n",
      "Please also refer to the documentation for alternative solver options:\n",
      "    https://scikit-learn.org/stable/modules/linear_model.html#logistic-regression\n",
      "  extra_warning_msg=_LOGISTIC_SOLVER_CONVERGENCE_MSG)\n",
      "/home/larissa/.local/lib/python3.5/site-packages/sklearn/linear_model/_logistic.py:940: ConvergenceWarning: lbfgs failed to converge (status=1):\n",
      "STOP: TOTAL NO. of ITERATIONS REACHED LIMIT.\n",
      "\n",
      "Increase the number of iterations (max_iter) or scale the data as shown in:\n",
      "    https://scikit-learn.org/stable/modules/preprocessing.html\n",
      "Please also refer to the documentation for alternative solver options:\n",
      "    https://scikit-learn.org/stable/modules/linear_model.html#logistic-regression\n",
      "  extra_warning_msg=_LOGISTIC_SOLVER_CONVERGENCE_MSG)\n",
      "/home/larissa/.local/lib/python3.5/site-packages/sklearn/linear_model/_logistic.py:940: ConvergenceWarning: lbfgs failed to converge (status=1):\n",
      "STOP: TOTAL NO. of ITERATIONS REACHED LIMIT.\n",
      "\n",
      "Increase the number of iterations (max_iter) or scale the data as shown in:\n",
      "    https://scikit-learn.org/stable/modules/preprocessing.html\n",
      "Please also refer to the documentation for alternative solver options:\n",
      "    https://scikit-learn.org/stable/modules/linear_model.html#logistic-regression\n",
      "  extra_warning_msg=_LOGISTIC_SOLVER_CONVERGENCE_MSG)\n",
      "/home/larissa/.local/lib/python3.5/site-packages/sklearn/linear_model/_logistic.py:940: ConvergenceWarning: lbfgs failed to converge (status=1):\n",
      "STOP: TOTAL NO. of ITERATIONS REACHED LIMIT.\n",
      "\n",
      "Increase the number of iterations (max_iter) or scale the data as shown in:\n",
      "    https://scikit-learn.org/stable/modules/preprocessing.html\n",
      "Please also refer to the documentation for alternative solver options:\n",
      "    https://scikit-learn.org/stable/modules/linear_model.html#logistic-regression\n",
      "  extra_warning_msg=_LOGISTIC_SOLVER_CONVERGENCE_MSG)\n",
      "/home/larissa/.local/lib/python3.5/site-packages/sklearn/linear_model/_logistic.py:940: ConvergenceWarning: lbfgs failed to converge (status=1):\n",
      "STOP: TOTAL NO. of ITERATIONS REACHED LIMIT.\n",
      "\n",
      "Increase the number of iterations (max_iter) or scale the data as shown in:\n",
      "    https://scikit-learn.org/stable/modules/preprocessing.html\n",
      "Please also refer to the documentation for alternative solver options:\n",
      "    https://scikit-learn.org/stable/modules/linear_model.html#logistic-regression\n",
      "  extra_warning_msg=_LOGISTIC_SOLVER_CONVERGENCE_MSG)\n",
      "/home/larissa/.local/lib/python3.5/site-packages/sklearn/linear_model/_sag.py:330: ConvergenceWarning: The max_iter was reached which means the coef_ did not converge\n",
      "  \"the coef_ did not converge\", ConvergenceWarning)\n",
      "/home/larissa/.local/lib/python3.5/site-packages/sklearn/linear_model/_sag.py:330: ConvergenceWarning: The max_iter was reached which means the coef_ did not converge\n",
      "  \"the coef_ did not converge\", ConvergenceWarning)\n",
      "/home/larissa/.local/lib/python3.5/site-packages/sklearn/linear_model/_sag.py:330: ConvergenceWarning: The max_iter was reached which means the coef_ did not converge\n",
      "  \"the coef_ did not converge\", ConvergenceWarning)\n",
      "/home/larissa/.local/lib/python3.5/site-packages/sklearn/linear_model/_logistic.py:940: ConvergenceWarning: lbfgs failed to converge (status=1):\n",
      "STOP: TOTAL NO. of ITERATIONS REACHED LIMIT.\n",
      "\n",
      "Increase the number of iterations (max_iter) or scale the data as shown in:\n",
      "    https://scikit-learn.org/stable/modules/preprocessing.html\n",
      "Please also refer to the documentation for alternative solver options:\n",
      "    https://scikit-learn.org/stable/modules/linear_model.html#logistic-regression\n",
      "  extra_warning_msg=_LOGISTIC_SOLVER_CONVERGENCE_MSG)\n",
      "/home/larissa/.local/lib/python3.5/site-packages/sklearn/linear_model/_logistic.py:940: ConvergenceWarning: lbfgs failed to converge (status=1):\n",
      "STOP: TOTAL NO. of ITERATIONS REACHED LIMIT.\n",
      "\n",
      "Increase the number of iterations (max_iter) or scale the data as shown in:\n",
      "    https://scikit-learn.org/stable/modules/preprocessing.html\n",
      "Please also refer to the documentation for alternative solver options:\n",
      "    https://scikit-learn.org/stable/modules/linear_model.html#logistic-regression\n",
      "  extra_warning_msg=_LOGISTIC_SOLVER_CONVERGENCE_MSG)\n",
      "/home/larissa/.local/lib/python3.5/site-packages/sklearn/linear_model/_logistic.py:940: ConvergenceWarning: lbfgs failed to converge (status=1):\n",
      "STOP: TOTAL NO. of ITERATIONS REACHED LIMIT.\n",
      "\n",
      "Increase the number of iterations (max_iter) or scale the data as shown in:\n",
      "    https://scikit-learn.org/stable/modules/preprocessing.html\n",
      "Please also refer to the documentation for alternative solver options:\n",
      "    https://scikit-learn.org/stable/modules/linear_model.html#logistic-regression\n",
      "  extra_warning_msg=_LOGISTIC_SOLVER_CONVERGENCE_MSG)\n",
      "/home/larissa/.local/lib/python3.5/site-packages/sklearn/linear_model/_logistic.py:940: ConvergenceWarning: lbfgs failed to converge (status=1):\n",
      "STOP: TOTAL NO. of ITERATIONS REACHED LIMIT.\n",
      "\n",
      "Increase the number of iterations (max_iter) or scale the data as shown in:\n",
      "    https://scikit-learn.org/stable/modules/preprocessing.html\n",
      "Please also refer to the documentation for alternative solver options:\n",
      "    https://scikit-learn.org/stable/modules/linear_model.html#logistic-regression\n",
      "  extra_warning_msg=_LOGISTIC_SOLVER_CONVERGENCE_MSG)\n",
      "/home/larissa/.local/lib/python3.5/site-packages/sklearn/linear_model/_logistic.py:940: ConvergenceWarning: lbfgs failed to converge (status=1):\n",
      "STOP: TOTAL NO. of ITERATIONS REACHED LIMIT.\n",
      "\n",
      "Increase the number of iterations (max_iter) or scale the data as shown in:\n",
      "    https://scikit-learn.org/stable/modules/preprocessing.html\n",
      "Please also refer to the documentation for alternative solver options:\n",
      "    https://scikit-learn.org/stable/modules/linear_model.html#logistic-regression\n",
      "  extra_warning_msg=_LOGISTIC_SOLVER_CONVERGENCE_MSG)\n",
      "/home/larissa/.local/lib/python3.5/site-packages/sklearn/linear_model/_logistic.py:940: ConvergenceWarning: lbfgs failed to converge (status=1):\n",
      "STOP: TOTAL NO. of ITERATIONS REACHED LIMIT.\n",
      "\n",
      "Increase the number of iterations (max_iter) or scale the data as shown in:\n",
      "    https://scikit-learn.org/stable/modules/preprocessing.html\n",
      "Please also refer to the documentation for alternative solver options:\n",
      "    https://scikit-learn.org/stable/modules/linear_model.html#logistic-regression\n",
      "  extra_warning_msg=_LOGISTIC_SOLVER_CONVERGENCE_MSG)\n",
      "/home/larissa/.local/lib/python3.5/site-packages/sklearn/linear_model/_sag.py:330: ConvergenceWarning: The max_iter was reached which means the coef_ did not converge\n",
      "  \"the coef_ did not converge\", ConvergenceWarning)\n",
      "/home/larissa/.local/lib/python3.5/site-packages/sklearn/linear_model/_sag.py:330: ConvergenceWarning: The max_iter was reached which means the coef_ did not converge\n",
      "  \"the coef_ did not converge\", ConvergenceWarning)\n",
      "/home/larissa/.local/lib/python3.5/site-packages/sklearn/linear_model/_sag.py:330: ConvergenceWarning: The max_iter was reached which means the coef_ did not converge\n",
      "  \"the coef_ did not converge\", ConvergenceWarning)\n",
      "/home/larissa/.local/lib/python3.5/site-packages/sklearn/linear_model/_logistic.py:940: ConvergenceWarning: lbfgs failed to converge (status=1):\n",
      "STOP: TOTAL NO. of ITERATIONS REACHED LIMIT.\n",
      "\n",
      "Increase the number of iterations (max_iter) or scale the data as shown in:\n",
      "    https://scikit-learn.org/stable/modules/preprocessing.html\n",
      "Please also refer to the documentation for alternative solver options:\n",
      "    https://scikit-learn.org/stable/modules/linear_model.html#logistic-regression\n",
      "  extra_warning_msg=_LOGISTIC_SOLVER_CONVERGENCE_MSG)\n",
      "/home/larissa/.local/lib/python3.5/site-packages/sklearn/linear_model/_logistic.py:940: ConvergenceWarning: lbfgs failed to converge (status=1):\n",
      "STOP: TOTAL NO. of ITERATIONS REACHED LIMIT.\n",
      "\n",
      "Increase the number of iterations (max_iter) or scale the data as shown in:\n",
      "    https://scikit-learn.org/stable/modules/preprocessing.html\n",
      "Please also refer to the documentation for alternative solver options:\n",
      "    https://scikit-learn.org/stable/modules/linear_model.html#logistic-regression\n",
      "  extra_warning_msg=_LOGISTIC_SOLVER_CONVERGENCE_MSG)\n",
      "/home/larissa/.local/lib/python3.5/site-packages/sklearn/linear_model/_logistic.py:940: ConvergenceWarning: lbfgs failed to converge (status=1):\n",
      "STOP: TOTAL NO. of ITERATIONS REACHED LIMIT.\n",
      "\n",
      "Increase the number of iterations (max_iter) or scale the data as shown in:\n",
      "    https://scikit-learn.org/stable/modules/preprocessing.html\n",
      "Please also refer to the documentation for alternative solver options:\n",
      "    https://scikit-learn.org/stable/modules/linear_model.html#logistic-regression\n",
      "  extra_warning_msg=_LOGISTIC_SOLVER_CONVERGENCE_MSG)\n",
      "/home/larissa/.local/lib/python3.5/site-packages/sklearn/linear_model/_logistic.py:940: ConvergenceWarning: lbfgs failed to converge (status=1):\n",
      "STOP: TOTAL NO. of ITERATIONS REACHED LIMIT.\n",
      "\n",
      "Increase the number of iterations (max_iter) or scale the data as shown in:\n",
      "    https://scikit-learn.org/stable/modules/preprocessing.html\n",
      "Please also refer to the documentation for alternative solver options:\n",
      "    https://scikit-learn.org/stable/modules/linear_model.html#logistic-regression\n",
      "  extra_warning_msg=_LOGISTIC_SOLVER_CONVERGENCE_MSG)\n",
      "/home/larissa/.local/lib/python3.5/site-packages/sklearn/linear_model/_logistic.py:940: ConvergenceWarning: lbfgs failed to converge (status=1):\n",
      "STOP: TOTAL NO. of ITERATIONS REACHED LIMIT.\n",
      "\n",
      "Increase the number of iterations (max_iter) or scale the data as shown in:\n",
      "    https://scikit-learn.org/stable/modules/preprocessing.html\n",
      "Please also refer to the documentation for alternative solver options:\n",
      "    https://scikit-learn.org/stable/modules/linear_model.html#logistic-regression\n",
      "  extra_warning_msg=_LOGISTIC_SOLVER_CONVERGENCE_MSG)\n",
      "/home/larissa/.local/lib/python3.5/site-packages/sklearn/linear_model/_sag.py:330: ConvergenceWarning: The max_iter was reached which means the coef_ did not converge\n",
      "  \"the coef_ did not converge\", ConvergenceWarning)\n",
      "/home/larissa/.local/lib/python3.5/site-packages/sklearn/linear_model/_sag.py:330: ConvergenceWarning: The max_iter was reached which means the coef_ did not converge\n",
      "  \"the coef_ did not converge\", ConvergenceWarning)\n",
      "/home/larissa/.local/lib/python3.5/site-packages/sklearn/linear_model/_sag.py:330: ConvergenceWarning: The max_iter was reached which means the coef_ did not converge\n",
      "  \"the coef_ did not converge\", ConvergenceWarning)\n"
     ]
    }
   ],
   "source": [
    "regressao_logistica = LogisticRegression()\n",
    "print(\"====== Iniciando busca pelos melhores parâmetros do algoritmo Regressao logistica no dataset Ecoli ....\\n\")\n",
    "param_dist = {'penalty':['l2','l1'], 'max_iter':[200,300,400,500],'solver':['liblinear','sag','saga']} #Parâmetros testados\n",
    "grid_search = GridSearchCV(regressao_logistica, param_grid=param_dist, cv=kfold_ajuste_parametros, scoring='accuracy', refit=False)\n",
    "grid_search.fit(ecoli_values, ecoli_classes)\n",
    "regressao_logistica_param = grid_search.best_params_\n",
    "print(\"Regressão logistica: %s \\n\\n\" % regressao_logistica_param)"
   ],
   "metadata": {
    "collapsed": false,
    "pycharm": {
     "name": "#%%\n"
    }
   }
  },
  {
   "cell_type": "code",
   "execution_count": null,
   "outputs": [
    {
     "name": "stdout",
     "output_type": "stream",
     "text": [
      "====== Iniciando busca pelos melhores parâmetros do algoritmo Redes neurais no dataset Teaching ....\n",
      "\n"
     ]
    },
    {
     "name": "stderr",
     "output_type": "stream",
     "text": [
      "/home/larissa/.local/lib/python3.5/site-packages/sklearn/model_selection/_split.py:667: UserWarning: The least populated class in y has only 2 members, which is less than n_splits=3.\n",
      "  % (min_groups, self.n_splits)), UserWarning)\n",
      "/home/larissa/.local/lib/python3.5/site-packages/sklearn/neural_network/_multilayer_perceptron.py:571: ConvergenceWarning: Stochastic Optimizer: Maximum iterations (300) reached and the optimization hasn't converged yet.\n",
      "  % self.max_iter, ConvergenceWarning)\n",
      "/home/larissa/.local/lib/python3.5/site-packages/sklearn/neural_network/_multilayer_perceptron.py:571: ConvergenceWarning: Stochastic Optimizer: Maximum iterations (300) reached and the optimization hasn't converged yet.\n",
      "  % self.max_iter, ConvergenceWarning)\n",
      "/home/larissa/.local/lib/python3.5/site-packages/sklearn/neural_network/_multilayer_perceptron.py:571: ConvergenceWarning: Stochastic Optimizer: Maximum iterations (300) reached and the optimization hasn't converged yet.\n",
      "  % self.max_iter, ConvergenceWarning)\n",
      "/home/larissa/.local/lib/python3.5/site-packages/sklearn/neural_network/_multilayer_perceptron.py:571: ConvergenceWarning: Stochastic Optimizer: Maximum iterations (300) reached and the optimization hasn't converged yet.\n",
      "  % self.max_iter, ConvergenceWarning)\n",
      "/home/larissa/.local/lib/python3.5/site-packages/sklearn/neural_network/_multilayer_perceptron.py:571: ConvergenceWarning: Stochastic Optimizer: Maximum iterations (300) reached and the optimization hasn't converged yet.\n",
      "  % self.max_iter, ConvergenceWarning)\n",
      "/home/larissa/.local/lib/python3.5/site-packages/sklearn/neural_network/_multilayer_perceptron.py:571: ConvergenceWarning: Stochastic Optimizer: Maximum iterations (300) reached and the optimization hasn't converged yet.\n",
      "  % self.max_iter, ConvergenceWarning)\n",
      "/home/larissa/.local/lib/python3.5/site-packages/sklearn/neural_network/_multilayer_perceptron.py:571: ConvergenceWarning: Stochastic Optimizer: Maximum iterations (400) reached and the optimization hasn't converged yet.\n",
      "  % self.max_iter, ConvergenceWarning)\n",
      "/home/larissa/.local/lib/python3.5/site-packages/sklearn/neural_network/_multilayer_perceptron.py:571: ConvergenceWarning: Stochastic Optimizer: Maximum iterations (400) reached and the optimization hasn't converged yet.\n",
      "  % self.max_iter, ConvergenceWarning)\n",
      "/home/larissa/.local/lib/python3.5/site-packages/sklearn/neural_network/_multilayer_perceptron.py:571: ConvergenceWarning: Stochastic Optimizer: Maximum iterations (400) reached and the optimization hasn't converged yet.\n",
      "  % self.max_iter, ConvergenceWarning)\n",
      "/home/larissa/.local/lib/python3.5/site-packages/sklearn/neural_network/_multilayer_perceptron.py:571: ConvergenceWarning: Stochastic Optimizer: Maximum iterations (400) reached and the optimization hasn't converged yet.\n",
      "  % self.max_iter, ConvergenceWarning)\n",
      "/home/larissa/.local/lib/python3.5/site-packages/sklearn/neural_network/_multilayer_perceptron.py:571: ConvergenceWarning: Stochastic Optimizer: Maximum iterations (400) reached and the optimization hasn't converged yet.\n",
      "  % self.max_iter, ConvergenceWarning)\n",
      "/home/larissa/.local/lib/python3.5/site-packages/sklearn/neural_network/_multilayer_perceptron.py:571: ConvergenceWarning: Stochastic Optimizer: Maximum iterations (400) reached and the optimization hasn't converged yet.\n",
      "  % self.max_iter, ConvergenceWarning)\n",
      "/home/larissa/.local/lib/python3.5/site-packages/sklearn/neural_network/_multilayer_perceptron.py:571: ConvergenceWarning: Stochastic Optimizer: Maximum iterations (500) reached and the optimization hasn't converged yet.\n",
      "  % self.max_iter, ConvergenceWarning)\n",
      "/home/larissa/.local/lib/python3.5/site-packages/sklearn/neural_network/_multilayer_perceptron.py:571: ConvergenceWarning: Stochastic Optimizer: Maximum iterations (500) reached and the optimization hasn't converged yet.\n",
      "  % self.max_iter, ConvergenceWarning)\n",
      "/home/larissa/.local/lib/python3.5/site-packages/sklearn/neural_network/_multilayer_perceptron.py:571: ConvergenceWarning: Stochastic Optimizer: Maximum iterations (500) reached and the optimization hasn't converged yet.\n",
      "  % self.max_iter, ConvergenceWarning)\n",
      "/home/larissa/.local/lib/python3.5/site-packages/sklearn/neural_network/_multilayer_perceptron.py:571: ConvergenceWarning: Stochastic Optimizer: Maximum iterations (500) reached and the optimization hasn't converged yet.\n",
      "  % self.max_iter, ConvergenceWarning)\n",
      "/home/larissa/.local/lib/python3.5/site-packages/sklearn/neural_network/_multilayer_perceptron.py:571: ConvergenceWarning: Stochastic Optimizer: Maximum iterations (500) reached and the optimization hasn't converged yet.\n",
      "  % self.max_iter, ConvergenceWarning)\n",
      "/home/larissa/.local/lib/python3.5/site-packages/sklearn/neural_network/_multilayer_perceptron.py:571: ConvergenceWarning: Stochastic Optimizer: Maximum iterations (500) reached and the optimization hasn't converged yet.\n",
      "  % self.max_iter, ConvergenceWarning)\n",
      "/home/larissa/.local/lib/python3.5/site-packages/sklearn/neural_network/_multilayer_perceptron.py:571: ConvergenceWarning: Stochastic Optimizer: Maximum iterations (600) reached and the optimization hasn't converged yet.\n",
      "  % self.max_iter, ConvergenceWarning)\n",
      "/home/larissa/.local/lib/python3.5/site-packages/sklearn/neural_network/_multilayer_perceptron.py:571: ConvergenceWarning: Stochastic Optimizer: Maximum iterations (600) reached and the optimization hasn't converged yet.\n",
      "  % self.max_iter, ConvergenceWarning)\n",
      "/home/larissa/.local/lib/python3.5/site-packages/sklearn/neural_network/_multilayer_perceptron.py:571: ConvergenceWarning: Stochastic Optimizer: Maximum iterations (600) reached and the optimization hasn't converged yet.\n",
      "  % self.max_iter, ConvergenceWarning)\n",
      "/home/larissa/.local/lib/python3.5/site-packages/sklearn/neural_network/_multilayer_perceptron.py:571: ConvergenceWarning: Stochastic Optimizer: Maximum iterations (300) reached and the optimization hasn't converged yet.\n",
      "  % self.max_iter, ConvergenceWarning)\n",
      "/home/larissa/.local/lib/python3.5/site-packages/sklearn/neural_network/_multilayer_perceptron.py:571: ConvergenceWarning: Stochastic Optimizer: Maximum iterations (300) reached and the optimization hasn't converged yet.\n",
      "  % self.max_iter, ConvergenceWarning)\n",
      "/home/larissa/.local/lib/python3.5/site-packages/sklearn/neural_network/_multilayer_perceptron.py:571: ConvergenceWarning: Stochastic Optimizer: Maximum iterations (300) reached and the optimization hasn't converged yet.\n",
      "  % self.max_iter, ConvergenceWarning)\n",
      "/home/larissa/.local/lib/python3.5/site-packages/sklearn/neural_network/_multilayer_perceptron.py:571: ConvergenceWarning: Stochastic Optimizer: Maximum iterations (300) reached and the optimization hasn't converged yet.\n",
      "  % self.max_iter, ConvergenceWarning)\n",
      "/home/larissa/.local/lib/python3.5/site-packages/sklearn/neural_network/_multilayer_perceptron.py:571: ConvergenceWarning: Stochastic Optimizer: Maximum iterations (300) reached and the optimization hasn't converged yet.\n",
      "  % self.max_iter, ConvergenceWarning)\n",
      "/home/larissa/.local/lib/python3.5/site-packages/sklearn/neural_network/_multilayer_perceptron.py:571: ConvergenceWarning: Stochastic Optimizer: Maximum iterations (400) reached and the optimization hasn't converged yet.\n",
      "  % self.max_iter, ConvergenceWarning)\n",
      "/home/larissa/.local/lib/python3.5/site-packages/sklearn/neural_network/_multilayer_perceptron.py:571: ConvergenceWarning: Stochastic Optimizer: Maximum iterations (400) reached and the optimization hasn't converged yet.\n",
      "  % self.max_iter, ConvergenceWarning)\n",
      "/home/larissa/.local/lib/python3.5/site-packages/sklearn/neural_network/_multilayer_perceptron.py:573: UserWarning: Training interrupted by user.\n",
      "  warnings.warn(\"Training interrupted by user.\")\n",
      "/home/larissa/.local/lib/python3.5/site-packages/sklearn/neural_network/_multilayer_perceptron.py:571: ConvergenceWarning: Stochastic Optimizer: Maximum iterations (400) reached and the optimization hasn't converged yet.\n",
      "  % self.max_iter, ConvergenceWarning)\n",
      "/home/larissa/.local/lib/python3.5/site-packages/sklearn/neural_network/_multilayer_perceptron.py:571: ConvergenceWarning: Stochastic Optimizer: Maximum iterations (400) reached and the optimization hasn't converged yet.\n",
      "  % self.max_iter, ConvergenceWarning)\n",
      "/home/larissa/.local/lib/python3.5/site-packages/sklearn/neural_network/_multilayer_perceptron.py:571: ConvergenceWarning: Stochastic Optimizer: Maximum iterations (400) reached and the optimization hasn't converged yet.\n",
      "  % self.max_iter, ConvergenceWarning)\n",
      "/home/larissa/.local/lib/python3.5/site-packages/sklearn/neural_network/_multilayer_perceptron.py:571: ConvergenceWarning: Stochastic Optimizer: Maximum iterations (500) reached and the optimization hasn't converged yet.\n",
      "  % self.max_iter, ConvergenceWarning)\n",
      "/home/larissa/.local/lib/python3.5/site-packages/sklearn/neural_network/_multilayer_perceptron.py:571: ConvergenceWarning: Stochastic Optimizer: Maximum iterations (500) reached and the optimization hasn't converged yet.\n",
      "  % self.max_iter, ConvergenceWarning)\n"
     ]
    }
   ],
   "source": [
    "rede_neural = MLPClassifier()\n",
    "print(\"====== Iniciando busca pelos melhores parâmetros do algoritmo Redes neurais no dataset Teaching ....\\n\")\n",
    "param_dist = {'hidden_layer_sizes':list(np.arange(10,20)),'activation':['logistic','identity','tanh'], 'max_iter':[100,200,300,400],'alpha':[0.0001,0.001, 0.01, 0.1], 'solver':['sgd','adam']}\n",
    "grid_search = GridSearchCV(rede_neural, param_grid=param_dist, cv=kfold_ajuste_parametros, scoring='accuracy', refit=False)\n",
    "grid_search.fit(ecoli_values, ecoli_classes)\n",
    "redes_neurais_param = grid_search.best_params_\n",
    "print(\"Redes neurais: %s \\n\\n\" % redes_neurais_param)"
   ],
   "metadata": {
    "collapsed": false,
    "pycharm": {
     "name": "#%%\n",
     "is_executing": true
    }
   }
  },
  {
   "cell_type": "code",
   "execution_count": null,
   "metadata": {
    "pycharm": {
     "name": "#%%\n",
     "is_executing": true
    }
   },
   "outputs": [],
   "source": [
    "predicted_classes = dict()\n",
    "predicted_classes['arvore_decisao'] = np.zeros(ecoli_classes.shape)\n",
    "predicted_classes['vizinhos_proximos'] = np.zeros(ecoli_classes.shape)\n",
    "predicted_classes['naive_bayes_gaussian'] = np.zeros(ecoli_classes.shape)\n",
    "predicted_classes['regressao_logistica'] = np.zeros(ecoli_classes.shape)\n",
    "predicted_classes['rede_neural'] = np.zeros(ecoli_classes.shape)\n",
    "\n",
    "arvore_decisao_best_param = DecisionTreeClassifier(**decisionTreeBestParams)\n",
    "knn_vizinhos_proximos_best_param = KNeighborsClassifier(**knnBestParams)\n",
    "naive_bayes_gaussian = GaussianNB()\n",
    "regressao_logistica_best_param = LogisticRegression(**regressao_logistica_param)\n",
    "rede_neural_best_param = MLPClassifier(**redes_neurais_param)"
   ]
  },
  {
   "cell_type": "code",
   "execution_count": null,
   "metadata": {
    "pycharm": {
     "name": "#%%\n",
     "is_executing": true
    }
   },
   "outputs": [],
   "source": [
    "for train, test in kfold_treinamento.split(ecoli_values, ecoli_classes):\n",
    "    data_train, target_train = ecoli_values[train], ecoli_classes[train]\n",
    "    data_test, target_test = ecoli_values[test], ecoli_classes[test]\n",
    "\n",
    "    arvore_decisao = arvore_decisao.fit(data_train, target_train)\n",
    "    arvore_decisao_predicted = arvore_decisao.predict(data_test)\n",
    "    predicted_classes['arvore_decisao'][test] = arvore_decisao_predicted\n",
    "\n",
    "    vizinhos_proximos = vizinhos_proximos.fit(data_train, target_train)\n",
    "    vizinhos_proximos_predicted = vizinhos_proximos.predict(data_test)\n",
    "    predicted_classes['vizinhos_proximos'][test] = vizinhos_proximos_predicted\n",
    "\n",
    "    naive_bayes_gaussian = naive_bayes_gaussian.fit(data_train, target_train)\n",
    "    naive_bayes_gaussian_predicted = naive_bayes_gaussian.predict(data_test)\n",
    "    predicted_classes['naive_bayes_gaussian'][test] = naive_bayes_gaussian_predicted\n",
    "\n",
    "    regressao_logistica = regressao_logistica.fit(data_train, target_train)\n",
    "    regressao_logistica_predicted = regressao_logistica.predict(data_test)\n",
    "    predicted_classes['regressao_logistica'][test] = regressao_logistica_predicted\n",
    "\n",
    "    rede_neural = rede_neural.fit(data_train, target_train)\n",
    "    rede_neural_predicted = rede_neural.predict(data_test)\n",
    "    predicted_classes['rede_neural'][test] = rede_neural_predicted"
   ]
  },
  {
   "cell_type": "code",
   "execution_count": null,
   "metadata": {
    "pycharm": {
     "name": "#%%\n",
     "is_executing": true
    }
   },
   "outputs": [],
   "source": [
    "for classificador in predicted_classes.keys():\n",
    "    print(\"================================================================================================\")\n",
    "    print(\"Resultados do classificador %s\\n%s\\n\"\n",
    "          %(classificador, metrics.classification_report(ecoli_classes, predicted_classes[classificador])))\n",
    "    print(\"Matriz de confusão: \\n%s\\n\\n\\n\" % metrics.confusion_matrix(ecoli_classes, predicted_classes[classificador]))\n",
    "\n"
   ]
  }
 ],
 "metadata": {
  "kernelspec": {
   "display_name": "Python 3",
   "language": "python",
   "name": "python3"
  },
  "language_info": {
   "codemirror_mode": {
    "name": "ipython",
    "version": 3
   },
   "file_extension": ".py",
   "mimetype": "text/x-python",
   "name": "python",
   "nbconvert_exporter": "python",
   "pygments_lexer": "ipython3",
   "version": "3.5.2"
  }
 },
 "nbformat": 4,
 "nbformat_minor": 1
}